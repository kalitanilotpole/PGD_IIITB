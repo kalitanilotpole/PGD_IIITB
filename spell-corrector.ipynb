{
 "cells": [
  {
   "cell_type": "code",
   "execution_count": 1,
   "metadata": {},
   "outputs": [],
   "source": [
    "import re\n",
    "from collections import Counter"
   ]
  },
  {
   "cell_type": "code",
   "execution_count": 2,
   "metadata": {},
   "outputs": [],
   "source": [
    "# function to tokenise words\n",
    "def words(document):\n",
    "    \"Convert text to lower case and tokenise the document\"\n",
    "    return re.findall(r'\\w+', document.lower())"
   ]
  },
  {
   "cell_type": "code",
   "execution_count": 3,
   "metadata": {},
   "outputs": [],
   "source": [
    "# create a frequency table of all the words of the document\n",
    "all_words = Counter(words(open('big.txt').read()))"
   ]
  },
  {
   "cell_type": "code",
   "execution_count": 4,
   "metadata": {},
   "outputs": [
    {
     "data": {
      "text/plain": [
       "66"
      ]
     },
     "execution_count": 4,
     "metadata": {},
     "output_type": "execute_result"
    }
   ],
   "source": [
    "# check frequency of a random word, say, 'chair'\n",
    "all_words['chair']"
   ]
  },
  {
   "cell_type": "code",
   "execution_count": 10,
   "metadata": {},
   "outputs": [
    {
     "data": {
      "text/plain": [
       "[('the', 44522),\n",
       " ('of', 24091),\n",
       " ('and', 15755),\n",
       " ('in', 12629),\n",
       " ('to', 11852),\n",
       " ('a', 10406),\n",
       " ('is', 6277),\n",
       " ('it', 5004),\n",
       " ('that', 4265),\n",
       " ('by', 4192)]"
      ]
     },
     "execution_count": 10,
     "metadata": {},
     "output_type": "execute_result"
    }
   ],
   "source": [
    "# look at top 10 frequent words\n",
    "all_words.most_common(10)"
   ]
  },
  {
   "cell_type": "code",
   "execution_count": 20,
   "metadata": {},
   "outputs": [],
   "source": [
    "def edits_one(word):\n",
    "    \"Create all edits that are one edit away from `word`.\"\n",
    "    alphabets    = 'abcdefghijklmnopqrstuvwxyz'\n",
    "    splits     = [(word[:i], word[i:])                   for i in range(len(word) + 1)]\n",
    "    deletes    = [left + right[1:]                       for left, right in splits if right]\n",
    "    inserts    = [left + c + right                       for left, right in splits for c in alphabets]\n",
    "    replaces   = [left + c + right[1:]                   for left, right in splits if right for c in alphabets]\n",
    "    transposes = [left + right[1] + right[0] + right[2:] for left, right in splits if len(right)>1]\n",
    "    return set(deletes + inserts + replaces + transposes)"
   ]
  },
  {
   "cell_type": "code",
   "execution_count": 22,
   "metadata": {},
   "outputs": [],
   "source": [
    "def edits_two(word):\n",
    "    \"Create all edits that are two edits away from `word`.\"\n",
    "    return (e2 for e1 in edits_one(word) for e2 in edits_one(e1))"
   ]
  },
  {
   "cell_type": "code",
   "execution_count": 23,
   "metadata": {},
   "outputs": [
    {
     "data": {
      "text/plain": [
       "<generator object edits_two.<locals>.<genexpr> at 0x0000023ECDB3C510>"
      ]
     },
     "execution_count": 23,
     "metadata": {},
     "output_type": "execute_result"
    }
   ],
   "source": [
    "edits_two('nilotpole')"
   ]
  },
  {
   "cell_type": "code",
   "execution_count": 13,
   "metadata": {},
   "outputs": [],
   "source": [
    "def known(words):\n",
    "    \"The subset of `words` that appear in the `all_words`.\"\n",
    "    return set(word for word in words if word in all_words)"
   ]
  },
  {
   "cell_type": "code",
   "execution_count": 14,
   "metadata": {},
   "outputs": [],
   "source": [
    "def possible_corrections(word):\n",
    "    \"Generate possible spelling corrections for word.\"\n",
    "    return (known([word]) or known(edits_one(word)) or known(edits_two(word)) or [word])"
   ]
  },
  {
   "cell_type": "code",
   "execution_count": 15,
   "metadata": {},
   "outputs": [],
   "source": [
    "def prob(word, N=sum(all_words.values())): \n",
    "    \"Probability of `word`: Number of appearances of 'word' / total number of tokens\"\n",
    "    return all_words[word] / N"
   ]
  },
  {
   "cell_type": "code",
   "execution_count": 16,
   "metadata": {},
   "outputs": [
    {
     "name": "stdout",
     "output_type": "stream",
     "text": [
      "336\n",
      "{'monntey', 'muonney', 'monneny', 'maonney', 'mokney', 'monnpy', 'imonney', 'monncy', 'bmonney', 'mofnney', 'monnecy', 'mwonney', 'monnes', 'monjey', 'monner', 'lonney', 'monneyp', 'mwnney', 'mbnney', 'jonney', 'monnee', 'mlonney', 'monnep', 'monnay', 'wonney', 'monnef', 'mouney', 'lmonney', 'mronney', 'monneyw', 'mnoney', 'monxney', 'monngey', 'monnqy', 'mnney', 'mjnney', 'mohney', 'monnej', 'mkonney', 'monnemy', 'mbonney', 'monnyey', 'mopney', 'monley', 'monned', 'moneey', 'monnmy', 'momnney', 'monncey', 'monnfy', 'monhey', 'movney', 'monnry', 'jmonney', 'mlnney', 'moeney', 'ronney', 'mionney', 'monnye', 'moniney', 'momney', 'moqnney', 'monnky', 'monfney', 'onney', 'monneb', 'monrney', 'monnsey', 'monvney', 'nonney', 'moznney', 'monxey', 'mconney', 'mhnney', 'monaey', 'moncey', 'monfey', 'mvnney', 'monneqy', 'mogney', 'minney', 'moyney', 'monnaey', 'monneym', 'emonney', 'monneys', 'mqonney', 'mondey', 'monnbey', 'monnen', 'mrnney', 'mjonney', 'omonney', 'monney', 'sonney', 'monneyl', 'moneney', 'manney', 'monnejy', 'gonney', 'mdnney', 'yonney', 'cmonney', 'money', 'moiney', 'monnehy', 'monnepy', 'mownney', 'mcnney', 'monqney', 'moaney', 'monneye', 'monnqey', 'moxney', 'monneyb', 'monneya', 'mosnney', 'monnby', 'mongney', 'monneay', 'monny', 'monpey', 'mtonney', 'xmonney', 'monnefy', 'monnel', 'monaney', 'monnet', 'moynney', 'fonney', 'mpnney', 'mgnney', 'konney', 'monnfey', 'kmonney', 'montey', 'qonney', 'ionney', 'monneyo', 'monwey', 'monvey', 'msonney', 'montney', 'meonney', 'gmonney', 'monnoy', 'mooney', 'monnev', 'conney', 'monngy', 'monnpey', 'monqey', 'morney', 'rmonney', 'movnney', 'monne', 'monniey', 'mtnney', 'mxnney', 'tonney', 'vmonney', 'mmonney', 'uonney', 'mnnney', 'honney', 'monniy', 'moncney', 'monneyc', 'monhney', 'monnly', 'umonney', 'monnexy', 'monnesy', 'monnedy', 'mhonney', 'monneh', 'monnek', 'monnery', 'monneo', 'monnkey', 'monsney', 'molney', 'moenney', 'monnez', 'monyney', 'monnxey', 'monjney', 'monnely', 'monneyt', 'smonney', 'mognney', 'mosney', 'omnney', 'vonney', 'mowney', 'mzonney', 'mononey', 'monnety', 'monnny', 'monneyj', 'mounney', 'mongey', 'monnew', 'pmonney', 'moxnney', 'monneyf', 'modnney', 'monnoey', 'mornney', 'monmey', 'moqney', 'modney', 'monneyn', 'oonney', 'monnrey', 'mfnney', 'menney', 'mocney', 'eonney', 'monnuy', 'mqnney', 'monkney', 'mgonney', 'monnzy', 'monnec', 'monnewy', 'xonney', 'monnhy', 'zmonney', 'monnei', 'monnvey', 'monwney', 'monnley', 'fmonney', 'monnwey', 'monneby', 'monneyg', 'monmney', 'amonney', 'mfonney', 'monneyk', 'monneq', 'monneyz', 'mxonney', 'monnty', 'mnonney', 'monneyr', 'monnex', 'monnezy', 'monyey', 'bonney', 'msnney', 'wmonney', 'monnyy', 'monnsy', 'monnevy', 'monneuy', 'monneyd', 'moknney', 'monnney', 'mponney', 'mobney', 'monoey', 'monneyu', 'monnxy', 'ponney', 'monlney', 'monnmey', 'mopnney', 'motnney', 'monrey', 'mohnney', 'monneyi', 'mofney', 'motney', 'monneoy', 'monbey', 'mojnney', 'monneyq', 'moneny', 'mynney', 'monpney', 'mdonney', 'nmonney', 'monuey', 'moniey', 'monzey', 'monnzey', 'aonney', 'mobnney', 'mondney', 'moinney', 'monnegy', 'zonney', 'mozney', 'monsey', 'mznney', 'monnuey', 'mmnney', 'monneu', 'monzney', 'qmonney', 'monneyv', 'monneyx', 'monkey', 'molnney', 'monuney', 'monneey', 'dmonney', 'monnhey', 'monnvy', 'ymonney', 'moonney', 'donney', 'tmonney', 'monndy', 'monndey', 'monnwy', 'monnjey', 'monnea', 'mvonney', 'mknney', 'myonney', 'monneyy', 'monbney', 'munney', 'monnjy', 'moanney', 'mocnney', 'hmonney', 'monneyh', 'monneky', 'monneg', 'mojney', 'monnem', 'monneiy'}\n"
     ]
    }
   ],
   "source": [
    "print(len(set(edits_one(\"monney\"))))\n",
    "print(edits_one(\"monney\"))"
   ]
  },
  {
   "cell_type": "code",
   "execution_count": 17,
   "metadata": {},
   "outputs": [
    {
     "name": "stdout",
     "output_type": "stream",
     "text": [
      "{'money'}\n"
     ]
    }
   ],
   "source": [
    "print(known(edits_one(\"monney\")))"
   ]
  },
  {
   "cell_type": "code",
   "execution_count": 18,
   "metadata": {},
   "outputs": [
    {
     "name": "stdout",
     "output_type": "stream",
     "text": [
      "51013\n",
      "{'money'}\n"
     ]
    }
   ],
   "source": [
    "# Let's look at words that are two edits away\n",
    "print(len(set(edits_two(\"monney\"))))\n",
    "print(known(edits_one(\"monney\")))"
   ]
  },
  {
   "cell_type": "code",
   "execution_count": 19,
   "metadata": {},
   "outputs": [
    {
     "name": "stdout",
     "output_type": "stream",
     "text": [
      "{'money'}\n"
     ]
    }
   ],
   "source": [
    "# Let's look at possible corrections of a word\n",
    "print(possible_corrections(\"monney\"))"
   ]
  },
  {
   "cell_type": "code",
   "execution_count": 20,
   "metadata": {},
   "outputs": [
    {
     "name": "stdout",
     "output_type": "stream",
     "text": [
      "0.0003688292222608054\n",
      "0.0\n"
     ]
    }
   ],
   "source": [
    "# Let's look at probability of a word\n",
    "print(prob(\"money\"))\n",
    "print(prob(\"monkey\"))"
   ]
  },
  {
   "cell_type": "code",
   "execution_count": 21,
   "metadata": {},
   "outputs": [],
   "source": [
    "def spell_check(word):\n",
    "    \"Print the most probable spelling correction for `word` out of all the `possible_corrections`\"\n",
    "    correct_word = max(possible_corrections(word), key=prob)\n",
    "    if correct_word != word:\n",
    "        return \"Did you mean \" + correct_word + \"?\"\n",
    "    else:\n",
    "        return \"Correct spelling.\""
   ]
  },
  {
   "cell_type": "code",
   "execution_count": 22,
   "metadata": {},
   "outputs": [
    {
     "name": "stdout",
     "output_type": "stream",
     "text": [
      "Did you mean money?\n"
     ]
    }
   ],
   "source": [
    "# test spell check\n",
    "print(spell_check(\"monney\"))"
   ]
  },
  {
   "cell_type": "code",
   "execution_count": 28,
   "metadata": {},
   "outputs": [
    {
     "name": "stdout",
     "output_type": "stream",
     "text": [
      "1\n"
     ]
    }
   ],
   "source": [
    "print(len(possible_corrections('emfasize')))"
   ]
  },
  {
   "cell_type": "code",
   "execution_count": 34,
   "metadata": {},
   "outputs": [
    {
     "name": "stdout",
     "output_type": "stream",
     "text": [
      "nilotpole\n"
     ]
    }
   ],
   "source": [
    "from spell_corrector import rectify\n",
    "correct = rectify(\"nilotpole\")\n",
    "print(correct)"
   ]
  },
  {
   "cell_type": "code",
   "execution_count": null,
   "metadata": {},
   "outputs": [],
   "source": []
  }
 ],
 "metadata": {
  "kernelspec": {
   "display_name": "Python 3",
   "language": "python",
   "name": "python3"
  },
  "language_info": {
   "codemirror_mode": {
    "name": "ipython",
    "version": 3
   },
   "file_extension": ".py",
   "mimetype": "text/x-python",
   "name": "python",
   "nbconvert_exporter": "python",
   "pygments_lexer": "ipython3",
   "version": "3.8.5"
  }
 },
 "nbformat": 4,
 "nbformat_minor": 2
}
