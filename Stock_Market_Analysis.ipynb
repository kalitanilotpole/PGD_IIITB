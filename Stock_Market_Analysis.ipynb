{
 "cells": [
  {
   "cell_type": "code",
   "execution_count": 1,
   "metadata": {},
   "outputs": [],
   "source": [
    "import pandas_datareader as data\n",
    "import pandas as pd\n",
    "from datetime import datetime as dt\n",
    "import requests\n",
    "from bs4 import BeautifulSoup\n",
    "from dateutil.relativedelta import relativedelta"
   ]
  },
  {
   "cell_type": "code",
   "execution_count": null,
   "metadata": {},
   "outputs": [],
   "source": [
    "html = requests.get('https://www.nseindia.com/market-data/live-equity-market').text\n",
    "soup = BeautifulSoup(html, html.parser)\n",
    "companyName = [x.get_text(strip = True) for x in soup.find_all('div', {'class' : 'company-name'})][:10]\n",
    "companyCode = [x.get_text(strip = True) for x in soup.find_all('div', {'class' : 'company-code'})][:10]"
   ]
  },
  {
   "cell_type": "code",
   "execution_count": null,
   "metadata": {},
   "outputs": [],
   "source": []
  }
 ],
 "metadata": {
  "kernelspec": {
   "display_name": "Python 3",
   "language": "python",
   "name": "python3"
  },
  "language_info": {
   "codemirror_mode": {
    "name": "ipython",
    "version": 3
   },
   "file_extension": ".py",
   "mimetype": "text/x-python",
   "name": "python",
   "nbconvert_exporter": "python",
   "pygments_lexer": "ipython3",
   "version": "3.8.5"
  }
 },
 "nbformat": 4,
 "nbformat_minor": 4
}
