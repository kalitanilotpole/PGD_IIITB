{
 "cells": [
  {
   "cell_type": "markdown",
   "metadata": {
    "id": "XiWkqR6nCroy"
   },
   "source": [
    "# **Automatic Ticket Classification**"
   ]
  },
  {
   "cell_type": "code",
   "execution_count": 1,
   "metadata": {
    "colab": {
     "base_uri": "https://localhost:8080/"
    },
    "executionInfo": {
     "elapsed": 22201,
     "status": "ok",
     "timestamp": 1634879907499,
     "user": {
      "displayName": "Gagan Saini",
      "photoUrl": "https://lh3.googleusercontent.com/a/default-user=s64",
      "userId": "13559974833695172939"
     },
     "user_tz": -330
    },
    "id": "VmUvdl36aid2",
    "outputId": "d1aa6a66-0255-471d-b362-7d71686dcda2"
   },
   "outputs": [
    {
     "name": "stdout",
     "output_type": "stream",
     "text": [
      "Mounted at /content/drive\n"
     ]
    }
   ],
   "source": [
    "from google.colab import drive\n",
    "drive.mount('/content/drive')"
   ]
  },
  {
   "cell_type": "markdown",
   "metadata": {
    "id": "mcgXVNyaLUFS"
   },
   "source": [
    "## Pipelines that needs to be performed:\n",
    "\n",
    "You need to perform the following eight major tasks to complete the assignment:\n",
    "\n",
    "1.  Data loading\n",
    "\n",
    "2. Text preprocessing\n",
    "\n",
    "3. Exploratory data analysis (EDA)\n",
    "\n",
    "4. Feature extraction\n",
    "\n",
    "5. Topic modelling \n",
    "\n",
    "6. Model building using supervised learning\n",
    "\n",
    "7. Model training and evaluation\n",
    "\n",
    "8. Model inference"
   ]
  },
  {
   "cell_type": "markdown",
   "metadata": {
    "id": "rhR-ZUkwJrFn"
   },
   "source": [
    "## Problem Statement \n",
    "\n",
    "You need to build a model that is able to classify customer complaints based on the products/services. By doing so, you can segregate these tickets into their relevant categories and, therefore, help in the quick resolution of the issue.\n",
    "\n",
    "You will be doing topic modelling on the <b>.json</b> data provided by the company. Since this data is not labelled, you need to apply NMF to analyse patterns and classify tickets into the following five clusters based on their products/services:\n",
    "\n",
    "* Credit card / Prepaid card\n",
    "\n",
    "* Bank account services\n",
    "\n",
    "* Theft/Dispute reporting\n",
    "\n",
    "* Mortgages/loans\n",
    "\n",
    "* Others \n",
    "\n",
    "\n",
    "With the help of topic modelling, you will be able to map each ticket onto its respective department/category. You can then use this data to train any supervised model such as logistic regression, decision tree or random forest. Using this trained model, you can classify any new customer complaint support ticket into its relevant department."
   ]
  },
  {
   "cell_type": "markdown",
   "metadata": {
    "id": "JuLFIymAL58u"
   },
   "source": [
    "## Importing the necessary libraries"
   ]
  },
  {
   "cell_type": "code",
   "execution_count": 1,
   "metadata": {
    "colab": {
     "base_uri": "https://localhost:8080/"
    },
    "executionInfo": {
     "elapsed": 4509,
     "status": "ok",
     "timestamp": 1634879912002,
     "user": {
      "displayName": "Gagan Saini",
      "photoUrl": "https://lh3.googleusercontent.com/a/default-user=s64",
      "userId": "13559974833695172939"
     },
     "user_tz": -330
    },
    "id": "O-Q9pqrcJrFr",
    "outputId": "cfc9f080-a73e-4d40-e23e-95dff91fe5f8"
   },
   "outputs": [
    {
     "name": "stderr",
     "output_type": "stream",
     "text": [
      "[nltk_data] Downloading package wordnet to\n",
      "[nltk_data]     C:\\Users\\kalitanilotpole\\AppData\\Roaming\\nltk_data...\n",
      "[nltk_data]   Package wordnet is already up-to-date!\n",
      "[nltk_data] Downloading package stopwords to\n",
      "[nltk_data]     C:\\Users\\kalitanilotpole\\AppData\\Roaming\\nltk_data...\n",
      "[nltk_data]   Unzipping corpora\\stopwords.zip.\n",
      "[nltk_data] Downloading package punkt to\n",
      "[nltk_data]     C:\\Users\\kalitanilotpole\\AppData\\Roaming\\nltk_data...\n",
      "[nltk_data]   Package punkt is already up-to-date!\n"
     ]
    },
    {
     "data": {
      "text/plain": [
       "True"
      ]
     },
     "execution_count": 1,
     "metadata": {},
     "output_type": "execute_result"
    }
   ],
   "source": [
    "import json\n",
    "import numpy as np\n",
    "import pandas as pd\n",
    "import re, nltk, spacy, string\n",
    "import en_core_web_sm\n",
    "nlp = en_core_web_sm.load()\n",
    "import seaborn as sns\n",
    "import matplotlib.pyplot as plt\n",
    "%matplotlib inline\n",
    "\n",
    "from plotly.offline import plot\n",
    "import plotly.graph_objects as go\n",
    "import plotly.express as px\n",
    "\n",
    "from sklearn import decomposition\n",
    "from sklearn.feature_extraction.text import CountVectorizer, TfidfVectorizer\n",
    "from pprint import pprint\n",
    "\n",
    "from nltk.stem import WordNetLemmatizer\n",
    "from nltk.corpus import stopwords\n",
    "from nltk.tokenize import word_tokenize\n",
    "\n",
    "nltk.download('wordnet')\n",
    "nltk.download('stopwords')\n",
    "nltk.download('punkt')"
   ]
  },
  {
   "cell_type": "markdown",
   "metadata": {
    "id": "KtRLCsNVJrFt"
   },
   "source": [
    "## Loading the data\n",
    "\n",
    "The data is in JSON format and we need to convert it to a dataframe."
   ]
  },
  {
   "cell_type": "code",
   "execution_count": 3,
   "metadata": {
    "executionInfo": {
     "elapsed": 7,
     "status": "ok",
     "timestamp": 1634879912003,
     "user": {
      "displayName": "Gagan Saini",
      "photoUrl": "https://lh3.googleusercontent.com/a/default-user=s64",
      "userId": "13559974833695172939"
     },
     "user_tz": -330
    },
    "id": "Sm8UyH2tDlpD"
   },
   "outputs": [],
   "source": [
    "# from google.colab import files\n",
    "# uploaded = files.upload()"
   ]
  },
  {
   "cell_type": "code",
   "execution_count": 4,
   "metadata": {
    "colab": {
     "base_uri": "https://localhost:8080/"
    },
    "executionInfo": {
     "elapsed": 3399,
     "status": "ok",
     "timestamp": 1634879915396,
     "user": {
      "displayName": "Gagan Saini",
      "photoUrl": "https://lh3.googleusercontent.com/a/default-user=s64",
      "userId": "13559974833695172939"
     },
     "user_tz": -330
    },
    "id": "rDCDBjQJPxEb",
    "outputId": "8901ffcc-ea8e-49df-8b53-e8016fd22a2f"
   },
   "outputs": [
    {
     "name": "stdout",
     "output_type": "stream",
     "text": [
      "Downloading...\n",
      "From: https://drive.google.com/uc?id=1Y4Yzh1uTLIBLnJq1_QvoosFx9giiR1_K\n",
      "To: /content/complaints-2021-05-14_08_16.json\n",
      "100% 83.4M/83.4M [00:00<00:00, 201MB/s]\n"
     ]
    }
   ],
   "source": [
    "!gdown --id 1Y4Yzh1uTLIBLnJq1_QvoosFx9giiR1_K"
   ]
  },
  {
   "cell_type": "code",
   "execution_count": 3,
   "metadata": {
    "executionInfo": {
     "elapsed": 7,
     "status": "ok",
     "timestamp": 1634879915397,
     "user": {
      "displayName": "Gagan Saini",
      "photoUrl": "https://lh3.googleusercontent.com/a/default-user=s64",
      "userId": "13559974833695172939"
     },
     "user_tz": -330
    },
    "id": "puVzIf_iJrFt"
   },
   "outputs": [],
   "source": [
    "# Opening JSON file \n",
    "f = open('C:/Users/kalitanilotpole/Desktop/upGrad/NLP/Automatic_Ticket_Classification_Assignment/complaints-2021-05-14_08_16.json')  \n",
    "# Write the path to your data file and load it  \n",
    "# returns JSON object as  \n",
    "# a dictionary \n"
   ]
  },
  {
   "cell_type": "markdown",
   "metadata": {
    "id": "_xYpH-sAJrFu"
   },
   "source": [
    "## Data preparation"
   ]
  },
  {
   "cell_type": "code",
   "execution_count": 4,
   "metadata": {
    "executionInfo": {
     "elapsed": 8576,
     "status": "ok",
     "timestamp": 1634879923967,
     "user": {
      "displayName": "Gagan Saini",
      "photoUrl": "https://lh3.googleusercontent.com/a/default-user=s64",
      "userId": "13559974833695172939"
     },
     "user_tz": -330
    },
    "id": "FnnlfiT9mzCf"
   },
   "outputs": [],
   "source": [
    "data = json.load(f)\n",
    "df = pd.json_normalize(data)"
   ]
  },
  {
   "cell_type": "code",
   "execution_count": 5,
   "metadata": {
    "colab": {
     "base_uri": "https://localhost:8080/",
     "height": 634
    },
    "executionInfo": {
     "elapsed": 30,
     "status": "ok",
     "timestamp": 1634879923968,
     "user": {
      "displayName": "Gagan Saini",
      "photoUrl": "https://lh3.googleusercontent.com/a/default-user=s64",
      "userId": "13559974833695172939"
     },
     "user_tz": -330
    },
    "id": "Lf8ufHH5JrFu",
    "outputId": "fc5fa54a-9904-4f9c-a284-77a0ccdf538a"
   },
   "outputs": [
    {
     "data": {
      "text/html": [
       "<div>\n",
       "<style scoped>\n",
       "    .dataframe tbody tr th:only-of-type {\n",
       "        vertical-align: middle;\n",
       "    }\n",
       "\n",
       "    .dataframe tbody tr th {\n",
       "        vertical-align: top;\n",
       "    }\n",
       "\n",
       "    .dataframe thead th {\n",
       "        text-align: right;\n",
       "    }\n",
       "</style>\n",
       "<table border=\"1\" class=\"dataframe\">\n",
       "  <thead>\n",
       "    <tr style=\"text-align: right;\">\n",
       "      <th></th>\n",
       "      <th>_index</th>\n",
       "      <th>_type</th>\n",
       "      <th>_id</th>\n",
       "      <th>_score</th>\n",
       "      <th>_source.tags</th>\n",
       "      <th>_source.zip_code</th>\n",
       "      <th>_source.complaint_id</th>\n",
       "      <th>_source.issue</th>\n",
       "      <th>_source.date_received</th>\n",
       "      <th>_source.state</th>\n",
       "      <th>...</th>\n",
       "      <th>_source.company_response</th>\n",
       "      <th>_source.company</th>\n",
       "      <th>_source.submitted_via</th>\n",
       "      <th>_source.date_sent_to_company</th>\n",
       "      <th>_source.company_public_response</th>\n",
       "      <th>_source.sub_product</th>\n",
       "      <th>_source.timely</th>\n",
       "      <th>_source.complaint_what_happened</th>\n",
       "      <th>_source.sub_issue</th>\n",
       "      <th>_source.consumer_consent_provided</th>\n",
       "    </tr>\n",
       "  </thead>\n",
       "  <tbody>\n",
       "    <tr>\n",
       "      <th>0</th>\n",
       "      <td>complaint-public-v2</td>\n",
       "      <td>complaint</td>\n",
       "      <td>3211475</td>\n",
       "      <td>0.0</td>\n",
       "      <td>None</td>\n",
       "      <td>90301</td>\n",
       "      <td>3211475</td>\n",
       "      <td>Attempts to collect debt not owed</td>\n",
       "      <td>2019-04-13T12:00:00-05:00</td>\n",
       "      <td>CA</td>\n",
       "      <td>...</td>\n",
       "      <td>Closed with explanation</td>\n",
       "      <td>JPMORGAN CHASE &amp; CO.</td>\n",
       "      <td>Web</td>\n",
       "      <td>2019-04-13T12:00:00-05:00</td>\n",
       "      <td>None</td>\n",
       "      <td>Credit card debt</td>\n",
       "      <td>Yes</td>\n",
       "      <td></td>\n",
       "      <td>Debt is not yours</td>\n",
       "      <td>Consent not provided</td>\n",
       "    </tr>\n",
       "    <tr>\n",
       "      <th>1</th>\n",
       "      <td>complaint-public-v2</td>\n",
       "      <td>complaint</td>\n",
       "      <td>3229299</td>\n",
       "      <td>0.0</td>\n",
       "      <td>Servicemember</td>\n",
       "      <td>319XX</td>\n",
       "      <td>3229299</td>\n",
       "      <td>Written notification about debt</td>\n",
       "      <td>2019-05-01T12:00:00-05:00</td>\n",
       "      <td>GA</td>\n",
       "      <td>...</td>\n",
       "      <td>Closed with explanation</td>\n",
       "      <td>JPMORGAN CHASE &amp; CO.</td>\n",
       "      <td>Web</td>\n",
       "      <td>2019-05-01T12:00:00-05:00</td>\n",
       "      <td>None</td>\n",
       "      <td>Credit card debt</td>\n",
       "      <td>Yes</td>\n",
       "      <td>Good morning my name is XXXX XXXX and I apprec...</td>\n",
       "      <td>Didn't receive enough information to verify debt</td>\n",
       "      <td>Consent provided</td>\n",
       "    </tr>\n",
       "    <tr>\n",
       "      <th>2</th>\n",
       "      <td>complaint-public-v2</td>\n",
       "      <td>complaint</td>\n",
       "      <td>3199379</td>\n",
       "      <td>0.0</td>\n",
       "      <td>None</td>\n",
       "      <td>77069</td>\n",
       "      <td>3199379</td>\n",
       "      <td>Other features, terms, or problems</td>\n",
       "      <td>2019-04-02T12:00:00-05:00</td>\n",
       "      <td>TX</td>\n",
       "      <td>...</td>\n",
       "      <td>Closed with explanation</td>\n",
       "      <td>JPMORGAN CHASE &amp; CO.</td>\n",
       "      <td>Web</td>\n",
       "      <td>2019-04-02T12:00:00-05:00</td>\n",
       "      <td>None</td>\n",
       "      <td>General-purpose credit card or charge card</td>\n",
       "      <td>Yes</td>\n",
       "      <td>I upgraded my XXXX XXXX card in XX/XX/2018 and...</td>\n",
       "      <td>Problem with rewards from credit card</td>\n",
       "      <td>Consent provided</td>\n",
       "    </tr>\n",
       "    <tr>\n",
       "      <th>3</th>\n",
       "      <td>complaint-public-v2</td>\n",
       "      <td>complaint</td>\n",
       "      <td>2673060</td>\n",
       "      <td>0.0</td>\n",
       "      <td>None</td>\n",
       "      <td>48066</td>\n",
       "      <td>2673060</td>\n",
       "      <td>Trouble during payment process</td>\n",
       "      <td>2017-09-13T12:00:00-05:00</td>\n",
       "      <td>MI</td>\n",
       "      <td>...</td>\n",
       "      <td>Closed with explanation</td>\n",
       "      <td>JPMORGAN CHASE &amp; CO.</td>\n",
       "      <td>Web</td>\n",
       "      <td>2017-09-14T12:00:00-05:00</td>\n",
       "      <td>None</td>\n",
       "      <td>Conventional home mortgage</td>\n",
       "      <td>Yes</td>\n",
       "      <td></td>\n",
       "      <td>None</td>\n",
       "      <td>Consent not provided</td>\n",
       "    </tr>\n",
       "    <tr>\n",
       "      <th>4</th>\n",
       "      <td>complaint-public-v2</td>\n",
       "      <td>complaint</td>\n",
       "      <td>3203545</td>\n",
       "      <td>0.0</td>\n",
       "      <td>None</td>\n",
       "      <td>10473</td>\n",
       "      <td>3203545</td>\n",
       "      <td>Fees or interest</td>\n",
       "      <td>2019-04-05T12:00:00-05:00</td>\n",
       "      <td>NY</td>\n",
       "      <td>...</td>\n",
       "      <td>Closed with explanation</td>\n",
       "      <td>JPMORGAN CHASE &amp; CO.</td>\n",
       "      <td>Referral</td>\n",
       "      <td>2019-04-05T12:00:00-05:00</td>\n",
       "      <td>None</td>\n",
       "      <td>General-purpose credit card or charge card</td>\n",
       "      <td>Yes</td>\n",
       "      <td></td>\n",
       "      <td>Charged too much interest</td>\n",
       "      <td>N/A</td>\n",
       "    </tr>\n",
       "    <tr>\n",
       "      <th>5</th>\n",
       "      <td>complaint-public-v2</td>\n",
       "      <td>complaint</td>\n",
       "      <td>3275312</td>\n",
       "      <td>0.0</td>\n",
       "      <td>Older American</td>\n",
       "      <td>48227</td>\n",
       "      <td>3275312</td>\n",
       "      <td>Managing an account</td>\n",
       "      <td>2019-06-13T12:00:00-05:00</td>\n",
       "      <td>MI</td>\n",
       "      <td>...</td>\n",
       "      <td>Closed with monetary relief</td>\n",
       "      <td>JPMORGAN CHASE &amp; CO.</td>\n",
       "      <td>Referral</td>\n",
       "      <td>2019-06-14T12:00:00-05:00</td>\n",
       "      <td>None</td>\n",
       "      <td>Checking account</td>\n",
       "      <td>Yes</td>\n",
       "      <td></td>\n",
       "      <td>Problem using a debit or ATM card</td>\n",
       "      <td>N/A</td>\n",
       "    </tr>\n",
       "    <tr>\n",
       "      <th>6</th>\n",
       "      <td>complaint-public-v2</td>\n",
       "      <td>complaint</td>\n",
       "      <td>3238804</td>\n",
       "      <td>0.0</td>\n",
       "      <td>None</td>\n",
       "      <td>76262</td>\n",
       "      <td>3238804</td>\n",
       "      <td>Managing an account</td>\n",
       "      <td>2019-05-10T12:00:00-05:00</td>\n",
       "      <td>TX</td>\n",
       "      <td>...</td>\n",
       "      <td>Closed with monetary relief</td>\n",
       "      <td>JPMORGAN CHASE &amp; CO.</td>\n",
       "      <td>Phone</td>\n",
       "      <td>2019-05-10T12:00:00-05:00</td>\n",
       "      <td>None</td>\n",
       "      <td>Checking account</td>\n",
       "      <td>Yes</td>\n",
       "      <td></td>\n",
       "      <td>Problem using a debit or ATM card</td>\n",
       "      <td>N/A</td>\n",
       "    </tr>\n",
       "    <tr>\n",
       "      <th>7</th>\n",
       "      <td>complaint-public-v2</td>\n",
       "      <td>complaint</td>\n",
       "      <td>3249272</td>\n",
       "      <td>0.0</td>\n",
       "      <td>None</td>\n",
       "      <td>07753</td>\n",
       "      <td>3249272</td>\n",
       "      <td>Trouble during payment process</td>\n",
       "      <td>2019-05-15T12:00:00-05:00</td>\n",
       "      <td>NJ</td>\n",
       "      <td>...</td>\n",
       "      <td>Closed with explanation</td>\n",
       "      <td>JPMORGAN CHASE &amp; CO.</td>\n",
       "      <td>Referral</td>\n",
       "      <td>2019-05-21T12:00:00-05:00</td>\n",
       "      <td>None</td>\n",
       "      <td>Conventional home mortgage</td>\n",
       "      <td>Yes</td>\n",
       "      <td></td>\n",
       "      <td>None</td>\n",
       "      <td>N/A</td>\n",
       "    </tr>\n",
       "    <tr>\n",
       "      <th>8</th>\n",
       "      <td>complaint-public-v2</td>\n",
       "      <td>complaint</td>\n",
       "      <td>3351653</td>\n",
       "      <td>0.0</td>\n",
       "      <td>None</td>\n",
       "      <td>60621</td>\n",
       "      <td>3351653</td>\n",
       "      <td>Closing an account</td>\n",
       "      <td>2019-08-22T12:00:00-05:00</td>\n",
       "      <td>IL</td>\n",
       "      <td>...</td>\n",
       "      <td>Closed with explanation</td>\n",
       "      <td>JPMORGAN CHASE &amp; CO.</td>\n",
       "      <td>Referral</td>\n",
       "      <td>2019-08-23T12:00:00-05:00</td>\n",
       "      <td>None</td>\n",
       "      <td>Checking account</td>\n",
       "      <td>Yes</td>\n",
       "      <td></td>\n",
       "      <td>Company closed your account</td>\n",
       "      <td>N/A</td>\n",
       "    </tr>\n",
       "    <tr>\n",
       "      <th>9</th>\n",
       "      <td>complaint-public-v2</td>\n",
       "      <td>complaint</td>\n",
       "      <td>3273612</td>\n",
       "      <td>0.0</td>\n",
       "      <td>None</td>\n",
       "      <td>99354</td>\n",
       "      <td>3273612</td>\n",
       "      <td>Managing an account</td>\n",
       "      <td>2019-06-11T12:00:00-05:00</td>\n",
       "      <td>WA</td>\n",
       "      <td>...</td>\n",
       "      <td>Closed with monetary relief</td>\n",
       "      <td>JPMORGAN CHASE &amp; CO.</td>\n",
       "      <td>Referral</td>\n",
       "      <td>2019-06-17T12:00:00-05:00</td>\n",
       "      <td>None</td>\n",
       "      <td>Checking account</td>\n",
       "      <td>Yes</td>\n",
       "      <td></td>\n",
       "      <td>Cashing a check</td>\n",
       "      <td>N/A</td>\n",
       "    </tr>\n",
       "  </tbody>\n",
       "</table>\n",
       "<p>10 rows × 22 columns</p>\n",
       "</div>"
      ],
      "text/plain": [
       "                _index      _type      _id  _score    _source.tags  \\\n",
       "0  complaint-public-v2  complaint  3211475     0.0            None   \n",
       "1  complaint-public-v2  complaint  3229299     0.0   Servicemember   \n",
       "2  complaint-public-v2  complaint  3199379     0.0            None   \n",
       "3  complaint-public-v2  complaint  2673060     0.0            None   \n",
       "4  complaint-public-v2  complaint  3203545     0.0            None   \n",
       "5  complaint-public-v2  complaint  3275312     0.0  Older American   \n",
       "6  complaint-public-v2  complaint  3238804     0.0            None   \n",
       "7  complaint-public-v2  complaint  3249272     0.0            None   \n",
       "8  complaint-public-v2  complaint  3351653     0.0            None   \n",
       "9  complaint-public-v2  complaint  3273612     0.0            None   \n",
       "\n",
       "  _source.zip_code _source.complaint_id                       _source.issue  \\\n",
       "0            90301              3211475   Attempts to collect debt not owed   \n",
       "1            319XX              3229299     Written notification about debt   \n",
       "2            77069              3199379  Other features, terms, or problems   \n",
       "3            48066              2673060      Trouble during payment process   \n",
       "4            10473              3203545                    Fees or interest   \n",
       "5            48227              3275312                 Managing an account   \n",
       "6            76262              3238804                 Managing an account   \n",
       "7            07753              3249272      Trouble during payment process   \n",
       "8            60621              3351653                  Closing an account   \n",
       "9            99354              3273612                 Managing an account   \n",
       "\n",
       "       _source.date_received _source.state  ...     _source.company_response  \\\n",
       "0  2019-04-13T12:00:00-05:00            CA  ...      Closed with explanation   \n",
       "1  2019-05-01T12:00:00-05:00            GA  ...      Closed with explanation   \n",
       "2  2019-04-02T12:00:00-05:00            TX  ...      Closed with explanation   \n",
       "3  2017-09-13T12:00:00-05:00            MI  ...      Closed with explanation   \n",
       "4  2019-04-05T12:00:00-05:00            NY  ...      Closed with explanation   \n",
       "5  2019-06-13T12:00:00-05:00            MI  ...  Closed with monetary relief   \n",
       "6  2019-05-10T12:00:00-05:00            TX  ...  Closed with monetary relief   \n",
       "7  2019-05-15T12:00:00-05:00            NJ  ...      Closed with explanation   \n",
       "8  2019-08-22T12:00:00-05:00            IL  ...      Closed with explanation   \n",
       "9  2019-06-11T12:00:00-05:00            WA  ...  Closed with monetary relief   \n",
       "\n",
       "        _source.company _source.submitted_via _source.date_sent_to_company  \\\n",
       "0  JPMORGAN CHASE & CO.                   Web    2019-04-13T12:00:00-05:00   \n",
       "1  JPMORGAN CHASE & CO.                   Web    2019-05-01T12:00:00-05:00   \n",
       "2  JPMORGAN CHASE & CO.                   Web    2019-04-02T12:00:00-05:00   \n",
       "3  JPMORGAN CHASE & CO.                   Web    2017-09-14T12:00:00-05:00   \n",
       "4  JPMORGAN CHASE & CO.              Referral    2019-04-05T12:00:00-05:00   \n",
       "5  JPMORGAN CHASE & CO.              Referral    2019-06-14T12:00:00-05:00   \n",
       "6  JPMORGAN CHASE & CO.                 Phone    2019-05-10T12:00:00-05:00   \n",
       "7  JPMORGAN CHASE & CO.              Referral    2019-05-21T12:00:00-05:00   \n",
       "8  JPMORGAN CHASE & CO.              Referral    2019-08-23T12:00:00-05:00   \n",
       "9  JPMORGAN CHASE & CO.              Referral    2019-06-17T12:00:00-05:00   \n",
       "\n",
       "  _source.company_public_response                         _source.sub_product  \\\n",
       "0                            None                            Credit card debt   \n",
       "1                            None                            Credit card debt   \n",
       "2                            None  General-purpose credit card or charge card   \n",
       "3                            None                  Conventional home mortgage   \n",
       "4                            None  General-purpose credit card or charge card   \n",
       "5                            None                            Checking account   \n",
       "6                            None                            Checking account   \n",
       "7                            None                  Conventional home mortgage   \n",
       "8                            None                            Checking account   \n",
       "9                            None                            Checking account   \n",
       "\n",
       "  _source.timely                    _source.complaint_what_happened  \\\n",
       "0            Yes                                                      \n",
       "1            Yes  Good morning my name is XXXX XXXX and I apprec...   \n",
       "2            Yes  I upgraded my XXXX XXXX card in XX/XX/2018 and...   \n",
       "3            Yes                                                      \n",
       "4            Yes                                                      \n",
       "5            Yes                                                      \n",
       "6            Yes                                                      \n",
       "7            Yes                                                      \n",
       "8            Yes                                                      \n",
       "9            Yes                                                      \n",
       "\n",
       "                                  _source.sub_issue  \\\n",
       "0                                 Debt is not yours   \n",
       "1  Didn't receive enough information to verify debt   \n",
       "2             Problem with rewards from credit card   \n",
       "3                                              None   \n",
       "4                         Charged too much interest   \n",
       "5                 Problem using a debit or ATM card   \n",
       "6                 Problem using a debit or ATM card   \n",
       "7                                              None   \n",
       "8                       Company closed your account   \n",
       "9                                   Cashing a check   \n",
       "\n",
       "  _source.consumer_consent_provided  \n",
       "0              Consent not provided  \n",
       "1                  Consent provided  \n",
       "2                  Consent provided  \n",
       "3              Consent not provided  \n",
       "4                               N/A  \n",
       "5                               N/A  \n",
       "6                               N/A  \n",
       "7                               N/A  \n",
       "8                               N/A  \n",
       "9                               N/A  \n",
       "\n",
       "[10 rows x 22 columns]"
      ]
     },
     "execution_count": 5,
     "metadata": {},
     "output_type": "execute_result"
    }
   ],
   "source": [
    "# Inspect the dataframe to understand the given data.\n",
    "df.head(10)\n"
   ]
  },
  {
   "cell_type": "code",
   "execution_count": 6,
   "metadata": {
    "colab": {
     "base_uri": "https://localhost:8080/"
    },
    "executionInfo": {
     "elapsed": 28,
     "status": "ok",
     "timestamp": 1634879923970,
     "user": {
      "displayName": "Gagan Saini",
      "photoUrl": "https://lh3.googleusercontent.com/a/default-user=s64",
      "userId": "13559974833695172939"
     },
     "user_tz": -330
    },
    "id": "hEBLg5qnIArf",
    "outputId": "b8d82c50-9ec0-4997-ab9c-829eaa1c6587"
   },
   "outputs": [
    {
     "data": {
      "text/plain": [
       "(78313, 22)"
      ]
     },
     "execution_count": 6,
     "metadata": {},
     "output_type": "execute_result"
    }
   ],
   "source": [
    "df.shape"
   ]
  },
  {
   "cell_type": "code",
   "execution_count": 7,
   "metadata": {
    "colab": {
     "base_uri": "https://localhost:8080/"
    },
    "executionInfo": {
     "elapsed": 23,
     "status": "ok",
     "timestamp": 1634879923971,
     "user": {
      "displayName": "Gagan Saini",
      "photoUrl": "https://lh3.googleusercontent.com/a/default-user=s64",
      "userId": "13559974833695172939"
     },
     "user_tz": -330
    },
    "id": "Dwcty-wmJrFw",
    "outputId": "84bbc671-5838-4cd6-cac8-8af4588bd7aa"
   },
   "outputs": [
    {
     "name": "stdout",
     "output_type": "stream",
     "text": [
      "_index\n",
      "_type\n",
      "_id\n",
      "_score\n",
      "_source.tags\n",
      "_source.zip_code\n",
      "_source.complaint_id\n",
      "_source.issue\n",
      "_source.date_received\n",
      "_source.state\n",
      "_source.consumer_disputed\n",
      "_source.product\n",
      "_source.company_response\n",
      "_source.company\n",
      "_source.submitted_via\n",
      "_source.date_sent_to_company\n",
      "_source.company_public_response\n",
      "_source.sub_product\n",
      "_source.timely\n",
      "_source.complaint_what_happened\n",
      "_source.sub_issue\n",
      "_source.consumer_consent_provided\n"
     ]
    }
   ],
   "source": [
    "#print the column names\n",
    "for col in df.columns:\n",
    "  print(col)\n"
   ]
  },
  {
   "cell_type": "code",
   "execution_count": 8,
   "metadata": {
    "executionInfo": {
     "elapsed": 21,
     "status": "ok",
     "timestamp": 1634879923973,
     "user": {
      "displayName": "Gagan Saini",
      "photoUrl": "https://lh3.googleusercontent.com/a/default-user=s64",
      "userId": "13559974833695172939"
     },
     "user_tz": -330
    },
    "id": "FYCtKXD1JrFw"
   },
   "outputs": [],
   "source": [
    "#Assign new column names\n",
    "df.rename(columns ={'_index': 'index', '_type': 'type', '_id': 'id', '_score': 'score', '_source.tags': 'source_tags', \n",
    "                    '_source.zip_code': 'source_zip_code', '_source.complaint_id': 'source_complaint_id',\n",
    "                    '_source.complaint_id': 'source_complaint_id', '_source.issue': 'source_issue',\n",
    "                    '_source.date_received': 'source_date_received', '_source.state': 'source_state',\n",
    "                    '_source.consumer_disputed': 'source_consumer_disputed', '_source.product': 'source_product',\n",
    "                    '_source.company_response': 'source_company_response', '_source.company': 'source_company',\n",
    "                    '_source.submitted_via': 'source_submitted_via', '_source.date_sent_to_company': 'source_date_sent_to_company',\n",
    "                    '_source.company_public_response': 'source_company_public_response', '_source.sub_product': 'source_sub_product',\n",
    "                    '_source.timely': 'source_timely', '_source.complaint_what_happened': 'source_complaint_what_happened',\n",
    "                    '_source.sub_issue': 'source_sub_issue', '_source.consumer_consent_provided': 'source_consumer_consent_provided'}, inplace = True)"
   ]
  },
  {
   "cell_type": "code",
   "execution_count": 9,
   "metadata": {
    "executionInfo": {
     "elapsed": 22,
     "status": "ok",
     "timestamp": 1634879923974,
     "user": {
      "displayName": "Gagan Saini",
      "photoUrl": "https://lh3.googleusercontent.com/a/default-user=s64",
      "userId": "13559974833695172939"
     },
     "user_tz": -330
    },
    "id": "grQUPFL5JrFx"
   },
   "outputs": [],
   "source": [
    "#Assign nan in place of blanks in the complaints column\n",
    "df[df['source_complaint_what_happened']== ''] = np.nan "
   ]
  },
  {
   "cell_type": "code",
   "execution_count": 10,
   "metadata": {
    "executionInfo": {
     "elapsed": 21,
     "status": "ok",
     "timestamp": 1634879923975,
     "user": {
      "displayName": "Gagan Saini",
      "photoUrl": "https://lh3.googleusercontent.com/a/default-user=s64",
      "userId": "13559974833695172939"
     },
     "user_tz": -330
    },
    "id": "Jfxd8VSmJrFy"
   },
   "outputs": [],
   "source": [
    "#Remove all rows where complaints column is nan\n",
    "df = df[df['source_complaint_what_happened'].notnull()]"
   ]
  },
  {
   "cell_type": "code",
   "execution_count": 11,
   "metadata": {
    "colab": {
     "base_uri": "https://localhost:8080/"
    },
    "executionInfo": {
     "elapsed": 22,
     "status": "ok",
     "timestamp": 1634879923976,
     "user": {
      "displayName": "Gagan Saini",
      "photoUrl": "https://lh3.googleusercontent.com/a/default-user=s64",
      "userId": "13559974833695172939"
     },
     "user_tz": -330
    },
    "id": "okqfuE0oIl5m",
    "outputId": "9cec7f7a-1831-4c16-f638-356444d8ac8e"
   },
   "outputs": [
    {
     "data": {
      "text/plain": [
       "(21072, 22)"
      ]
     },
     "execution_count": 11,
     "metadata": {},
     "output_type": "execute_result"
    }
   ],
   "source": [
    "df.shape"
   ]
  },
  {
   "cell_type": "markdown",
   "metadata": {
    "id": "L944HZpsJrFy"
   },
   "source": [
    "## Prepare the text for topic modeling\n",
    "\n",
    "Once you have removed all the blank complaints, you need to:\n",
    "\n",
    "* Make the text lowercase\n",
    "* Remove text in square brackets\n",
    "* Remove punctuation\n",
    "* Remove words containing numbers\n",
    "\n",
    "\n",
    "Once you have done these cleaning operations you need to perform the following:\n",
    "* Lemmatize the texts\n",
    "* Use POS tags to get relevant words from the texts.\n"
   ]
  },
  {
   "cell_type": "code",
   "execution_count": 12,
   "metadata": {
    "executionInfo": {
     "elapsed": 19,
     "status": "ok",
     "timestamp": 1634879923977,
     "user": {
      "displayName": "Gagan Saini",
      "photoUrl": "https://lh3.googleusercontent.com/a/default-user=s64",
      "userId": "13559974833695172939"
     },
     "user_tz": -330
    },
    "id": "qm7SjjSkJrFz"
   },
   "outputs": [],
   "source": [
    "# Write your function here to clean the text and remove all the unnecessary elements.\n",
    "def clean_text(text):\n",
    "  text = text.lower()\n",
    "  pattern = re.compile('[\\(\\[].*?[\\)\\]]')\n",
    "  text = re.sub(pattern, '', text)\n",
    "  pattern = re.compile('[^\\w\\s]')\n",
    "  text = re.sub(pattern, '', text)\n",
    "  pattern = re.compile('[0-9]')\n",
    "  text = re.sub(pattern, '', text)\n",
    "  return text\n",
    "\n"
   ]
  },
  {
   "cell_type": "code",
   "execution_count": 13,
   "metadata": {
    "colab": {
     "base_uri": "https://localhost:8080/"
    },
    "executionInfo": {
     "elapsed": 888,
     "status": "ok",
     "timestamp": 1634879924847,
     "user": {
      "displayName": "Gagan Saini",
      "photoUrl": "https://lh3.googleusercontent.com/a/default-user=s64",
      "userId": "13559974833695172939"
     },
     "user_tz": -330
    },
    "id": "az2dVPDWEXrD",
    "outputId": "de9ee6d2-4552-4301-a712-2b4838186449"
   },
   "outputs": [
    {
     "name": "stderr",
     "output_type": "stream",
     "text": [
      "[nltk_data] Downloading package wordnet to\n",
      "[nltk_data]     C:\\Users\\kalitanilotpole\\AppData\\Roaming\\nltk_data...\n",
      "[nltk_data]   Package wordnet is already up-to-date!\n",
      "[nltk_data] Downloading package stopwords to\n",
      "[nltk_data]     C:\\Users\\kalitanilotpole\\AppData\\Roaming\\nltk_data...\n",
      "[nltk_data]   Package stopwords is already up-to-date!\n",
      "[nltk_data] Downloading package punkt to\n",
      "[nltk_data]     C:\\Users\\kalitanilotpole\\AppData\\Roaming\\nltk_data...\n",
      "[nltk_data]   Package punkt is already up-to-date!\n"
     ]
    },
    {
     "data": {
      "text/plain": [
       "True"
      ]
     },
     "execution_count": 13,
     "metadata": {},
     "output_type": "execute_result"
    }
   ],
   "source": [
    "from nltk.stem import WordNetLemmatizer\n",
    "wordnet_lemmatizer = WordNetLemmatizer()\n",
    "from nltk.corpus import stopwords\n",
    "from nltk.tokenize import word_tokenize\n",
    "nltk.download('wordnet')\n",
    "nltk.download('stopwords')\n",
    "nltk.download('punkt')"
   ]
  },
  {
   "cell_type": "code",
   "execution_count": 14,
   "metadata": {
    "executionInfo": {
     "elapsed": 6,
     "status": "ok",
     "timestamp": 1634879924848,
     "user": {
      "displayName": "Gagan Saini",
      "photoUrl": "https://lh3.googleusercontent.com/a/default-user=s64",
      "userId": "13559974833695172939"
     },
     "user_tz": -330
    },
    "id": "zgOu8t8HJrFz"
   },
   "outputs": [],
   "source": [
    "#Write your function to Lemmatize the texts\n",
    "def lemmatizer(text):      \n",
    "    text = clean_text(text)  \n",
    "    sent = [wordnet_lemmatizer.lemmatize(word) for word in word_tokenize(text) if not word in set(stopwords.words('english'))]\n",
    "    return \" \".join(sent)"
   ]
  },
  {
   "cell_type": "code",
   "execution_count": 15,
   "metadata": {
    "executionInfo": {
     "elapsed": 652675,
     "status": "ok",
     "timestamp": 1634880577519,
     "user": {
      "displayName": "Gagan Saini",
      "photoUrl": "https://lh3.googleusercontent.com/a/default-user=s64",
      "userId": "13559974833695172939"
     },
     "user_tz": -330
    },
    "id": "uXnN7aa_JrF0"
   },
   "outputs": [],
   "source": [
    "#Create a dataframe('df_clean') that will have only the complaints and the lemmatized complaints \n",
    "df_clean = pd.DataFrame()\n",
    "df_clean['complaints'] = df['source_complaint_what_happened'].apply(lambda x: clean_text(x))\n",
    "df_clean['lemmatized_complaints'] = df['source_complaint_what_happened'].apply(lambda x: lemmatizer(x))\n"
   ]
  },
  {
   "cell_type": "code",
   "execution_count": 16,
   "metadata": {
    "executionInfo": {
     "elapsed": 658,
     "status": "ok",
     "timestamp": 1634880578174,
     "user": {
      "displayName": "Gagan Saini",
      "photoUrl": "https://lh3.googleusercontent.com/a/default-user=s64",
      "userId": "13559974833695172939"
     },
     "user_tz": -330
    },
    "id": "nOiDVvEIJrF0"
   },
   "outputs": [],
   "source": [
    "df_clean.to_csv('df_clean.csv', index=False)"
   ]
  },
  {
   "cell_type": "code",
   "execution_count": 17,
   "metadata": {
    "executionInfo": {
     "elapsed": 4,
     "status": "ok",
     "timestamp": 1634880578175,
     "user": {
      "displayName": "Gagan Saini",
      "photoUrl": "https://lh3.googleusercontent.com/a/default-user=s64",
      "userId": "13559974833695172939"
     },
     "user_tz": -330
    },
    "id": "Kk7fc4DuJrF1"
   },
   "outputs": [],
   "source": [
    "#Write your function to extract the POS tags \n",
    "def pos_tag(text):\n",
    "  doc = nlp(text)\n",
    "  result = []\n",
    "  for token in doc:\n",
    "    if token.pos_ == 'NOUN':\n",
    "      output = result.append(token.text)\n",
    "      \n",
    "  return ' '.join(result)\n"
   ]
  },
  {
   "cell_type": "code",
   "execution_count": 18,
   "metadata": {
    "executionInfo": {
     "elapsed": 861214,
     "status": "ok",
     "timestamp": 1634881439385,
     "user": {
      "displayName": "Gagan Saini",
      "photoUrl": "https://lh3.googleusercontent.com/a/default-user=s64",
      "userId": "13559974833695172939"
     },
     "user_tz": -330
    },
    "id": "AjxfchvFJrF2"
   },
   "outputs": [],
   "source": [
    "#The clean dataframe should now contain the raw complaint, lemmatized complaint and the complaint after removing POS tags.\n",
    "df_clean['complaint_POS_removed'] = df_clean['complaints'].apply(lambda x: pos_tag(x))"
   ]
  },
  {
   "cell_type": "markdown",
   "metadata": {
    "id": "_7Un1AElJrF2"
   },
   "source": [
    "## Exploratory data analysis to get familiar with the data.\n",
    "\n",
    "Write the code in this task to perform the following:\n",
    "\n",
    "*   Visualise the data according to the 'Complaint' character length\n",
    "*   Using a word cloud find the top 40 words by frequency among all the articles after processing the text\n",
    "*   Find the top unigrams,bigrams and trigrams by frequency among all the complaints after processing the text. ‘\n",
    "\n",
    "\n"
   ]
  },
  {
   "cell_type": "code",
   "execution_count": 21,
   "metadata": {
    "colab": {
     "base_uri": "https://localhost:8080/",
     "height": 374
    },
    "executionInfo": {
     "elapsed": 1255,
     "status": "ok",
     "timestamp": 1634881440637,
     "user": {
      "displayName": "Gagan Saini",
      "photoUrl": "https://lh3.googleusercontent.com/a/default-user=s64",
      "userId": "13559974833695172939"
     },
     "user_tz": -330
    },
    "id": "q-zaqJF6JrF2",
    "outputId": "5279be17-8941-4a8b-e853-9561ee55c97e"
   },
   "outputs": [
    {
     "data": {
      "image/png": "[encoded data removed]",
      "text/plain": [
       "<Figure size 720x432 with 1 Axes>"
      ]
     },
     "metadata": {
      "needs_background": "light"
     },
     "output_type": "display_data"
    }
   ],
   "source": [
    "# Write your code here to visualise the data according to the 'Complaint' character length\n",
    "import seaborn as sns\n",
    "import matplotlib.pyplot as plt\n",
    "%matplotlib inline\n",
    "\n",
    "plt.figure(figsize=(10,6))\n",
    "doc_lens = [len(d) for d in df_clean.complaint_POS_removed]\n",
    "plt.hist(doc_lens, bins = 50)\n",
    "plt.show()"
   ]
  },
  {
   "cell_type": "markdown",
   "metadata": {
    "id": "T9jD_6SeJrF3"
   },
   "source": [
    "#### Find the top 40 words by frequency among all the articles after processing the text."
   ]
  },
  {
   "cell_type": "code",
   "execution_count": 22,
   "metadata": {
    "colab": {
     "base_uri": "https://localhost:8080/",
     "height": 215
    },
    "executionInfo": {
     "elapsed": 48,
     "status": "ok",
     "timestamp": 1634881440641,
     "user": {
      "displayName": "Gagan Saini",
      "photoUrl": "https://lh3.googleusercontent.com/a/default-user=s64",
      "userId": "13559974833695172939"
     },
     "user_tz": -330
    },
    "id": "QcfdvtfZJrF3",
    "outputId": "801f5ea0-7bc7-4961-9360-29cf83f131c0"
   },
   "outputs": [
    {
     "name": "stdout",
     "output_type": "stream",
     "text": [
      "<wordcloud.wordcloud.WordCloud object at 0x7fb29bd6f590>\n"
     ]
    },
    {
     "data": {
      "image/png": "[encoded data removed]",
      "text/plain": [
       "<Figure size 432x288 with 1 Axes>"
      ]
     },
     "metadata": {
      "needs_background": "light"
     },
     "output_type": "display_data"
    }
   ],
   "source": [
    "#Using a word cloud find the top 40 words by frequency among all the articles after processing the text\n",
    "from wordcloud import WordCloud\n",
    "stoplist = set(stopwords.words(\"english\"))\n",
    "\n",
    "\n",
    "wordcloud = WordCloud(stopwords=stoplist,max_words=40, background_color='white').generate(str(df_clean.complaint_POS_removed))\n",
    "\n",
    "print(wordcloud)\n",
    "fig = plt.figure(1)\n",
    "plt.imshow(wordcloud)\n",
    "plt.axis('off')\n",
    "plt.show();\n"
   ]
  },
  {
   "cell_type": "code",
   "execution_count": 23,
   "metadata": {
    "colab": {
     "base_uri": "https://localhost:8080/",
     "height": 204
    },
    "executionInfo": {
     "elapsed": 39,
     "status": "ok",
     "timestamp": 1634881440643,
     "user": {
      "displayName": "Gagan Saini",
      "photoUrl": "https://lh3.googleusercontent.com/a/default-user=s64",
      "userId": "13559974833695172939"
     },
     "user_tz": -330
    },
    "id": "cOwqn_vajy6P",
    "outputId": "fef19876-304f-4701-e5a7-2b8fd6130a99"
   },
   "outputs": [
    {
     "data": {
      "text/html": [
       "<div>\n",
       "<style scoped>\n",
       "    .dataframe tbody tr th:only-of-type {\n",
       "        vertical-align: middle;\n",
       "    }\n",
       "\n",
       "    .dataframe tbody tr th {\n",
       "        vertical-align: top;\n",
       "    }\n",
       "\n",
       "    .dataframe thead th {\n",
       "        text-align: right;\n",
       "    }\n",
       "</style>\n",
       "<table border=\"1\" class=\"dataframe\">\n",
       "  <thead>\n",
       "    <tr style=\"text-align: right;\">\n",
       "      <th></th>\n",
       "      <th>complaints</th>\n",
       "      <th>lemmatized_complaints</th>\n",
       "      <th>complaint_POS_removed</th>\n",
       "    </tr>\n",
       "  </thead>\n",
       "  <tbody>\n",
       "    <tr>\n",
       "      <th>1</th>\n",
       "      <td>good morning my name is xxxx xxxx and i apprec...</td>\n",
       "      <td>good morning name xxxx xxxx appreciate could h...</td>\n",
       "      <td>morning name stop bank cardmember services deb...</td>\n",
       "    </tr>\n",
       "    <tr>\n",
       "      <th>2</th>\n",
       "      <td>i upgraded my xxxx xxxx card in xxxx and was t...</td>\n",
       "      <td>upgraded xxxx xxxx card xxxx told agent upgrad...</td>\n",
       "      <td>card agent anniversary date agent information ...</td>\n",
       "    </tr>\n",
       "    <tr>\n",
       "      <th>10</th>\n",
       "      <td>chase card was reported on xxxx however fraudu...</td>\n",
       "      <td>chase card reported xxxx however fraudulent ap...</td>\n",
       "      <td>card application identity consent services cre...</td>\n",
       "    </tr>\n",
       "    <tr>\n",
       "      <th>11</th>\n",
       "      <td>on xxxx while trying to book a xxxx  xxxx  tic...</td>\n",
       "      <td>xxxx trying book xxxx xxxx ticket came across ...</td>\n",
       "      <td>xxxx ticket offer ticket rewards card informat...</td>\n",
       "    </tr>\n",
       "    <tr>\n",
       "      <th>14</th>\n",
       "      <td>my grand son give me check for  i deposit it i...</td>\n",
       "      <td>grand son give check deposit chase account fun...</td>\n",
       "      <td>son chase account fund bank account money son ...</td>\n",
       "    </tr>\n",
       "  </tbody>\n",
       "</table>\n",
       "</div>"
      ],
      "text/plain": [
       "                                           complaints  ...                              complaint_POS_removed\n",
       "1   good morning my name is xxxx xxxx and i apprec...  ...  morning name stop bank cardmember services deb...\n",
       "2   i upgraded my xxxx xxxx card in xxxx and was t...  ...  card agent anniversary date agent information ...\n",
       "10  chase card was reported on xxxx however fraudu...  ...  card application identity consent services cre...\n",
       "11  on xxxx while trying to book a xxxx  xxxx  tic...  ...  xxxx ticket offer ticket rewards card informat...\n",
       "14  my grand son give me check for  i deposit it i...  ...  son chase account fund bank account money son ...\n",
       "\n",
       "[5 rows x 3 columns]"
      ]
     },
     "execution_count": 23,
     "metadata": {},
     "output_type": "execute_result"
    }
   ],
   "source": [
    "df_clean.head()"
   ]
  },
  {
   "cell_type": "code",
   "execution_count": 24,
   "metadata": {
    "executionInfo": {
     "elapsed": 39,
     "status": "ok",
     "timestamp": 1634881440644,
     "user": {
      "displayName": "Gagan Saini",
      "photoUrl": "https://lh3.googleusercontent.com/a/default-user=s64",
      "userId": "13559974833695172939"
     },
     "user_tz": -330
    },
    "id": "OkSmc3UaJrF4"
   },
   "outputs": [],
   "source": [
    "#Removing -PRON- from the text corpus\n",
    "df_clean['Complaint_clean'] = df_clean['complaint_POS_removed'].str.replace('-PRON-', '')"
   ]
  },
  {
   "cell_type": "markdown",
   "metadata": {
    "id": "5DfCSbbmJrF4"
   },
   "source": [
    "#### Find the top unigrams,bigrams and trigrams by frequency among all the complaints after processing the text."
   ]
  },
  {
   "cell_type": "code",
   "execution_count": 25,
   "metadata": {
    "executionInfo": {
     "elapsed": 1599,
     "status": "ok",
     "timestamp": 1634881442205,
     "user": {
      "displayName": "Gagan Saini",
      "photoUrl": "https://lh3.googleusercontent.com/a/default-user=s64",
      "userId": "13559974833695172939"
     },
     "user_tz": -330
    },
    "id": "5mbk5DS5JrF4"
   },
   "outputs": [],
   "source": [
    "#Write your code here to find the top 30 unigram frequency among the complaints in the cleaned datafram(df_clean). \n",
    "def get_top_n_bigram(corpus, n=None):\n",
    "    vec = CountVectorizer(ngram_range=(1, 1), stop_words='english').fit(corpus)\n",
    "    bag_of_words = vec.transform(corpus)\n",
    "    #print(bag_of_words)\n",
    "    sum_words = bag_of_words.sum(axis=0) \n",
    "    words_freq = [(word, sum_words[0, idx]) for word, idx in vec.vocabulary_.items()]\n",
    "    words_freq =sorted(words_freq, key = lambda x: x[1], reverse=True)\n",
    "    return words_freq[:n]\n",
    "\n",
    "common_words = get_top_n_bigram(df_clean['Complaint_clean'], 30)"
   ]
  },
  {
   "cell_type": "code",
   "execution_count": 26,
   "metadata": {
    "colab": {
     "base_uri": "https://localhost:8080/",
     "height": 359
    },
    "executionInfo": {
     "elapsed": 9,
     "status": "ok",
     "timestamp": 1634881442207,
     "user": {
      "displayName": "Gagan Saini",
      "photoUrl": "https://lh3.googleusercontent.com/a/default-user=s64",
      "userId": "13559974833695172939"
     },
     "user_tz": -330
    },
    "id": "YX7fedm1JrF8",
    "outputId": "b1ec5676-dc39-4bfd-aad9-1068042b85af"
   },
   "outputs": [
    {
     "data": {
      "text/html": [
       "<div>\n",
       "<style scoped>\n",
       "    .dataframe tbody tr th:only-of-type {\n",
       "        vertical-align: middle;\n",
       "    }\n",
       "\n",
       "    .dataframe tbody tr th {\n",
       "        vertical-align: top;\n",
       "    }\n",
       "\n",
       "    .dataframe thead th {\n",
       "        text-align: right;\n",
       "    }\n",
       "</style>\n",
       "<table border=\"1\" class=\"dataframe\">\n",
       "  <thead>\n",
       "    <tr style=\"text-align: right;\">\n",
       "      <th></th>\n",
       "      <th>unigram</th>\n",
       "      <th>count</th>\n",
       "    </tr>\n",
       "  </thead>\n",
       "  <tbody>\n",
       "    <tr>\n",
       "      <th>0</th>\n",
       "      <td>account</td>\n",
       "      <td>40727</td>\n",
       "    </tr>\n",
       "    <tr>\n",
       "      <th>1</th>\n",
       "      <td>chase</td>\n",
       "      <td>36556</td>\n",
       "    </tr>\n",
       "    <tr>\n",
       "      <th>2</th>\n",
       "      <td>credit</td>\n",
       "      <td>31255</td>\n",
       "    </tr>\n",
       "    <tr>\n",
       "      <th>3</th>\n",
       "      <td>card</td>\n",
       "      <td>26117</td>\n",
       "    </tr>\n",
       "    <tr>\n",
       "      <th>4</th>\n",
       "      <td>bank</td>\n",
       "      <td>14401</td>\n",
       "    </tr>\n",
       "    <tr>\n",
       "      <th>5</th>\n",
       "      <td>payment</td>\n",
       "      <td>13690</td>\n",
       "    </tr>\n",
       "    <tr>\n",
       "      <th>6</th>\n",
       "      <td>xxxx</td>\n",
       "      <td>13423</td>\n",
       "    </tr>\n",
       "    <tr>\n",
       "      <th>7</th>\n",
       "      <td>money</td>\n",
       "      <td>11808</td>\n",
       "    </tr>\n",
       "    <tr>\n",
       "      <th>8</th>\n",
       "      <td>time</td>\n",
       "      <td>11695</td>\n",
       "    </tr>\n",
       "    <tr>\n",
       "      <th>9</th>\n",
       "      <td>information</td>\n",
       "      <td>9511</td>\n",
       "    </tr>\n",
       "  </tbody>\n",
       "</table>\n",
       "</div>"
      ],
      "text/plain": [
       "       unigram  count\n",
       "0      account  40727\n",
       "1        chase  36556\n",
       "2       credit  31255\n",
       "3         card  26117\n",
       "4         bank  14401\n",
       "5      payment  13690\n",
       "6         xxxx  13423\n",
       "7        money  11808\n",
       "8         time  11695\n",
       "9  information   9511"
      ]
     },
     "execution_count": 26,
     "metadata": {},
     "output_type": "execute_result"
    }
   ],
   "source": [
    "#Print the top 10 words in the unigram frequency\n",
    "df_unigram = pd.DataFrame(common_words, columns = ['unigram' , 'count'])\n",
    "df_unigram.iloc[:10,:]"
   ]
  },
  {
   "cell_type": "code",
   "execution_count": 27,
   "metadata": {
    "executionInfo": {
     "elapsed": 5087,
     "status": "ok",
     "timestamp": 1634881447287,
     "user": {
      "displayName": "Gagan Saini",
      "photoUrl": "https://lh3.googleusercontent.com/a/default-user=s64",
      "userId": "13559974833695172939"
     },
     "user_tz": -330
    },
    "id": "aV7kD7w8JrF8"
   },
   "outputs": [],
   "source": [
    "#Write your code here to find the top 30 unigram frequency among the complaints in the cleaned datafram(df_clean). \n",
    "def get_top_n_bigram(corpus, n=None):\n",
    "    vec = CountVectorizer(ngram_range=(2, 2), stop_words='english').fit(corpus)\n",
    "    bag_of_words = vec.transform(corpus)\n",
    "    #print(bag_of_words)\n",
    "    sum_words = bag_of_words.sum(axis=0) \n",
    "    words_freq = [(word, sum_words[0, idx]) for word, idx in vec.vocabulary_.items()]\n",
    "    words_freq =sorted(words_freq, key = lambda x: x[1], reverse=True)\n",
    "    return words_freq[:n]\n",
    "\n",
    "common_words = get_top_n_bigram(df_clean['Complaint_clean'], 30)"
   ]
  },
  {
   "cell_type": "code",
   "execution_count": 28,
   "metadata": {
    "colab": {
     "base_uri": "https://localhost:8080/",
     "height": 359
    },
    "executionInfo": {
     "elapsed": 7,
     "status": "ok",
     "timestamp": 1634881447726,
     "user": {
      "displayName": "Gagan Saini",
      "photoUrl": "https://lh3.googleusercontent.com/a/default-user=s64",
      "userId": "13559974833695172939"
     },
     "user_tz": -330
    },
    "id": "NPnMNIpyJrF9",
    "outputId": "f3b0e71a-c281-48d6-ca30-33b09937193a"
   },
   "outputs": [
    {
     "data": {
      "text/html": [
       "<div>\n",
       "<style scoped>\n",
       "    .dataframe tbody tr th:only-of-type {\n",
       "        vertical-align: middle;\n",
       "    }\n",
       "\n",
       "    .dataframe tbody tr th {\n",
       "        vertical-align: top;\n",
       "    }\n",
       "\n",
       "    .dataframe thead th {\n",
       "        text-align: right;\n",
       "    }\n",
       "</style>\n",
       "<table border=\"1\" class=\"dataframe\">\n",
       "  <thead>\n",
       "    <tr style=\"text-align: right;\">\n",
       "      <th></th>\n",
       "      <th>bigram</th>\n",
       "      <th>count</th>\n",
       "    </tr>\n",
       "  </thead>\n",
       "  <tbody>\n",
       "    <tr>\n",
       "      <th>0</th>\n",
       "      <td>credit card</td>\n",
       "      <td>10532</td>\n",
       "    </tr>\n",
       "    <tr>\n",
       "      <th>1</th>\n",
       "      <td>credit report</td>\n",
       "      <td>3177</td>\n",
       "    </tr>\n",
       "    <tr>\n",
       "      <th>2</th>\n",
       "      <td>customer service</td>\n",
       "      <td>2790</td>\n",
       "    </tr>\n",
       "    <tr>\n",
       "      <th>3</th>\n",
       "      <td>chase credit</td>\n",
       "      <td>2541</td>\n",
       "    </tr>\n",
       "    <tr>\n",
       "      <th>4</th>\n",
       "      <td>account account</td>\n",
       "      <td>2327</td>\n",
       "    </tr>\n",
       "    <tr>\n",
       "      <th>5</th>\n",
       "      <td>chase account</td>\n",
       "      <td>2226</td>\n",
       "    </tr>\n",
       "    <tr>\n",
       "      <th>6</th>\n",
       "      <td>checking account</td>\n",
       "      <td>2145</td>\n",
       "    </tr>\n",
       "    <tr>\n",
       "      <th>7</th>\n",
       "      <td>account chase</td>\n",
       "      <td>2037</td>\n",
       "    </tr>\n",
       "    <tr>\n",
       "      <th>8</th>\n",
       "      <td>bank account</td>\n",
       "      <td>1869</td>\n",
       "    </tr>\n",
       "    <tr>\n",
       "      <th>9</th>\n",
       "      <td>credit cards</td>\n",
       "      <td>1850</td>\n",
       "    </tr>\n",
       "  </tbody>\n",
       "</table>\n",
       "</div>"
      ],
      "text/plain": [
       "             bigram  count\n",
       "0       credit card  10532\n",
       "1     credit report   3177\n",
       "2  customer service   2790\n",
       "3      chase credit   2541\n",
       "4   account account   2327\n",
       "5     chase account   2226\n",
       "6  checking account   2145\n",
       "7     account chase   2037\n",
       "8      bank account   1869\n",
       "9      credit cards   1850"
      ]
     },
     "execution_count": 28,
     "metadata": {},
     "output_type": "execute_result"
    }
   ],
   "source": [
    "#Print the top 10 words in the bigram frequency\n",
    "df_bigram = pd.DataFrame(common_words, columns = ['bigram' , 'count'])\n",
    "df_bigram.iloc[:10,:]"
   ]
  },
  {
   "cell_type": "code",
   "execution_count": 29,
   "metadata": {
    "executionInfo": {
     "elapsed": 23715,
     "status": "ok",
     "timestamp": 1634881471436,
     "user": {
      "displayName": "Gagan Saini",
      "photoUrl": "https://lh3.googleusercontent.com/a/default-user=s64",
      "userId": "13559974833695172939"
     },
     "user_tz": -330
    },
    "id": "Xkh7vtbtJrF-"
   },
   "outputs": [],
   "source": [
    "#Write your code here to find the top 30 trigram frequency among the complaints in the cleaned datafram(df_clean). \n",
    "def get_top_n_bigram(corpus, n=None):\n",
    "    vec = CountVectorizer(ngram_range=(3, 3), stop_words='english').fit(corpus)\n",
    "    bag_of_words = vec.transform(corpus)\n",
    "    #print(bag_of_words)\n",
    "    sum_words = bag_of_words.sum(axis=0) \n",
    "    words_freq = [(word, sum_words[0, idx]) for word, idx in vec.vocabulary_.items()]\n",
    "    #print(\"-31\",words_freq)\n",
    "    words_freq =sorted(words_freq, key = lambda x: x[1], reverse=True)\n",
    "    return words_freq[:n]\n",
    "\n",
    "common_words = get_top_n_bigram(df_clean['complaints'], 30)"
   ]
  },
  {
   "cell_type": "code",
   "execution_count": 30,
   "metadata": {
    "colab": {
     "base_uri": "https://localhost:8080/",
     "height": 359
    },
    "executionInfo": {
     "elapsed": 22,
     "status": "ok",
     "timestamp": 1634881471444,
     "user": {
      "displayName": "Gagan Saini",
      "photoUrl": "https://lh3.googleusercontent.com/a/default-user=s64",
      "userId": "13559974833695172939"
     },
     "user_tz": -330
    },
    "id": "REcVxNfvJrF-",
    "outputId": "0e058f6f-50d3-4cea-c885-1d4413321531"
   },
   "outputs": [
    {
     "data": {
      "text/html": [
       "<div>\n",
       "<style scoped>\n",
       "    .dataframe tbody tr th:only-of-type {\n",
       "        vertical-align: middle;\n",
       "    }\n",
       "\n",
       "    .dataframe tbody tr th {\n",
       "        vertical-align: top;\n",
       "    }\n",
       "\n",
       "    .dataframe thead th {\n",
       "        text-align: right;\n",
       "    }\n",
       "</style>\n",
       "<table border=\"1\" class=\"dataframe\">\n",
       "  <thead>\n",
       "    <tr style=\"text-align: right;\">\n",
       "      <th></th>\n",
       "      <th>trigram</th>\n",
       "      <th>count</th>\n",
       "    </tr>\n",
       "  </thead>\n",
       "  <tbody>\n",
       "    <tr>\n",
       "      <th>0</th>\n",
       "      <td>xxxx xxxx xxxx</td>\n",
       "      <td>37868</td>\n",
       "    </tr>\n",
       "    <tr>\n",
       "      <th>1</th>\n",
       "      <td>jp morgan chase</td>\n",
       "      <td>2284</td>\n",
       "    </tr>\n",
       "    <tr>\n",
       "      <th>2</th>\n",
       "      <td>chase credit card</td>\n",
       "      <td>1779</td>\n",
       "    </tr>\n",
       "    <tr>\n",
       "      <th>3</th>\n",
       "      <td>xxxx xxxx chase</td>\n",
       "      <td>1644</td>\n",
       "    </tr>\n",
       "    <tr>\n",
       "      <th>4</th>\n",
       "      <td>xxxxxxxx xxxx xxxx</td>\n",
       "      <td>1572</td>\n",
       "    </tr>\n",
       "    <tr>\n",
       "      <th>5</th>\n",
       "      <td>xxxx xxxx xxxxxxxx</td>\n",
       "      <td>1263</td>\n",
       "    </tr>\n",
       "    <tr>\n",
       "      <th>6</th>\n",
       "      <td>chase xxxx xxxx</td>\n",
       "      <td>1111</td>\n",
       "    </tr>\n",
       "    <tr>\n",
       "      <th>7</th>\n",
       "      <td>chase bank xxxx</td>\n",
       "      <td>1060</td>\n",
       "    </tr>\n",
       "    <tr>\n",
       "      <th>8</th>\n",
       "      <td>xxxx xxxxxxxx xxxx</td>\n",
       "      <td>954</td>\n",
       "    </tr>\n",
       "    <tr>\n",
       "      <th>9</th>\n",
       "      <td>account xxxx xxxx</td>\n",
       "      <td>908</td>\n",
       "    </tr>\n",
       "  </tbody>\n",
       "</table>\n",
       "</div>"
      ],
      "text/plain": [
       "              trigram  count\n",
       "0      xxxx xxxx xxxx  37868\n",
       "1     jp morgan chase   2284\n",
       "2   chase credit card   1779\n",
       "3     xxxx xxxx chase   1644\n",
       "4  xxxxxxxx xxxx xxxx   1572\n",
       "5  xxxx xxxx xxxxxxxx   1263\n",
       "6     chase xxxx xxxx   1111\n",
       "7     chase bank xxxx   1060\n",
       "8  xxxx xxxxxxxx xxxx    954\n",
       "9   account xxxx xxxx    908"
      ]
     },
     "execution_count": 30,
     "metadata": {},
     "output_type": "execute_result"
    }
   ],
   "source": [
    "#Print the top 10 words in the trigram frequency\n",
    "df_trigram = pd.DataFrame(common_words, columns = ['trigram' , 'count'])\n",
    "df_trigram.iloc[:10,:]"
   ]
  },
  {
   "cell_type": "markdown",
   "metadata": {
    "id": "yUXzFji0JrF_"
   },
   "source": [
    "## The personal details of customer has been masked in the dataset with xxxx. Let's remove the masked text as this will be of no use for our analysis"
   ]
  },
  {
   "cell_type": "code",
   "execution_count": 31,
   "metadata": {
    "executionInfo": {
     "elapsed": 20,
     "status": "ok",
     "timestamp": 1634881471445,
     "user": {
      "displayName": "Gagan Saini",
      "photoUrl": "https://lh3.googleusercontent.com/a/default-user=s64",
      "userId": "13559974833695172939"
     },
     "user_tz": -330
    },
    "id": "wKda-a_IJrF_"
   },
   "outputs": [],
   "source": [
    "df_clean['Complaint_clean'] = df_clean['Complaint_clean'].str.replace('xxxx','')"
   ]
  },
  {
   "cell_type": "code",
   "execution_count": 32,
   "metadata": {
    "colab": {
     "base_uri": "https://localhost:8080/",
     "height": 419
    },
    "executionInfo": {
     "elapsed": 22,
     "status": "ok",
     "timestamp": 1634881471447,
     "user": {
      "displayName": "Gagan Saini",
      "photoUrl": "https://lh3.googleusercontent.com/a/default-user=s64",
      "userId": "13559974833695172939"
     },
     "user_tz": -330
    },
    "id": "9UIFk8fQJrF_",
    "outputId": "0d677aa8-bd14-49c9-d852-11cb9bcd034b"
   },
   "outputs": [
    {
     "data": {
      "text/html": [
       "<div>\n",
       "<style scoped>\n",
       "    .dataframe tbody tr th:only-of-type {\n",
       "        vertical-align: middle;\n",
       "    }\n",
       "\n",
       "    .dataframe tbody tr th {\n",
       "        vertical-align: top;\n",
       "    }\n",
       "\n",
       "    .dataframe thead th {\n",
       "        text-align: right;\n",
       "    }\n",
       "</style>\n",
       "<table border=\"1\" class=\"dataframe\">\n",
       "  <thead>\n",
       "    <tr style=\"text-align: right;\">\n",
       "      <th></th>\n",
       "      <th>complaints</th>\n",
       "      <th>lemmatized_complaints</th>\n",
       "      <th>complaint_POS_removed</th>\n",
       "      <th>Complaint_clean</th>\n",
       "    </tr>\n",
       "  </thead>\n",
       "  <tbody>\n",
       "    <tr>\n",
       "      <th>1</th>\n",
       "      <td>good morning my name is xxxx xxxx and i apprec...</td>\n",
       "      <td>good morning name xxxx xxxx appreciate could h...</td>\n",
       "      <td>morning name stop bank cardmember services deb...</td>\n",
       "      <td>morning name stop bank cardmember services deb...</td>\n",
       "    </tr>\n",
       "    <tr>\n",
       "      <th>2</th>\n",
       "      <td>i upgraded my xxxx xxxx card in xxxx and was t...</td>\n",
       "      <td>upgraded xxxx xxxx card xxxx told agent upgrad...</td>\n",
       "      <td>card agent anniversary date agent information ...</td>\n",
       "      <td>card agent anniversary date agent information ...</td>\n",
       "    </tr>\n",
       "    <tr>\n",
       "      <th>10</th>\n",
       "      <td>chase card was reported on xxxx however fraudu...</td>\n",
       "      <td>chase card reported xxxx however fraudulent ap...</td>\n",
       "      <td>card application identity consent services cre...</td>\n",
       "      <td>card application identity consent services cre...</td>\n",
       "    </tr>\n",
       "    <tr>\n",
       "      <th>11</th>\n",
       "      <td>on xxxx while trying to book a xxxx  xxxx  tic...</td>\n",
       "      <td>xxxx trying book xxxx xxxx ticket came across ...</td>\n",
       "      <td>xxxx ticket offer ticket rewards card informat...</td>\n",
       "      <td>ticket offer ticket rewards card information ...</td>\n",
       "    </tr>\n",
       "    <tr>\n",
       "      <th>14</th>\n",
       "      <td>my grand son give me check for  i deposit it i...</td>\n",
       "      <td>grand son give check deposit chase account fun...</td>\n",
       "      <td>son chase account fund bank account money son ...</td>\n",
       "      <td>son chase account fund bank account money son ...</td>\n",
       "    </tr>\n",
       "    <tr>\n",
       "      <th>...</th>\n",
       "      <td>...</td>\n",
       "      <td>...</td>\n",
       "      <td>...</td>\n",
       "      <td>...</td>\n",
       "    </tr>\n",
       "    <tr>\n",
       "      <th>78303</th>\n",
       "      <td>after being a chase card customer for well ove...</td>\n",
       "      <td>chase card customer well decade offered multip...</td>\n",
       "      <td>chase card customer decade solicitations credi...</td>\n",
       "      <td>chase card customer decade solicitations credi...</td>\n",
       "    </tr>\n",
       "    <tr>\n",
       "      <th>78309</th>\n",
       "      <td>on wednesday xxxxxxxx i called chas my xxxx xx...</td>\n",
       "      <td>wednesday xxxxxxxx called chas xxxx xxxx visa ...</td>\n",
       "      <td>card provider claim purchase protection benefi...</td>\n",
       "      <td>card provider claim purchase protection benefi...</td>\n",
       "    </tr>\n",
       "    <tr>\n",
       "      <th>78310</th>\n",
       "      <td>i am not familiar with xxxx pay and did not un...</td>\n",
       "      <td>familiar xxxx pay understand great risk provid...</td>\n",
       "      <td>pay risk consumers chase years banking merchan...</td>\n",
       "      <td>pay risk consumers chase years banking merchan...</td>\n",
       "    </tr>\n",
       "    <tr>\n",
       "      <th>78311</th>\n",
       "      <td>i have had flawless credit for  yrs ive had ch...</td>\n",
       "      <td>flawless credit yr ive chase credit card chase...</td>\n",
       "      <td>credit credit cards chase freedom xxxx problem...</td>\n",
       "      <td>credit credit cards chase freedom  problems ba...</td>\n",
       "    </tr>\n",
       "    <tr>\n",
       "      <th>78312</th>\n",
       "      <td>roughly  years ago i closed out my accounts wi...</td>\n",
       "      <td>roughly year ago closed account jp morgan chas...</td>\n",
       "      <td>years accounts order line credit account payme...</td>\n",
       "      <td>years accounts order line credit account payme...</td>\n",
       "    </tr>\n",
       "  </tbody>\n",
       "</table>\n",
       "<p>21072 rows × 4 columns</p>\n",
       "</div>"
      ],
      "text/plain": [
       "                                              complaints  ...                                    Complaint_clean\n",
       "1      good morning my name is xxxx xxxx and i apprec...  ...  morning name stop bank cardmember services deb...\n",
       "2      i upgraded my xxxx xxxx card in xxxx and was t...  ...  card agent anniversary date agent information ...\n",
       "10     chase card was reported on xxxx however fraudu...  ...  card application identity consent services cre...\n",
       "11     on xxxx while trying to book a xxxx  xxxx  tic...  ...   ticket offer ticket rewards card information ...\n",
       "14     my grand son give me check for  i deposit it i...  ...  son chase account fund bank account money son ...\n",
       "...                                                  ...  ...                                                ...\n",
       "78303  after being a chase card customer for well ove...  ...  chase card customer decade solicitations credi...\n",
       "78309  on wednesday xxxxxxxx i called chas my xxxx xx...  ...  card provider claim purchase protection benefi...\n",
       "78310  i am not familiar with xxxx pay and did not un...  ...  pay risk consumers chase years banking merchan...\n",
       "78311  i have had flawless credit for  yrs ive had ch...  ...  credit credit cards chase freedom  problems ba...\n",
       "78312  roughly  years ago i closed out my accounts wi...  ...  years accounts order line credit account payme...\n",
       "\n",
       "[21072 rows x 4 columns]"
      ]
     },
     "execution_count": 32,
     "metadata": {},
     "output_type": "execute_result"
    }
   ],
   "source": [
    "#All masked texts has been removed\n",
    "\n",
    "df_clean"
   ]
  },
  {
   "cell_type": "markdown",
   "metadata": {
    "id": "k-I0k0QtJrGA"
   },
   "source": [
    "## Feature Extraction\n",
    "Convert the raw texts to a matrix of TF-IDF features\n",
    "\n",
    "**max_df** is used for removing terms that appear too frequently, also known as \"corpus-specific stop words\"\n",
    "max_df = 0.95 means \"ignore terms that appear in more than 95% of the complaints\"\n",
    "\n",
    "**min_df** is used for removing terms that appear too infrequently\n",
    "min_df = 2 means \"ignore terms that appear in less than 2 complaints\""
   ]
  },
  {
   "cell_type": "code",
   "execution_count": 33,
   "metadata": {
    "executionInfo": {
     "elapsed": 663,
     "status": "ok",
     "timestamp": 1634881472089,
     "user": {
      "displayName": "Gagan Saini",
      "photoUrl": "https://lh3.googleusercontent.com/a/default-user=s64",
      "userId": "13559974833695172939"
     },
     "user_tz": -330
    },
    "id": "Y8fGwaCPJrGA"
   },
   "outputs": [],
   "source": [
    "#Write your code here to initialise the TfidfVectorizer \n",
    "from sklearn.feature_extraction.text import TfidfVectorizer\n",
    "# Transform word vector in tfidf vector\n",
    "vectorizer = TfidfVectorizer(stop_words='english', max_df=0.95, min_df=2)\n",
    "tfidf = vectorizer.fit_transform(df_clean.Complaint_clean) \n",
    "\n"
   ]
  },
  {
   "cell_type": "markdown",
   "metadata": {
    "id": "yYzD85nTJrGA"
   },
   "source": [
    "#### Create a document term matrix using fit_transform\n",
    "\n",
    "The contents of a document term matrix are tuples of (complaint_id,token_id) tf-idf score:\n",
    "The tuples that are not there have a tf-idf score of 0"
   ]
  },
  {
   "cell_type": "code",
   "execution_count": 34,
   "metadata": {
    "executionInfo": {
     "elapsed": 1046,
     "status": "ok",
     "timestamp": 1634881473133,
     "user": {
      "displayName": "Gagan Saini",
      "photoUrl": "https://lh3.googleusercontent.com/a/default-user=s64",
      "userId": "13559974833695172939"
     },
     "user_tz": -330
    },
    "id": "ffzdDpp_JrGB"
   },
   "outputs": [],
   "source": [
    "#Write your code here to create the Document Term Matrix by transforming the complaints column present in df_clean.\n",
    "dtm = vectorizer.fit_transform(df_clean['Complaint_clean'])#tfidf\n"
   ]
  },
  {
   "cell_type": "markdown",
   "metadata": {
    "id": "7Q9lwvNEJrGB"
   },
   "source": [
    "## Topic Modelling using NMF\n",
    "\n",
    "Non-Negative Matrix Factorization (NMF) is an unsupervised technique so there are no labeling of topics that the model will be trained on. The way it works is that, NMF decomposes (or factorizes) high-dimensional vectors into a lower-dimensional representation. These lower-dimensional vectors are non-negative which also means their coefficients are non-negative.\n",
    "\n",
    "In this task you have to perform the following:\n",
    "\n",
    "* Find the best number of clusters \n",
    "* Apply the best number to create word clusters\n",
    "* Inspect & validate the correction of each cluster wrt the complaints \n",
    "* Correct the labels if needed \n",
    "* Map the clusters to topics/cluster names"
   ]
  },
  {
   "cell_type": "code",
   "execution_count": 35,
   "metadata": {
    "executionInfo": {
     "elapsed": 6,
     "status": "ok",
     "timestamp": 1634881473134,
     "user": {
      "displayName": "Gagan Saini",
      "photoUrl": "https://lh3.googleusercontent.com/a/default-user=s64",
      "userId": "13559974833695172939"
     },
     "user_tz": -330
    },
    "id": "amLT4omWJrGB"
   },
   "outputs": [],
   "source": [
    "from sklearn.decomposition import NMF"
   ]
  },
  {
   "cell_type": "code",
   "execution_count": 36,
   "metadata": {
    "executionInfo": {
     "elapsed": 5,
     "status": "ok",
     "timestamp": 1634881473134,
     "user": {
      "displayName": "Gagan Saini",
      "photoUrl": "https://lh3.googleusercontent.com/a/default-user=s64",
      "userId": "13559974833695172939"
     },
     "user_tz": -330
    },
    "id": "Wm_D1ia0uGjj"
   },
   "outputs": [],
   "source": [
    "from sklearn.feature_extraction.text import CountVectorizer, TfidfVectorizer\n"
   ]
  },
  {
   "cell_type": "markdown",
   "metadata": {
    "id": "0wYR1xUTJrGD"
   },
   "source": [
    "## Manual Topic Modeling\n",
    "You need to do take the trial & error approach to find the best num of topics for your NMF model.\n",
    "\n",
    "The only parameter that is required is the number of components i.e. the number of topics we want. This is the most crucial step in the whole topic modeling process and will greatly affect how good your final topics are."
   ]
  },
  {
   "cell_type": "code",
   "execution_count": 37,
   "metadata": {
    "executionInfo": {
     "elapsed": 6,
     "status": "ok",
     "timestamp": 1634881473135,
     "user": {
      "displayName": "Gagan Saini",
      "photoUrl": "https://lh3.googleusercontent.com/a/default-user=s64",
      "userId": "13559974833695172939"
     },
     "user_tz": -330
    },
    "id": "sgd2A6bhJrGD"
   },
   "outputs": [],
   "source": [
    "#Load your nmf_model with the n_components i.e 5\n",
    "num_topics = 5\n",
    "\n",
    "#keep the random_state =40\n",
    "nmf_model = NMF(n_components = 5, random_state = 100)"
   ]
  },
  {
   "cell_type": "code",
   "execution_count": 38,
   "metadata": {
    "executionInfo": {
     "elapsed": 5,
     "status": "ok",
     "timestamp": 1634881473135,
     "user": {
      "displayName": "Gagan Saini",
      "photoUrl": "https://lh3.googleusercontent.com/a/default-user=s64",
      "userId": "13559974833695172939"
     },
     "user_tz": -330
    },
    "id": "iwJudiH5s6RV"
   },
   "outputs": [],
   "source": [
    "    def get_feature_names():\n",
    "        \"\"\"Array mapping from feature integer indices to feature name.\n",
    "        Returns\n",
    "        -------\n",
    "        feature_names : list\n",
    "            A list of feature names.\n",
    "        \"\"\"\n",
    "        self._check_vocabulary()\n",
    "\n",
    "        return [t for t, i in sorted(self.vocabulary_.items(), key=itemgetter(1))]"
   ]
  },
  {
   "cell_type": "code",
   "execution_count": 39,
   "metadata": {
    "executionInfo": {
     "elapsed": 6,
     "status": "ok",
     "timestamp": 1634881473136,
     "user": {
      "displayName": "Gagan Saini",
      "photoUrl": "https://lh3.googleusercontent.com/a/default-user=s64",
      "userId": "13559974833695172939"
     },
     "user_tz": -330
    },
    "id": "LmnTzRly-N45"
   },
   "outputs": [],
   "source": [
    "from sklearn.feature_extraction.text import TfidfTransformer\n",
    "from sklearn.feature_extraction.text import CountVectorizer\n",
    "from sklearn.pipeline import Pipeline"
   ]
  },
  {
   "cell_type": "code",
   "execution_count": 40,
   "metadata": {
    "colab": {
     "base_uri": "https://localhost:8080/"
    },
    "executionInfo": {
     "elapsed": 1309,
     "status": "ok",
     "timestamp": 1634881474439,
     "user": {
      "displayName": "Gagan Saini",
      "photoUrl": "https://lh3.googleusercontent.com/a/default-user=s64",
      "userId": "13559974833695172939"
     },
     "user_tz": -330
    },
    "id": "wiBI6J3ZudEy",
    "outputId": "52f38d16-fa9b-49ec-80f2-29a7ae8b6a9d"
   },
   "outputs": [
    {
     "data": {
      "text/plain": [
       "NMF(alpha=0.0, beta_loss='frobenius', init=None, l1_ratio=0.0, max_iter=200,\n",
       "    n_components=5, random_state=100, shuffle=False, solver='cd', tol=0.0001,\n",
       "    verbose=0)"
      ]
     },
     "execution_count": 40,
     "metadata": {},
     "output_type": "execute_result"
    }
   ],
   "source": [
    "nmf_model.fit(dtm)\n",
    "#len(tfidf.get_feature_names())"
   ]
  },
  {
   "cell_type": "code",
   "execution_count": 41,
   "metadata": {
    "executionInfo": {
     "elapsed": 12,
     "status": "ok",
     "timestamp": 1634881474441,
     "user": {
      "displayName": "Gagan Saini",
      "photoUrl": "https://lh3.googleusercontent.com/a/default-user=s64",
      "userId": "13559974833695172939"
     },
     "user_tz": -330
    },
    "id": "16kRfat5JrGE"
   },
   "outputs": [],
   "source": [
    "# Print the Top15 words for each of the topics\n",
    "# words = np.array(vect.get_feature_names())\n",
    "# topic_words = pd.DataFrame(np.zeros((num_topics, 10)), index=[f'Topic {i + 1}' for i in range(num_topics)],\n",
    "#                            columns=[f'Word {i + 1}' for i in range(10)]).astype(str)\n",
    "# for i in range(num_topics):\n",
    "#    words = nmf_model.show_topic(i, topn = 20);\n",
    "#    word_dict['Topic # ' + '{:02d}'.format(i+1)] = [i[0] for i in words];\n",
    "#    ix = H[i].argsort()[::-1][:10]\n",
    "#    topic_words.iloc[i] = words[ix]\n",
    "\n",
    "# topic_words"
   ]
  },
  {
   "cell_type": "code",
   "execution_count": 42,
   "metadata": {
    "colab": {
     "base_uri": "https://localhost:8080/"
    },
    "executionInfo": {
     "elapsed": 12,
     "status": "ok",
     "timestamp": 1634881474442,
     "user": {
      "displayName": "Gagan Saini",
      "photoUrl": "https://lh3.googleusercontent.com/a/default-user=s64",
      "userId": "13559974833695172939"
     },
     "user_tz": -330
    },
    "id": "0OIT7LmFJrGF",
    "outputId": "31c3dfc0-e00e-4f43-c049-c56c45d742ed"
   },
   "outputs": [
    {
     "data": {
      "text/plain": [
       "array([0, 3, 1, ..., 3, 4, 4])"
      ]
     },
     "execution_count": 42,
     "metadata": {},
     "output_type": "execute_result"
    }
   ],
   "source": [
    "#Create the best topic for each complaint in terms of integer value 0,1,2,3 & 4\n",
    "topic_results = nmf_model.transform(dtm)\n",
    "topic_results[0].round(2)\n",
    "topic_results[0].argmax()\n",
    "topic_results.argmax(axis=1)\n"
   ]
  },
  {
   "cell_type": "code",
   "execution_count": 43,
   "metadata": {
    "executionInfo": {
     "elapsed": 14,
     "status": "ok",
     "timestamp": 1634881474447,
     "user": {
      "displayName": "Gagan Saini",
      "photoUrl": "https://lh3.googleusercontent.com/a/default-user=s64",
      "userId": "13559974833695172939"
     },
     "user_tz": -330
    },
    "id": "peyYv-ORJrGF"
   },
   "outputs": [],
   "source": [
    "#Assign the best topic to each of the complaints in Topic Column\n",
    "\n",
    "df_clean['Topic'] = topic_results.argmax(axis=1) #write your code to assign topics to each rows."
   ]
  },
  {
   "cell_type": "code",
   "execution_count": 44,
   "metadata": {
    "colab": {
     "base_uri": "https://localhost:8080/",
     "height": 204
    },
    "executionInfo": {
     "elapsed": 16,
     "status": "ok",
     "timestamp": 1634881474449,
     "user": {
      "displayName": "Gagan Saini",
      "photoUrl": "https://lh3.googleusercontent.com/a/default-user=s64",
      "userId": "13559974833695172939"
     },
     "user_tz": -330
    },
    "id": "fLh_Gf3nJrGF",
    "outputId": "0d81d8c1-e7ea-4c78-baa6-685764b8dfb0"
   },
   "outputs": [
    {
     "data": {
      "text/html": [
       "<div>\n",
       "<style scoped>\n",
       "    .dataframe tbody tr th:only-of-type {\n",
       "        vertical-align: middle;\n",
       "    }\n",
       "\n",
       "    .dataframe tbody tr th {\n",
       "        vertical-align: top;\n",
       "    }\n",
       "\n",
       "    .dataframe thead th {\n",
       "        text-align: right;\n",
       "    }\n",
       "</style>\n",
       "<table border=\"1\" class=\"dataframe\">\n",
       "  <thead>\n",
       "    <tr style=\"text-align: right;\">\n",
       "      <th></th>\n",
       "      <th>complaints</th>\n",
       "      <th>lemmatized_complaints</th>\n",
       "      <th>complaint_POS_removed</th>\n",
       "      <th>Complaint_clean</th>\n",
       "      <th>Topic</th>\n",
       "    </tr>\n",
       "  </thead>\n",
       "  <tbody>\n",
       "    <tr>\n",
       "      <th>1</th>\n",
       "      <td>good morning my name is xxxx xxxx and i apprec...</td>\n",
       "      <td>good morning name xxxx xxxx appreciate could h...</td>\n",
       "      <td>morning name stop bank cardmember services deb...</td>\n",
       "      <td>morning name stop bank cardmember services deb...</td>\n",
       "      <td>0</td>\n",
       "    </tr>\n",
       "    <tr>\n",
       "      <th>2</th>\n",
       "      <td>i upgraded my xxxx xxxx card in xxxx and was t...</td>\n",
       "      <td>upgraded xxxx xxxx card xxxx told agent upgrad...</td>\n",
       "      <td>card agent anniversary date agent information ...</td>\n",
       "      <td>card agent anniversary date agent information ...</td>\n",
       "      <td>3</td>\n",
       "    </tr>\n",
       "    <tr>\n",
       "      <th>10</th>\n",
       "      <td>chase card was reported on xxxx however fraudu...</td>\n",
       "      <td>chase card reported xxxx however fraudulent ap...</td>\n",
       "      <td>card application identity consent services cre...</td>\n",
       "      <td>card application identity consent services cre...</td>\n",
       "      <td>1</td>\n",
       "    </tr>\n",
       "    <tr>\n",
       "      <th>11</th>\n",
       "      <td>on xxxx while trying to book a xxxx  xxxx  tic...</td>\n",
       "      <td>xxxx trying book xxxx xxxx ticket came across ...</td>\n",
       "      <td>xxxx ticket offer ticket rewards card informat...</td>\n",
       "      <td>ticket offer ticket rewards card information ...</td>\n",
       "      <td>1</td>\n",
       "    </tr>\n",
       "    <tr>\n",
       "      <th>14</th>\n",
       "      <td>my grand son give me check for  i deposit it i...</td>\n",
       "      <td>grand son give check deposit chase account fun...</td>\n",
       "      <td>son chase account fund bank account money son ...</td>\n",
       "      <td>son chase account fund bank account money son ...</td>\n",
       "      <td>0</td>\n",
       "    </tr>\n",
       "  </tbody>\n",
       "</table>\n",
       "</div>"
      ],
      "text/plain": [
       "                                           complaints  ... Topic\n",
       "1   good morning my name is xxxx xxxx and i apprec...  ...     0\n",
       "2   i upgraded my xxxx xxxx card in xxxx and was t...  ...     3\n",
       "10  chase card was reported on xxxx however fraudu...  ...     1\n",
       "11  on xxxx while trying to book a xxxx  xxxx  tic...  ...     1\n",
       "14  my grand son give me check for  i deposit it i...  ...     0\n",
       "\n",
       "[5 rows x 5 columns]"
      ]
     },
     "execution_count": 44,
     "metadata": {},
     "output_type": "execute_result"
    }
   ],
   "source": [
    "df_clean.head()"
   ]
  },
  {
   "cell_type": "code",
   "execution_count": 45,
   "metadata": {
    "colab": {
     "base_uri": "https://localhost:8080/",
     "height": 824
    },
    "executionInfo": {
     "elapsed": 918,
     "status": "ok",
     "timestamp": 1634881475352,
     "user": {
      "displayName": "Gagan Saini",
      "photoUrl": "https://lh3.googleusercontent.com/a/default-user=s64",
      "userId": "13559974833695172939"
     },
     "user_tz": -330
    },
    "id": "aQKpufSPJrGG",
    "outputId": "3774923a-3e13-4bfe-c69b-5f6f34695514"
   },
   "outputs": [
    {
     "data": {
      "text/html": [
       "<div>\n",
       "<style scoped>\n",
       "    .dataframe tbody tr th:only-of-type {\n",
       "        vertical-align: middle;\n",
       "    }\n",
       "\n",
       "    .dataframe tbody tr th {\n",
       "        vertical-align: top;\n",
       "    }\n",
       "\n",
       "    .dataframe thead th {\n",
       "        text-align: right;\n",
       "    }\n",
       "</style>\n",
       "<table border=\"1\" class=\"dataframe\">\n",
       "  <thead>\n",
       "    <tr style=\"text-align: right;\">\n",
       "      <th></th>\n",
       "      <th>complaints</th>\n",
       "      <th>lemmatized_complaints</th>\n",
       "      <th>complaint_POS_removed</th>\n",
       "      <th>Complaint_clean</th>\n",
       "      <th>Topic</th>\n",
       "    </tr>\n",
       "  </thead>\n",
       "  <tbody>\n",
       "    <tr>\n",
       "      <th>1</th>\n",
       "      <td>good morning my name is xxxx xxxx and i apprec...</td>\n",
       "      <td>good morning name xxxx xxxx appreciate could h...</td>\n",
       "      <td>morning name stop bank cardmember services deb...</td>\n",
       "      <td>morning name stop bank cardmember services deb...</td>\n",
       "      <td>0</td>\n",
       "    </tr>\n",
       "    <tr>\n",
       "      <th>24</th>\n",
       "      <td>mishandling of this account by chase auto and ...</td>\n",
       "      <td>mishandling account chase auto xxxx</td>\n",
       "      <td>account</td>\n",
       "      <td>account</td>\n",
       "      <td>0</td>\n",
       "    </tr>\n",
       "    <tr>\n",
       "      <th>17</th>\n",
       "      <td>with out notice jp morgan chase restricted my ...</td>\n",
       "      <td>notice jp morgan chase restricted account debi...</td>\n",
       "      <td>notice account debit card branch customer serv...</td>\n",
       "      <td>notice account debit card branch customer serv...</td>\n",
       "      <td>0</td>\n",
       "    </tr>\n",
       "    <tr>\n",
       "      <th>14</th>\n",
       "      <td>my grand son give me check for  i deposit it i...</td>\n",
       "      <td>grand son give check deposit chase account fun...</td>\n",
       "      <td>son chase account fund bank account money son ...</td>\n",
       "      <td>son chase account fund bank account money son ...</td>\n",
       "      <td>0</td>\n",
       "    </tr>\n",
       "    <tr>\n",
       "      <th>27</th>\n",
       "      <td>i opened an account with chase bank on xxxx an...</td>\n",
       "      <td>opened account chase bank xxxx used code xxxx ...</td>\n",
       "      <td>account code xxxxxxxx terms account deposit bo...</td>\n",
       "      <td>account code  terms account deposit bonus days...</td>\n",
       "      <td>0</td>\n",
       "    </tr>\n",
       "    <tr>\n",
       "      <th>15</th>\n",
       "      <td>can you please remove inquiry</td>\n",
       "      <td>please remove inquiry</td>\n",
       "      <td>inquiry</td>\n",
       "      <td>inquiry</td>\n",
       "      <td>1</td>\n",
       "    </tr>\n",
       "    <tr>\n",
       "      <th>10</th>\n",
       "      <td>chase card was reported on xxxx however fraudu...</td>\n",
       "      <td>chase card reported xxxx however fraudulent ap...</td>\n",
       "      <td>card application identity consent services cre...</td>\n",
       "      <td>card application identity consent services cre...</td>\n",
       "      <td>1</td>\n",
       "    </tr>\n",
       "    <tr>\n",
       "      <th>23</th>\n",
       "      <td>i have a chase credit card which is incorrectl...</td>\n",
       "      <td>chase credit card incorrectly reporting data c...</td>\n",
       "      <td>chase credit card data credit report company i...</td>\n",
       "      <td>chase credit card data credit report company i...</td>\n",
       "      <td>1</td>\n",
       "    </tr>\n",
       "    <tr>\n",
       "      <th>26</th>\n",
       "      <td>i have reached out to xxxx several times in at...</td>\n",
       "      <td>reached xxxx several time attempt fraudulent i...</td>\n",
       "      <td>times attempt inquiry creditor inquiry report ...</td>\n",
       "      <td>times attempt inquiry creditor inquiry report ...</td>\n",
       "      <td>1</td>\n",
       "    </tr>\n",
       "    <tr>\n",
       "      <th>11</th>\n",
       "      <td>on xxxx while trying to book a xxxx  xxxx  tic...</td>\n",
       "      <td>xxxx trying book xxxx xxxx ticket came across ...</td>\n",
       "      <td>xxxx ticket offer ticket rewards card informat...</td>\n",
       "      <td>ticket offer ticket rewards card information ...</td>\n",
       "      <td>1</td>\n",
       "    </tr>\n",
       "    <tr>\n",
       "      <th>99</th>\n",
       "      <td>my name is xxxx xxxx i have missed a payment i...</td>\n",
       "      <td>name xxxx xxxx missed payment xxxx day past du...</td>\n",
       "      <td>name payment days times loan modification loss...</td>\n",
       "      <td>name payment days times loan modification loss...</td>\n",
       "      <td>2</td>\n",
       "    </tr>\n",
       "    <tr>\n",
       "      <th>81</th>\n",
       "      <td>i bought a new xxxx xxxx on xxxxxxxx from xxxx...</td>\n",
       "      <td>bought new xxxx xxxx xxxxxxxx xxxx xxxx xxxx x...</td>\n",
       "      <td>xxxx loan title chase time resolution time sta...</td>\n",
       "      <td>loan title chase time resolution time state r...</td>\n",
       "      <td>2</td>\n",
       "    </tr>\n",
       "    <tr>\n",
       "      <th>73</th>\n",
       "      <td>i have wired through one of chase branches in ...</td>\n",
       "      <td>wired one chase branch xxxx xxxx exact reinsta...</td>\n",
       "      <td>chase branches reinstatement amount order fore...</td>\n",
       "      <td>chase branches reinstatement amount order fore...</td>\n",
       "      <td>2</td>\n",
       "    </tr>\n",
       "    <tr>\n",
       "      <th>127</th>\n",
       "      <td>i am xxxx military member  with the xxxx chase...</td>\n",
       "      <td>xxxx military member xxxx chase auto finance r...</td>\n",
       "      <td>member finance gap coverage time financing agr...</td>\n",
       "      <td>member finance gap coverage time financing agr...</td>\n",
       "      <td>2</td>\n",
       "    </tr>\n",
       "    <tr>\n",
       "      <th>57</th>\n",
       "      <td>i have been trying to do a loan modification w...</td>\n",
       "      <td>trying loan modification chase give runaround ...</td>\n",
       "      <td>loan modification chase runaround mo payments ...</td>\n",
       "      <td>loan modification chase runaround mo payments ...</td>\n",
       "      <td>2</td>\n",
       "    </tr>\n",
       "    <tr>\n",
       "      <th>45</th>\n",
       "      <td>i made a purchase with xxxx xxxx xxxx on xxxx ...</td>\n",
       "      <td>made purchase xxxx xxxx xxxx xxxx amount charg...</td>\n",
       "      <td>purchase amount transaction disputes case char...</td>\n",
       "      <td>purchase amount transaction disputes case char...</td>\n",
       "      <td>3</td>\n",
       "    </tr>\n",
       "    <tr>\n",
       "      <th>32</th>\n",
       "      <td>my chase amazon card was declined for a cateri...</td>\n",
       "      <td>chase amazon card declined catering order plac...</td>\n",
       "      <td>chase card catering order brothers funeral amo...</td>\n",
       "      <td>chase card catering order brothers funeral amo...</td>\n",
       "      <td>3</td>\n",
       "    </tr>\n",
       "    <tr>\n",
       "      <th>2</th>\n",
       "      <td>i upgraded my xxxx xxxx card in xxxx and was t...</td>\n",
       "      <td>upgraded xxxx xxxx card xxxx told agent upgrad...</td>\n",
       "      <td>card agent anniversary date agent information ...</td>\n",
       "      <td>card agent anniversary date agent information ...</td>\n",
       "      <td>3</td>\n",
       "    </tr>\n",
       "    <tr>\n",
       "      <th>21</th>\n",
       "      <td>on xxxx xxxx i made a  payment to an online re...</td>\n",
       "      <td>xxxx xxxx made payment online retailer using c...</td>\n",
       "      <td>payment retailer chase pay chase website scam ...</td>\n",
       "      <td>payment retailer chase pay chase website scam ...</td>\n",
       "      <td>3</td>\n",
       "    </tr>\n",
       "    <tr>\n",
       "      <th>40</th>\n",
       "      <td>xxxx xxxx a sofa love seat table and chairs an...</td>\n",
       "      <td>xxxx xxxx sofa love seat table chair never del...</td>\n",
       "      <td>sofa love seat table chairs debit card claim f...</td>\n",
       "      <td>sofa love seat table chairs debit card claim f...</td>\n",
       "      <td>3</td>\n",
       "    </tr>\n",
       "    <tr>\n",
       "      <th>30</th>\n",
       "      <td>to whom it may concern chase bank charged wron...</td>\n",
       "      <td>may concern chase bank charged wrongly overdra...</td>\n",
       "      <td>concern overdraft fees alert balance unsuficen...</td>\n",
       "      <td>concern overdraft fees alert balance unsuficen...</td>\n",
       "      <td>4</td>\n",
       "    </tr>\n",
       "    <tr>\n",
       "      <th>58</th>\n",
       "      <td>i made a purchase of  on xxxxxxxx i made payme...</td>\n",
       "      <td>made purchase xxxxxxxx made payment xxxxxxxx x...</td>\n",
       "      <td>purchase payments xxxxxxxx payment closing dat...</td>\n",
       "      <td>purchase payments  payment closing date statem...</td>\n",
       "      <td>4</td>\n",
       "    </tr>\n",
       "    <tr>\n",
       "      <th>82</th>\n",
       "      <td>i recently called to ask chase bank why they r...</td>\n",
       "      <td>recently called ask chase bank reported credit...</td>\n",
       "      <td>credit bureau days payment info xxxx bill xxxx...</td>\n",
       "      <td>credit bureau days payment info  bill  balance...</td>\n",
       "      <td>4</td>\n",
       "    </tr>\n",
       "    <tr>\n",
       "      <th>20</th>\n",
       "      <td>during the summer months i experience a declin...</td>\n",
       "      <td>summer month experience decline income due emp...</td>\n",
       "      <td>summer months decline income employment month ...</td>\n",
       "      <td>summer months decline income employment month ...</td>\n",
       "      <td>4</td>\n",
       "    </tr>\n",
       "    <tr>\n",
       "      <th>141</th>\n",
       "      <td>action taken by the company between the dates ...</td>\n",
       "      <td>action taken company date xxxxxxxx xxxxxxxx in...</td>\n",
       "      <td>action company dates xxxxxxxx chase claims cla...</td>\n",
       "      <td>action company dates  chase claims claims paym...</td>\n",
       "      <td>4</td>\n",
       "    </tr>\n",
       "  </tbody>\n",
       "</table>\n",
       "</div>"
      ],
      "text/plain": [
       "                                            complaints  ... Topic\n",
       "1    good morning my name is xxxx xxxx and i apprec...  ...     0\n",
       "24   mishandling of this account by chase auto and ...  ...     0\n",
       "17   with out notice jp morgan chase restricted my ...  ...     0\n",
       "14   my grand son give me check for  i deposit it i...  ...     0\n",
       "27   i opened an account with chase bank on xxxx an...  ...     0\n",
       "15                       can you please remove inquiry  ...     1\n",
       "10   chase card was reported on xxxx however fraudu...  ...     1\n",
       "23   i have a chase credit card which is incorrectl...  ...     1\n",
       "26   i have reached out to xxxx several times in at...  ...     1\n",
       "11   on xxxx while trying to book a xxxx  xxxx  tic...  ...     1\n",
       "99   my name is xxxx xxxx i have missed a payment i...  ...     2\n",
       "81   i bought a new xxxx xxxx on xxxxxxxx from xxxx...  ...     2\n",
       "73   i have wired through one of chase branches in ...  ...     2\n",
       "127  i am xxxx military member  with the xxxx chase...  ...     2\n",
       "57   i have been trying to do a loan modification w...  ...     2\n",
       "45   i made a purchase with xxxx xxxx xxxx on xxxx ...  ...     3\n",
       "32   my chase amazon card was declined for a cateri...  ...     3\n",
       "2    i upgraded my xxxx xxxx card in xxxx and was t...  ...     3\n",
       "21   on xxxx xxxx i made a  payment to an online re...  ...     3\n",
       "40   xxxx xxxx a sofa love seat table and chairs an...  ...     3\n",
       "30   to whom it may concern chase bank charged wron...  ...     4\n",
       "58   i made a purchase of  on xxxxxxxx i made payme...  ...     4\n",
       "82   i recently called to ask chase bank why they r...  ...     4\n",
       "20   during the summer months i experience a declin...  ...     4\n",
       "141  action taken by the company between the dates ...  ...     4\n",
       "\n",
       "[25 rows x 5 columns]"
      ]
     },
     "execution_count": 45,
     "metadata": {},
     "output_type": "execute_result"
    }
   ],
   "source": [
    "#Print the first 5 Complaint for each of the Topics\n",
    "df_clean1=df_clean.groupby('Topic').head(5)\n",
    "df_clean1.sort_values('Topic')"
   ]
  },
  {
   "cell_type": "markdown",
   "metadata": {
    "id": "piyLxzj6v07j"
   },
   "source": [
    "#### After evaluating the mapping, if the topics assigned are correct then assign these names to the relevant topic:\n",
    "* Bank Account services\n",
    "* Credit card or prepaid card\n",
    "* Theft/Dispute Reporting\n",
    "* Mortgage/Loan\n",
    "* Others"
   ]
  },
  {
   "cell_type": "code",
   "execution_count": 46,
   "metadata": {
    "executionInfo": {
     "elapsed": 28,
     "status": "ok",
     "timestamp": 1634881475353,
     "user": {
      "displayName": "Gagan Saini",
      "photoUrl": "https://lh3.googleusercontent.com/a/default-user=s64",
      "userId": "13559974833695172939"
     },
     "user_tz": -330
    },
    "id": "TWpwDG4RJrGG"
   },
   "outputs": [],
   "source": [
    "#Create the dictionary of Topic names and Topics\n",
    "\n",
    "Topic_names = {0:\"Bank Account services\",\n",
    "               1:\"Credit card or prepaid card\",\n",
    "               4:\"Theft/Dispute Reporting\",\n",
    "               2:\"Mortgage/Loan\",\n",
    "               3:\"Others\" }\n",
    "               \n",
    "#Replace Topics with Topic Names\n",
    "df_clean['Topic'] = df_clean['Topic'].map(Topic_names)"
   ]
  },
  {
   "cell_type": "code",
   "execution_count": 47,
   "metadata": {
    "colab": {
     "base_uri": "https://localhost:8080/",
     "height": 572
    },
    "executionInfo": {
     "elapsed": 27,
     "status": "ok",
     "timestamp": 1634881475354,
     "user": {
      "displayName": "Gagan Saini",
      "photoUrl": "https://lh3.googleusercontent.com/a/default-user=s64",
      "userId": "13559974833695172939"
     },
     "user_tz": -330
    },
    "id": "-2ULY5K6JrGG",
    "outputId": "e4374e3f-60f5-440a-fb62-8daef1d49701"
   },
   "outputs": [
    {
     "data": {
      "text/html": [
       "<div>\n",
       "<style scoped>\n",
       "    .dataframe tbody tr th:only-of-type {\n",
       "        vertical-align: middle;\n",
       "    }\n",
       "\n",
       "    .dataframe tbody tr th {\n",
       "        vertical-align: top;\n",
       "    }\n",
       "\n",
       "    .dataframe thead th {\n",
       "        text-align: right;\n",
       "    }\n",
       "</style>\n",
       "<table border=\"1\" class=\"dataframe\">\n",
       "  <thead>\n",
       "    <tr style=\"text-align: right;\">\n",
       "      <th></th>\n",
       "      <th>complaints</th>\n",
       "      <th>lemmatized_complaints</th>\n",
       "      <th>complaint_POS_removed</th>\n",
       "      <th>Complaint_clean</th>\n",
       "      <th>Topic</th>\n",
       "    </tr>\n",
       "  </thead>\n",
       "  <tbody>\n",
       "    <tr>\n",
       "      <th>1</th>\n",
       "      <td>good morning my name is xxxx xxxx and i apprec...</td>\n",
       "      <td>good morning name xxxx xxxx appreciate could h...</td>\n",
       "      <td>morning name stop bank cardmember services deb...</td>\n",
       "      <td>morning name stop bank cardmember services deb...</td>\n",
       "      <td>Bank Account services</td>\n",
       "    </tr>\n",
       "    <tr>\n",
       "      <th>2</th>\n",
       "      <td>i upgraded my xxxx xxxx card in xxxx and was t...</td>\n",
       "      <td>upgraded xxxx xxxx card xxxx told agent upgrad...</td>\n",
       "      <td>card agent anniversary date agent information ...</td>\n",
       "      <td>card agent anniversary date agent information ...</td>\n",
       "      <td>Others</td>\n",
       "    </tr>\n",
       "    <tr>\n",
       "      <th>10</th>\n",
       "      <td>chase card was reported on xxxx however fraudu...</td>\n",
       "      <td>chase card reported xxxx however fraudulent ap...</td>\n",
       "      <td>card application identity consent services cre...</td>\n",
       "      <td>card application identity consent services cre...</td>\n",
       "      <td>Credit card or prepaid card</td>\n",
       "    </tr>\n",
       "    <tr>\n",
       "      <th>11</th>\n",
       "      <td>on xxxx while trying to book a xxxx  xxxx  tic...</td>\n",
       "      <td>xxxx trying book xxxx xxxx ticket came across ...</td>\n",
       "      <td>xxxx ticket offer ticket rewards card informat...</td>\n",
       "      <td>ticket offer ticket rewards card information ...</td>\n",
       "      <td>Credit card or prepaid card</td>\n",
       "    </tr>\n",
       "    <tr>\n",
       "      <th>14</th>\n",
       "      <td>my grand son give me check for  i deposit it i...</td>\n",
       "      <td>grand son give check deposit chase account fun...</td>\n",
       "      <td>son chase account fund bank account money son ...</td>\n",
       "      <td>son chase account fund bank account money son ...</td>\n",
       "      <td>Bank Account services</td>\n",
       "    </tr>\n",
       "    <tr>\n",
       "      <th>...</th>\n",
       "      <td>...</td>\n",
       "      <td>...</td>\n",
       "      <td>...</td>\n",
       "      <td>...</td>\n",
       "      <td>...</td>\n",
       "    </tr>\n",
       "    <tr>\n",
       "      <th>78303</th>\n",
       "      <td>after being a chase card customer for well ove...</td>\n",
       "      <td>chase card customer well decade offered multip...</td>\n",
       "      <td>chase card customer decade solicitations credi...</td>\n",
       "      <td>chase card customer decade solicitations credi...</td>\n",
       "      <td>Others</td>\n",
       "    </tr>\n",
       "    <tr>\n",
       "      <th>78309</th>\n",
       "      <td>on wednesday xxxxxxxx i called chas my xxxx xx...</td>\n",
       "      <td>wednesday xxxxxxxx called chas xxxx xxxx visa ...</td>\n",
       "      <td>card provider claim purchase protection benefi...</td>\n",
       "      <td>card provider claim purchase protection benefi...</td>\n",
       "      <td>Others</td>\n",
       "    </tr>\n",
       "    <tr>\n",
       "      <th>78310</th>\n",
       "      <td>i am not familiar with xxxx pay and did not un...</td>\n",
       "      <td>familiar xxxx pay understand great risk provid...</td>\n",
       "      <td>pay risk consumers chase years banking merchan...</td>\n",
       "      <td>pay risk consumers chase years banking merchan...</td>\n",
       "      <td>Others</td>\n",
       "    </tr>\n",
       "    <tr>\n",
       "      <th>78311</th>\n",
       "      <td>i have had flawless credit for  yrs ive had ch...</td>\n",
       "      <td>flawless credit yr ive chase credit card chase...</td>\n",
       "      <td>credit credit cards chase freedom xxxx problem...</td>\n",
       "      <td>credit credit cards chase freedom  problems ba...</td>\n",
       "      <td>Theft/Dispute Reporting</td>\n",
       "    </tr>\n",
       "    <tr>\n",
       "      <th>78312</th>\n",
       "      <td>roughly  years ago i closed out my accounts wi...</td>\n",
       "      <td>roughly year ago closed account jp morgan chas...</td>\n",
       "      <td>years accounts order line credit account payme...</td>\n",
       "      <td>years accounts order line credit account payme...</td>\n",
       "      <td>Theft/Dispute Reporting</td>\n",
       "    </tr>\n",
       "  </tbody>\n",
       "</table>\n",
       "<p>21072 rows × 5 columns</p>\n",
       "</div>"
      ],
      "text/plain": [
       "                                              complaints  ...                        Topic\n",
       "1      good morning my name is xxxx xxxx and i apprec...  ...        Bank Account services\n",
       "2      i upgraded my xxxx xxxx card in xxxx and was t...  ...                       Others\n",
       "10     chase card was reported on xxxx however fraudu...  ...  Credit card or prepaid card\n",
       "11     on xxxx while trying to book a xxxx  xxxx  tic...  ...  Credit card or prepaid card\n",
       "14     my grand son give me check for  i deposit it i...  ...        Bank Account services\n",
       "...                                                  ...  ...                          ...\n",
       "78303  after being a chase card customer for well ove...  ...                       Others\n",
       "78309  on wednesday xxxxxxxx i called chas my xxxx xx...  ...                       Others\n",
       "78310  i am not familiar with xxxx pay and did not un...  ...                       Others\n",
       "78311  i have had flawless credit for  yrs ive had ch...  ...      Theft/Dispute Reporting\n",
       "78312  roughly  years ago i closed out my accounts wi...  ...      Theft/Dispute Reporting\n",
       "\n",
       "[21072 rows x 5 columns]"
      ]
     },
     "execution_count": 47,
     "metadata": {},
     "output_type": "execute_result"
    }
   ],
   "source": [
    "df_clean\n"
   ]
  },
  {
   "cell_type": "markdown",
   "metadata": {
    "id": "7Mu0QBOcJrGH"
   },
   "source": [
    "## Supervised model to predict any new complaints to the relevant Topics.\n",
    "\n",
    "You have now build the model to create the topics for each complaints.Now in the below section you will use them to classify any new complaints.\n",
    "\n",
    "Since you will be using supervised learning technique we have to convert the topic names to numbers(numpy arrays only understand numbers)"
   ]
  },
  {
   "cell_type": "code",
   "execution_count": 48,
   "metadata": {
    "executionInfo": {
     "elapsed": 25,
     "status": "ok",
     "timestamp": 1634881475356,
     "user": {
      "displayName": "Gagan Saini",
      "photoUrl": "https://lh3.googleusercontent.com/a/default-user=s64",
      "userId": "13559974833695172939"
     },
     "user_tz": -330
    },
    "id": "_U8J3J8wJrGH"
   },
   "outputs": [],
   "source": [
    "#Create the dictionary again of Topic names and Topics\n",
    "\n",
    "Topic_names = {\"Bank Account services\":0,\n",
    "               \"Credit card or prepaid card\":1,\n",
    "               \"Others\":3,\n",
    "               \"Theft/Dispute Reporting\":4,\n",
    "               \"Mortgage/Loan\":2}\n",
    "               \n",
    "#Replace Topics with Topic Names\n",
    "df_clean['Topic'] = df_clean['Topic'].map(Topic_names)"
   ]
  },
  {
   "cell_type": "code",
   "execution_count": 49,
   "metadata": {
    "colab": {
     "base_uri": "https://localhost:8080/",
     "height": 419
    },
    "executionInfo": {
     "elapsed": 25,
     "status": "ok",
     "timestamp": 1634881475357,
     "user": {
      "displayName": "Gagan Saini",
      "photoUrl": "https://lh3.googleusercontent.com/a/default-user=s64",
      "userId": "13559974833695172939"
     },
     "user_tz": -330
    },
    "id": "BWIgJUkQJrGH",
    "outputId": "1f06eb32-9e50-42f3-9c52-3dd425d34b0e"
   },
   "outputs": [
    {
     "data": {
      "text/html": [
       "<div>\n",
       "<style scoped>\n",
       "    .dataframe tbody tr th:only-of-type {\n",
       "        vertical-align: middle;\n",
       "    }\n",
       "\n",
       "    .dataframe tbody tr th {\n",
       "        vertical-align: top;\n",
       "    }\n",
       "\n",
       "    .dataframe thead th {\n",
       "        text-align: right;\n",
       "    }\n",
       "</style>\n",
       "<table border=\"1\" class=\"dataframe\">\n",
       "  <thead>\n",
       "    <tr style=\"text-align: right;\">\n",
       "      <th></th>\n",
       "      <th>complaints</th>\n",
       "      <th>lemmatized_complaints</th>\n",
       "      <th>complaint_POS_removed</th>\n",
       "      <th>Complaint_clean</th>\n",
       "      <th>Topic</th>\n",
       "    </tr>\n",
       "  </thead>\n",
       "  <tbody>\n",
       "    <tr>\n",
       "      <th>1</th>\n",
       "      <td>good morning my name is xxxx xxxx and i apprec...</td>\n",
       "      <td>good morning name xxxx xxxx appreciate could h...</td>\n",
       "      <td>morning name stop bank cardmember services deb...</td>\n",
       "      <td>morning name stop bank cardmember services deb...</td>\n",
       "      <td>0</td>\n",
       "    </tr>\n",
       "    <tr>\n",
       "      <th>2</th>\n",
       "      <td>i upgraded my xxxx xxxx card in xxxx and was t...</td>\n",
       "      <td>upgraded xxxx xxxx card xxxx told agent upgrad...</td>\n",
       "      <td>card agent anniversary date agent information ...</td>\n",
       "      <td>card agent anniversary date agent information ...</td>\n",
       "      <td>3</td>\n",
       "    </tr>\n",
       "    <tr>\n",
       "      <th>10</th>\n",
       "      <td>chase card was reported on xxxx however fraudu...</td>\n",
       "      <td>chase card reported xxxx however fraudulent ap...</td>\n",
       "      <td>card application identity consent services cre...</td>\n",
       "      <td>card application identity consent services cre...</td>\n",
       "      <td>1</td>\n",
       "    </tr>\n",
       "    <tr>\n",
       "      <th>11</th>\n",
       "      <td>on xxxx while trying to book a xxxx  xxxx  tic...</td>\n",
       "      <td>xxxx trying book xxxx xxxx ticket came across ...</td>\n",
       "      <td>xxxx ticket offer ticket rewards card informat...</td>\n",
       "      <td>ticket offer ticket rewards card information ...</td>\n",
       "      <td>1</td>\n",
       "    </tr>\n",
       "    <tr>\n",
       "      <th>14</th>\n",
       "      <td>my grand son give me check for  i deposit it i...</td>\n",
       "      <td>grand son give check deposit chase account fun...</td>\n",
       "      <td>son chase account fund bank account money son ...</td>\n",
       "      <td>son chase account fund bank account money son ...</td>\n",
       "      <td>0</td>\n",
       "    </tr>\n",
       "    <tr>\n",
       "      <th>...</th>\n",
       "      <td>...</td>\n",
       "      <td>...</td>\n",
       "      <td>...</td>\n",
       "      <td>...</td>\n",
       "      <td>...</td>\n",
       "    </tr>\n",
       "    <tr>\n",
       "      <th>78303</th>\n",
       "      <td>after being a chase card customer for well ove...</td>\n",
       "      <td>chase card customer well decade offered multip...</td>\n",
       "      <td>chase card customer decade solicitations credi...</td>\n",
       "      <td>chase card customer decade solicitations credi...</td>\n",
       "      <td>3</td>\n",
       "    </tr>\n",
       "    <tr>\n",
       "      <th>78309</th>\n",
       "      <td>on wednesday xxxxxxxx i called chas my xxxx xx...</td>\n",
       "      <td>wednesday xxxxxxxx called chas xxxx xxxx visa ...</td>\n",
       "      <td>card provider claim purchase protection benefi...</td>\n",
       "      <td>card provider claim purchase protection benefi...</td>\n",
       "      <td>3</td>\n",
       "    </tr>\n",
       "    <tr>\n",
       "      <th>78310</th>\n",
       "      <td>i am not familiar with xxxx pay and did not un...</td>\n",
       "      <td>familiar xxxx pay understand great risk provid...</td>\n",
       "      <td>pay risk consumers chase years banking merchan...</td>\n",
       "      <td>pay risk consumers chase years banking merchan...</td>\n",
       "      <td>3</td>\n",
       "    </tr>\n",
       "    <tr>\n",
       "      <th>78311</th>\n",
       "      <td>i have had flawless credit for  yrs ive had ch...</td>\n",
       "      <td>flawless credit yr ive chase credit card chase...</td>\n",
       "      <td>credit credit cards chase freedom xxxx problem...</td>\n",
       "      <td>credit credit cards chase freedom  problems ba...</td>\n",
       "      <td>4</td>\n",
       "    </tr>\n",
       "    <tr>\n",
       "      <th>78312</th>\n",
       "      <td>roughly  years ago i closed out my accounts wi...</td>\n",
       "      <td>roughly year ago closed account jp morgan chas...</td>\n",
       "      <td>years accounts order line credit account payme...</td>\n",
       "      <td>years accounts order line credit account payme...</td>\n",
       "      <td>4</td>\n",
       "    </tr>\n",
       "  </tbody>\n",
       "</table>\n",
       "<p>21072 rows × 5 columns</p>\n",
       "</div>"
      ],
      "text/plain": [
       "                                              complaints  ... Topic\n",
       "1      good morning my name is xxxx xxxx and i apprec...  ...     0\n",
       "2      i upgraded my xxxx xxxx card in xxxx and was t...  ...     3\n",
       "10     chase card was reported on xxxx however fraudu...  ...     1\n",
       "11     on xxxx while trying to book a xxxx  xxxx  tic...  ...     1\n",
       "14     my grand son give me check for  i deposit it i...  ...     0\n",
       "...                                                  ...  ...   ...\n",
       "78303  after being a chase card customer for well ove...  ...     3\n",
       "78309  on wednesday xxxxxxxx i called chas my xxxx xx...  ...     3\n",
       "78310  i am not familiar with xxxx pay and did not un...  ...     3\n",
       "78311  i have had flawless credit for  yrs ive had ch...  ...     4\n",
       "78312  roughly  years ago i closed out my accounts wi...  ...     4\n",
       "\n",
       "[21072 rows x 5 columns]"
      ]
     },
     "execution_count": 49,
     "metadata": {},
     "output_type": "execute_result"
    }
   ],
   "source": [
    "\n",
    "df_clean"
   ]
  },
  {
   "cell_type": "code",
   "execution_count": 50,
   "metadata": {
    "executionInfo": {
     "elapsed": 24,
     "status": "ok",
     "timestamp": 1634881475358,
     "user": {
      "displayName": "Gagan Saini",
      "photoUrl": "https://lh3.googleusercontent.com/a/default-user=s64",
      "userId": "13559974833695172939"
     },
     "user_tz": -330
    },
    "id": "Xx-FrbkWJrGH"
   },
   "outputs": [],
   "source": [
    "#Keep the columns\"complaint_what_happened\" & \"Topic\" only in the new dataframe --> training_data\n",
    "training_data= df_clean[[\"Complaint_clean\",\"Topic\"]]"
   ]
  },
  {
   "cell_type": "code",
   "execution_count": 51,
   "metadata": {
    "colab": {
     "base_uri": "https://localhost:8080/",
     "height": 419
    },
    "executionInfo": {
     "elapsed": 24,
     "status": "ok",
     "timestamp": 1634881475359,
     "user": {
      "displayName": "Gagan Saini",
      "photoUrl": "https://lh3.googleusercontent.com/a/default-user=s64",
      "userId": "13559974833695172939"
     },
     "user_tz": -330
    },
    "id": "lVg2pa12JrGI",
    "outputId": "170096ee-3ee6-44c5-9147-161664da481d"
   },
   "outputs": [
    {
     "data": {
      "text/html": [
       "<div>\n",
       "<style scoped>\n",
       "    .dataframe tbody tr th:only-of-type {\n",
       "        vertical-align: middle;\n",
       "    }\n",
       "\n",
       "    .dataframe tbody tr th {\n",
       "        vertical-align: top;\n",
       "    }\n",
       "\n",
       "    .dataframe thead th {\n",
       "        text-align: right;\n",
       "    }\n",
       "</style>\n",
       "<table border=\"1\" class=\"dataframe\">\n",
       "  <thead>\n",
       "    <tr style=\"text-align: right;\">\n",
       "      <th></th>\n",
       "      <th>Complaint_clean</th>\n",
       "      <th>Topic</th>\n",
       "    </tr>\n",
       "  </thead>\n",
       "  <tbody>\n",
       "    <tr>\n",
       "      <th>1</th>\n",
       "      <td>morning name stop bank cardmember services deb...</td>\n",
       "      <td>0</td>\n",
       "    </tr>\n",
       "    <tr>\n",
       "      <th>2</th>\n",
       "      <td>card agent anniversary date agent information ...</td>\n",
       "      <td>3</td>\n",
       "    </tr>\n",
       "    <tr>\n",
       "      <th>10</th>\n",
       "      <td>card application identity consent services cre...</td>\n",
       "      <td>1</td>\n",
       "    </tr>\n",
       "    <tr>\n",
       "      <th>11</th>\n",
       "      <td>ticket offer ticket rewards card information ...</td>\n",
       "      <td>1</td>\n",
       "    </tr>\n",
       "    <tr>\n",
       "      <th>14</th>\n",
       "      <td>son chase account fund bank account money son ...</td>\n",
       "      <td>0</td>\n",
       "    </tr>\n",
       "    <tr>\n",
       "      <th>...</th>\n",
       "      <td>...</td>\n",
       "      <td>...</td>\n",
       "    </tr>\n",
       "    <tr>\n",
       "      <th>78303</th>\n",
       "      <td>chase card customer decade solicitations credi...</td>\n",
       "      <td>3</td>\n",
       "    </tr>\n",
       "    <tr>\n",
       "      <th>78309</th>\n",
       "      <td>card provider claim purchase protection benefi...</td>\n",
       "      <td>3</td>\n",
       "    </tr>\n",
       "    <tr>\n",
       "      <th>78310</th>\n",
       "      <td>pay risk consumers chase years banking merchan...</td>\n",
       "      <td>3</td>\n",
       "    </tr>\n",
       "    <tr>\n",
       "      <th>78311</th>\n",
       "      <td>credit credit cards chase freedom  problems ba...</td>\n",
       "      <td>4</td>\n",
       "    </tr>\n",
       "    <tr>\n",
       "      <th>78312</th>\n",
       "      <td>years accounts order line credit account payme...</td>\n",
       "      <td>4</td>\n",
       "    </tr>\n",
       "  </tbody>\n",
       "</table>\n",
       "<p>21072 rows × 2 columns</p>\n",
       "</div>"
      ],
      "text/plain": [
       "                                         Complaint_clean  Topic\n",
       "1      morning name stop bank cardmember services deb...      0\n",
       "2      card agent anniversary date agent information ...      3\n",
       "10     card application identity consent services cre...      1\n",
       "11      ticket offer ticket rewards card information ...      1\n",
       "14     son chase account fund bank account money son ...      0\n",
       "...                                                  ...    ...\n",
       "78303  chase card customer decade solicitations credi...      3\n",
       "78309  card provider claim purchase protection benefi...      3\n",
       "78310  pay risk consumers chase years banking merchan...      3\n",
       "78311  credit credit cards chase freedom  problems ba...      4\n",
       "78312  years accounts order line credit account payme...      4\n",
       "\n",
       "[21072 rows x 2 columns]"
      ]
     },
     "execution_count": 51,
     "metadata": {},
     "output_type": "execute_result"
    }
   ],
   "source": [
    "training_data"
   ]
  },
  {
   "cell_type": "markdown",
   "metadata": {
    "id": "280Vbqk-7a8M"
   },
   "source": [
    "####Apply the supervised models on the training data created. In this process, you have to do the following:\n",
    "* Create the vector counts using Count Vectoriser\n",
    "* Transform the word vecotr to tf-idf\n",
    "* Create the train & test data using the train_test_split on the tf-idf & topics\n"
   ]
  },
  {
   "cell_type": "code",
   "execution_count": 52,
   "metadata": {
    "executionInfo": {
     "elapsed": 671,
     "status": "ok",
     "timestamp": 1634881476008,
     "user": {
      "displayName": "Gagan Saini",
      "photoUrl": "https://lh3.googleusercontent.com/a/default-user=s64",
      "userId": "13559974833695172939"
     },
     "user_tz": -330
    },
    "id": "oUlQpgkzJrGI"
   },
   "outputs": [],
   "source": [
    "\n",
    "#Write your code to get the Vector count\n",
    "count_vect = CountVectorizer()\n",
    "X_train_counts = count_vect.fit_transform(training_data['Complaint_clean'])\n",
    "\n",
    "#Write your code here to transform the word vector to tf-idf\n",
    "tfidf_transformer = TfidfTransformer()\n",
    "X_train_tfidf = tfidf_transformer.fit_transform(X_train_counts)"
   ]
  },
  {
   "cell_type": "markdown",
   "metadata": {
    "id": "uMU3vj6w-wqL"
   },
   "source": [
    "You have to try atleast 2 models on the train & test data from these options:\n",
    "* Logistic regression\n",
    "* Decision Tree\n",
    "* Random Forest\n",
    "* Naive Bayes (optional)\n",
    "\n",
    "**Using the required evaluation metrics judge the tried models and select the ones performing the best**"
   ]
  },
  {
   "cell_type": "code",
   "execution_count": 53,
   "metadata": {
    "colab": {
     "base_uri": "https://localhost:8080/"
    },
    "executionInfo": {
     "elapsed": 18,
     "status": "ok",
     "timestamp": 1634881476009,
     "user": {
      "displayName": "Gagan Saini",
      "photoUrl": "https://lh3.googleusercontent.com/a/default-user=s64",
      "userId": "13559974833695172939"
     },
     "user_tz": -330
    },
    "id": "udLHpPsZJrGI",
    "outputId": "9e893d5e-21c5-4785-dcbd-56dddae896a6"
   },
   "outputs": [
    {
     "name": "stdout",
     "output_type": "stream",
     "text": [
      "Shape of X_train: (15804, 16146)\n",
      "Shape of y_train: (15804,)\n",
      "Shape of X_test: (5268, 16146)\n",
      "Shape of y_test: (5268,)\n"
     ]
    }
   ],
   "source": [
    "# Write your code here to build any 3 models and evaluate them using the required metrics\n",
    "from sklearn.model_selection import  train_test_split\n",
    "\n",
    "X_train, X_test, y_train, y_test = train_test_split(X_train_tfidf, training_data.Topic, test_size=0.25, random_state=42)\n",
    "\n",
    "print(f\"Shape of X_train: {X_train.shape}\")\n",
    "print(f\"Shape of y_train: {y_train.shape}\")\n",
    "print(f\"Shape of X_test: {X_test.shape}\")\n",
    "print(f\"Shape of y_test: {y_test.shape}\")\n",
    "\n"
   ]
  },
  {
   "cell_type": "markdown",
   "metadata": {
    "id": "orbi5x-sFPZ6"
   },
   "source": [
    "**Importing required libraries for classification using Naive Bayes, Logistic Regression and Random Forest**"
   ]
  },
  {
   "cell_type": "code",
   "execution_count": 54,
   "metadata": {
    "executionInfo": {
     "elapsed": 13,
     "status": "ok",
     "timestamp": 1634881476009,
     "user": {
      "displayName": "Gagan Saini",
      "photoUrl": "https://lh3.googleusercontent.com/a/default-user=s64",
      "userId": "13559974833695172939"
     },
     "user_tz": -330
    },
    "id": "TRPw6I7V9z3K"
   },
   "outputs": [],
   "source": [
    "from sklearn.naive_bayes import MultinomialNB\n",
    "from sklearn.linear_model import LogisticRegression\n",
    "from sklearn.ensemble import RandomForestClassifier\n"
   ]
  },
  {
   "cell_type": "markdown",
   "metadata": {
    "id": "DFdCziwJF2YN"
   },
   "source": [
    "<br>"
   ]
  },
  {
   "cell_type": "markdown",
   "metadata": {
    "id": "tPYRZbneFhWf"
   },
   "source": [
    "**Fitting Multilabel Naive Bayes model for classification**"
   ]
  },
  {
   "cell_type": "code",
   "execution_count": 55,
   "metadata": {
    "colab": {
     "base_uri": "https://localhost:8080/"
    },
    "executionInfo": {
     "elapsed": 14,
     "status": "ok",
     "timestamp": 1634881476010,
     "user": {
      "displayName": "Gagan Saini",
      "photoUrl": "https://lh3.googleusercontent.com/a/default-user=s64",
      "userId": "13559974833695172939"
     },
     "user_tz": -330
    },
    "id": "_RxJ9GMZqyZw",
    "outputId": "a601bac4-f6d6-4791-d936-3ed49669a9e0"
   },
   "outputs": [
    {
     "data": {
      "text/plain": [
       "MultinomialNB(alpha=1.0, class_prior=None, fit_prior=True)"
      ]
     },
     "execution_count": 55,
     "metadata": {},
     "output_type": "execute_result"
    }
   ],
   "source": [
    "nb = MultinomialNB()\n",
    "nb.fit(X_train, y_train)"
   ]
  },
  {
   "cell_type": "markdown",
   "metadata": {
    "id": "X6C6r9JWFnm8"
   },
   "source": [
    "**Finding F1 score of the model**"
   ]
  },
  {
   "cell_type": "code",
   "execution_count": 56,
   "metadata": {
    "colab": {
     "base_uri": "https://localhost:8080/"
    },
    "executionInfo": {
     "elapsed": 11,
     "status": "ok",
     "timestamp": 1634881476010,
     "user": {
      "displayName": "Gagan Saini",
      "photoUrl": "https://lh3.googleusercontent.com/a/default-user=s64",
      "userId": "13559974833695172939"
     },
     "user_tz": -330
    },
    "id": "kYG6Roni8usU",
    "outputId": "2689d133-8552-461a-d474-5f52334b279b"
   },
   "outputs": [
    {
     "name": "stdout",
     "output_type": "stream",
     "text": [
      "F1 Score is 0.746:\n"
     ]
    }
   ],
   "source": [
    "from sklearn.metrics import f1_score\n",
    "\n",
    "y_pred = nb.predict(X_test)\n",
    "f1 = round(f1_score(y_test,y_pred, average='weighted'), 3)\n",
    "print(\"F1 Score is {}:\".format(f1))"
   ]
  },
  {
   "cell_type": "markdown",
   "metadata": {
    "id": "9FF4BnzIFzuy"
   },
   "source": [
    "<br>"
   ]
  },
  {
   "cell_type": "markdown",
   "metadata": {
    "id": "izZOETGCFvEg"
   },
   "source": [
    "**Fitting Logistic regression model**"
   ]
  },
  {
   "cell_type": "code",
   "execution_count": 57,
   "metadata": {
    "colab": {
     "base_uri": "https://localhost:8080/"
    },
    "executionInfo": {
     "elapsed": 9,
     "status": "ok",
     "timestamp": 1634881476010,
     "user": {
      "displayName": "Gagan Saini",
      "photoUrl": "https://lh3.googleusercontent.com/a/default-user=s64",
      "userId": "13559974833695172939"
     },
     "user_tz": -330
    },
    "id": "z0uRbz7x9CrN",
    "outputId": "c3bbd746-2f0e-40bf-b946-7d61e3e4b897"
   },
   "outputs": [
    {
     "data": {
      "text/plain": [
       "LogisticRegression(C=0.1, class_weight=None, dual=False, fit_intercept=True,\n",
       "                   intercept_scaling=1, l1_ratio=None, max_iter=100,\n",
       "                   multi_class='auto', n_jobs=None, penalty='l1',\n",
       "                   random_state=None, solver='liblinear', tol=0.0001, verbose=0,\n",
       "                   warm_start=False)"
      ]
     },
     "execution_count": 57,
     "metadata": {},
     "output_type": "execute_result"
    }
   ],
   "source": [
    "lr = LogisticRegression(penalty=\"l1\", C=0.1, solver='liblinear')\n",
    "lr.fit(X_train, y_train)"
   ]
  },
  {
   "cell_type": "markdown",
   "metadata": {
    "id": "aGrvHEA3F5JX"
   },
   "source": [
    "**Finding F1 Score**"
   ]
  },
  {
   "cell_type": "code",
   "execution_count": 58,
   "metadata": {
    "colab": {
     "base_uri": "https://localhost:8080/"
    },
    "executionInfo": {
     "elapsed": 8,
     "status": "ok",
     "timestamp": 1634881476011,
     "user": {
      "displayName": "Gagan Saini",
      "photoUrl": "https://lh3.googleusercontent.com/a/default-user=s64",
      "userId": "13559974833695172939"
     },
     "user_tz": -330
    },
    "id": "OKZ-mTRaBfR8",
    "outputId": "b9982b75-6537-4df4-e443-2563a12ad6a0"
   },
   "outputs": [
    {
     "name": "stdout",
     "output_type": "stream",
     "text": [
      "F1 Score is 0.923:\n"
     ]
    }
   ],
   "source": [
    "\n",
    "y_pred = lr.predict(X_test)\n",
    "f1 = round(f1_score(y_test,y_pred, average='weighted'), 3)\n",
    "print(\"F1 Score is {}:\".format(f1))"
   ]
  },
  {
   "cell_type": "markdown",
   "metadata": {
    "id": "QDPxkRf-F8X5"
   },
   "source": [
    "<br>"
   ]
  },
  {
   "cell_type": "markdown",
   "metadata": {
    "id": "OQa4No7RF8Mb"
   },
   "source": [
    "**Fitting Random Forest classifier**"
   ]
  },
  {
   "cell_type": "code",
   "execution_count": 59,
   "metadata": {
    "colab": {
     "base_uri": "https://localhost:8080/"
    },
    "executionInfo": {
     "elapsed": 160650,
     "status": "ok",
     "timestamp": 1634881636655,
     "user": {
      "displayName": "Gagan Saini",
      "photoUrl": "https://lh3.googleusercontent.com/a/default-user=s64",
      "userId": "13559974833695172939"
     },
     "user_tz": -330
    },
    "id": "WtBBmW6xAOdL",
    "outputId": "43afaa7c-9f73-4d02-c7ea-1807fa270f34"
   },
   "outputs": [
    {
     "data": {
      "text/plain": [
       "RandomForestClassifier(bootstrap=True, ccp_alpha=0.0, class_weight=None,\n",
       "                       criterion='gini', max_depth=None, max_features='auto',\n",
       "                       max_leaf_nodes=None, max_samples=None,\n",
       "                       min_impurity_decrease=0.0, min_impurity_split=None,\n",
       "                       min_samples_leaf=1, min_samples_split=2,\n",
       "                       min_weight_fraction_leaf=0.0, n_estimators=500,\n",
       "                       n_jobs=None, oob_score=False, random_state=None,\n",
       "                       verbose=0, warm_start=False)"
      ]
     },
     "execution_count": 59,
     "metadata": {},
     "output_type": "execute_result"
    }
   ],
   "source": [
    "\n",
    "rf = RandomForestClassifier(n_estimators=500,max_depth=None)\n",
    "rf.fit(X_train, y_train.values.ravel())"
   ]
  },
  {
   "cell_type": "markdown",
   "metadata": {
    "id": "-ZVcK5BBGA_g"
   },
   "source": [
    "**Checking F1-score**"
   ]
  },
  {
   "cell_type": "code",
   "execution_count": 61,
   "metadata": {
    "colab": {
     "base_uri": "https://localhost:8080/"
    },
    "executionInfo": {
     "elapsed": 1575,
     "status": "ok",
     "timestamp": 1634881942735,
     "user": {
      "displayName": "Gagan Saini",
      "photoUrl": "https://lh3.googleusercontent.com/a/default-user=s64",
      "userId": "13559974833695172939"
     },
     "user_tz": -330
    },
    "id": "S4F91Jl5Aaur",
    "outputId": "6d866768-12a3-43e4-9116-c9054fdf9c93"
   },
   "outputs": [
    {
     "name": "stdout",
     "output_type": "stream",
     "text": [
      "F1 Score is 0.874:\n"
     ]
    }
   ],
   "source": [
    "y_pred = rf.predict(X_test)\n",
    "f1 = round(f1_score(y_test,y_pred, average='weighted'), 3)\n",
    "print(\"F1 Score is {}:\".format(f1))\n"
   ]
  },
  {
   "cell_type": "markdown",
   "metadata": {
    "id": "Zm1l7tSTGE6v"
   },
   "source": [
    "<br>"
   ]
  },
  {
   "cell_type": "markdown",
   "metadata": {
    "id": "xFEatXZAGEOh"
   },
   "source": [
    "**As we can see F1 score of logistic regression is the highest we use LR model for prediction on our custom text**"
   ]
  },
  {
   "cell_type": "code",
   "execution_count": 64,
   "metadata": {
    "executionInfo": {
     "elapsed": 397,
     "status": "ok",
     "timestamp": 1634882000587,
     "user": {
      "displayName": "Gagan Saini",
      "photoUrl": "https://lh3.googleusercontent.com/a/default-user=s64",
      "userId": "13559974833695172939"
     },
     "user_tz": -330
    },
    "id": "RmgGjBZyAmi9"
   },
   "outputs": [],
   "source": [
    "output = lr.predict(count_vect.transform([\"Home Loan\"]))"
   ]
  },
  {
   "cell_type": "code",
   "execution_count": 67,
   "metadata": {
    "executionInfo": {
     "elapsed": 365,
     "status": "ok",
     "timestamp": 1634882044207,
     "user": {
      "displayName": "Gagan Saini",
      "photoUrl": "https://lh3.googleusercontent.com/a/default-user=s64",
      "userId": "13559974833695172939"
     },
     "user_tz": -330
    },
    "id": "bV1syPJfj6pu"
   },
   "outputs": [],
   "source": [
    "Topic_names = {0:\"Bank Account services\",\n",
    "               1:\"Credit card or prepaid card\",\n",
    "               4:\"Theft/Dispute Reporting\",\n",
    "               2:\"Mortgage/Loan\",\n",
    "               3:\"Others\" }"
   ]
  },
  {
   "cell_type": "code",
   "execution_count": 68,
   "metadata": {
    "colab": {
     "base_uri": "https://localhost:8080/"
    },
    "executionInfo": {
     "elapsed": 5,
     "status": "ok",
     "timestamp": 1634882046084,
     "user": {
      "displayName": "Gagan Saini",
      "photoUrl": "https://lh3.googleusercontent.com/a/default-user=s64",
      "userId": "13559974833695172939"
     },
     "user_tz": -330
    },
    "id": "SvswNSSOEZA8",
    "outputId": "a0d08ba7-84f6-4e0d-8094-7bfbb94b836e"
   },
   "outputs": [
    {
     "name": "stdout",
     "output_type": "stream",
     "text": [
      "Category of ticket classification is: Mortgage/Loan\n"
     ]
    }
   ],
   "source": [
    "result = Topic_names.get(output[0])\n",
    "print(\"Category of ticket classification is: {}\".format(result))\n"
   ]
  },
  {
   "cell_type": "markdown",
   "metadata": {
    "id": "iFcW5VfeGSX1"
   },
   "source": [
    "**As we can see, we are getting correct output according to the text inputted. Hence, we believe, we can use our model in real time for ticket classification in finance company**"
   ]
  },
  {
   "cell_type": "code",
   "execution_count": 70,
   "metadata": {
    "executionInfo": {
     "elapsed": 372,
     "status": "ok",
     "timestamp": 1634882171909,
     "user": {
      "displayName": "Gagan Saini",
      "photoUrl": "https://lh3.googleusercontent.com/a/default-user=s64",
      "userId": "13559974833695172939"
     },
     "user_tz": -330
    },
    "id": "EU5Dsp46keZh"
   },
   "outputs": [],
   "source": [
    "import pickle as pickle"
   ]
  },
  {
   "cell_type": "code",
   "execution_count": 76,
   "metadata": {
    "executionInfo": {
     "elapsed": 393,
     "status": "ok",
     "timestamp": 1634883030001,
     "user": {
      "displayName": "Gagan Saini",
      "photoUrl": "https://lh3.googleusercontent.com/a/default-user=s64",
      "userId": "13559974833695172939"
     },
     "user_tz": -330
    },
    "id": "tuAK_3QCkerg"
   },
   "outputs": [],
   "source": [
    "pickle.dump(count_vect, open(\"count_vect.pickle\", \"wb\"))"
   ]
  },
  {
   "cell_type": "code",
   "execution_count": 75,
   "metadata": {
    "executionInfo": {
     "elapsed": 390,
     "status": "ok",
     "timestamp": 1634882476538,
     "user": {
      "displayName": "Gagan Saini",
      "photoUrl": "https://lh3.googleusercontent.com/a/default-user=s64",
      "userId": "13559974833695172939"
     },
     "user_tz": -330
    },
    "id": "ROwcS0pylBEU"
   },
   "outputs": [],
   "source": [
    "pickle.dump(lr, open('lr_model.pickle',\"wb\"))"
   ]
  },
  {
   "cell_type": "code",
   "execution_count": 79,
   "metadata": {
    "executionInfo": {
     "elapsed": 380,
     "status": "ok",
     "timestamp": 1634883578182,
     "user": {
      "displayName": "Gagan Saini",
      "photoUrl": "https://lh3.googleusercontent.com/a/default-user=s64",
      "userId": "13559974833695172939"
     },
     "user_tz": -330
    },
    "id": "3orqWJtLlLR6"
   },
   "outputs": [],
   "source": [
    "pickle.dump(Topic_names , open(\"topic_dict.pickle\",\"wb\"))"
   ]
  },
  {
   "cell_type": "code",
   "execution_count": 81,
   "metadata": {
    "executionInfo": {
     "elapsed": 5,
     "status": "ok",
     "timestamp": 1634895860780,
     "user": {
      "displayName": "Gagan Saini",
      "photoUrl": "https://lh3.googleusercontent.com/a/default-user=s64",
      "userId": "13559974833695172939"
     },
     "user_tz": -330
    },
    "id": "3PjD9atEpzEb"
   },
   "outputs": [],
   "source": [
    "pickle.dump(nb, open('nb_model.pickle',\"wb\"))"
   ]
  },
  {
   "cell_type": "code",
   "execution_count": 82,
   "metadata": {
    "executionInfo": {
     "elapsed": 2501,
     "status": "ok",
     "timestamp": 1634895873697,
     "user": {
      "displayName": "Gagan Saini",
      "photoUrl": "https://lh3.googleusercontent.com/a/default-user=s64",
      "userId": "13559974833695172939"
     },
     "user_tz": -330
    },
    "id": "0mVNpLDFYtHs"
   },
   "outputs": [],
   "source": [
    "pickle.dump(rf, open('rf_model.pickle',\"wb\"))"
   ]
  },
  {
   "cell_type": "code",
   "execution_count": null,
   "metadata": {
    "id": "mBgD6-Z1YzFn"
   },
   "outputs": [],
   "source": []
  }
 ],
 "metadata": {
  "accelerator": "TPU",
  "colab": {
   "collapsed_sections": [],
   "machine_shape": "hm",
   "name": "Automatic_Ticket_Classification_Assignment.ipynb",
   "provenance": []
  },
  "kernelspec": {
   "display_name": "Python 3",
   "language": "python",
   "name": "python3"
  },
  "language_info": {
   "codemirror_mode": {
    "name": "ipython",
    "version": 3
   },
   "file_extension": ".py",
   "mimetype": "text/x-python",
   "name": "python",
   "nbconvert_exporter": "python",
   "pygments_lexer": "ipython3",
   "version": "3.8.5"
  }
 },
 "nbformat": 4,
 "nbformat_minor": 1
}
