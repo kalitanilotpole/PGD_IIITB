{
 "cells": [
  {
   "attachments": {
    "image.png": {
     "image/png": "[encoded data removed]"
    }
   },
   "cell_type": "markdown",
   "metadata": {},
   "source": [
    "#### Sentiment polarity dataset\n",
    "![image.png](attachment:image.png)\n",
    "\n",
    "https://www.cs.cornell.edu/people/pabo/movie-review-data/\n"
   ]
  },
  {
   "cell_type": "markdown",
   "metadata": {},
   "source": [
    "https://christophm.github.io/interpretable-ml-book/shap.html\n",
    "\n",
    "https://github.com/slundberg/shap"
   ]
  },
  {
   "cell_type": "code",
   "execution_count": 123,
   "metadata": {},
   "outputs": [],
   "source": [
    "import pandas as pd\n",
    "import numpy as np \n",
    "import nltk\n",
    "from nltk import pos_tag\n",
    "from sklearn.feature_extraction.text import TfidfVectorizer\n",
    "\n",
    "from sklearn.model_selection import train_test_split\n",
    "from sklearn.ensemble import RandomForestClassifier\n",
    "from sklearn.metrics import confusion_matrix\n",
    "from sklearn import metrics\n",
    "from sklearn.metrics import accuracy_score, classification_report\n",
    "\n",
    "from nltk.corpus import stopwords\n",
    "from nltk.stem import WordNetLemmatizer\n",
    "from nltk.tokenize import word_tokenize\n",
    "import re\n",
    "\n",
    "from wordcloud import WordCloud\n",
    "import matplotlib.pyplot as plt, seaborn as sb\n",
    "import os\n",
    "from glob import glob\n",
    "\n",
    "# nltk.download('stopwords')\n",
    "# nltk.download('wordnet')\n",
    "import warnings\n",
    "warnings.filterwarnings(\"ignore\")\n",
    "\n",
    "# !pip install swifter\n",
    "import swifter"
   ]
  },
  {
   "cell_type": "code",
   "execution_count": 124,
   "metadata": {},
   "outputs": [],
   "source": [
    "pos_files = glob('../Data/txt_sentoken/pos/*')\n",
    "neg_files = glob('../Data/txt_sentoken/neg/*')\n",
    "\n",
    "def read_txt(FilePath):\n",
    "    with open(FilePath,'r') as fp:\n",
    "        txt = fp.read()\n",
    "    return txt\n",
    "\n",
    "POS_TXTS = [read_txt(fp) for fp in pos_files]\n",
    "NEG_TXTS = [read_txt(fp) for fp in neg_files]"
   ]
  },
  {
   "cell_type": "code",
   "execution_count": 125,
   "metadata": {},
   "outputs": [
    {
     "data": {
      "text/plain": [
       "(1000, 1000)"
      ]
     },
     "execution_count": 125,
     "metadata": {},
     "output_type": "execute_result"
    }
   ],
   "source": [
    "len(pos_files),len(neg_files)"
   ]
  },
  {
   "cell_type": "code",
   "execution_count": 126,
   "metadata": {
    "scrolled": true
   },
   "outputs": [
    {
     "data": {
      "text/html": [
       "<div>\n",
       "<style scoped>\n",
       "    .dataframe tbody tr th:only-of-type {\n",
       "        vertical-align: middle;\n",
       "    }\n",
       "\n",
       "    .dataframe tbody tr th {\n",
       "        vertical-align: top;\n",
       "    }\n",
       "\n",
       "    .dataframe thead th {\n",
       "        text-align: right;\n",
       "    }\n",
       "</style>\n",
       "<table border=\"1\" class=\"dataframe\">\n",
       "  <thead>\n",
       "    <tr style=\"text-align: right;\">\n",
       "      <th></th>\n",
       "      <th>text</th>\n",
       "      <th>target</th>\n",
       "    </tr>\n",
       "  </thead>\n",
       "  <tbody>\n",
       "    <tr>\n",
       "      <th>0</th>\n",
       "      <td>films adapted from comic books have had plenty...</td>\n",
       "      <td>1</td>\n",
       "    </tr>\n",
       "    <tr>\n",
       "      <th>1</th>\n",
       "      <td>every now and then a movie comes along from a ...</td>\n",
       "      <td>1</td>\n",
       "    </tr>\n",
       "    <tr>\n",
       "      <th>2</th>\n",
       "      <td>you've got mail works alot better than it dese...</td>\n",
       "      <td>1</td>\n",
       "    </tr>\n",
       "    <tr>\n",
       "      <th>3</th>\n",
       "      <td>\" jaws \" is a rare film that grabs your atten...</td>\n",
       "      <td>1</td>\n",
       "    </tr>\n",
       "    <tr>\n",
       "      <th>4</th>\n",
       "      <td>moviemaking is a lot like being the general ma...</td>\n",
       "      <td>1</td>\n",
       "    </tr>\n",
       "  </tbody>\n",
       "</table>\n",
       "</div>"
      ],
      "text/plain": [
       "                                                text  target\n",
       "0  films adapted from comic books have had plenty...       1\n",
       "1  every now and then a movie comes along from a ...       1\n",
       "2  you've got mail works alot better than it dese...       1\n",
       "3   \" jaws \" is a rare film that grabs your atten...       1\n",
       "4  moviemaking is a lot like being the general ma...       1"
      ]
     },
     "execution_count": 126,
     "metadata": {},
     "output_type": "execute_result"
    }
   ],
   "source": [
    "# text | target\n",
    "# ...  | 1/0\n",
    "Datax = pd.DataFrame(list(zip(POS_TXTS , [1]*len(POS_TXTS))) + list(zip(NEG_TXTS , [0]*len(NEG_TXTS))),\n",
    "            columns =['text','target'])\n",
    "Datax.head()"
   ]
  },
  {
   "cell_type": "code",
   "execution_count": 127,
   "metadata": {},
   "outputs": [
    {
     "data": {
      "text/plain": [
       "<AxesSubplot:ylabel='target'>"
      ]
     },
     "execution_count": 127,
     "metadata": {},
     "output_type": "execute_result"
    },
    {
     "data": {
      "image/png": "[encoded data removed]",
      "text/plain": [
       "<Figure size 432x288 with 1 Axes>"
      ]
     },
     "metadata": {},
     "output_type": "display_data"
    }
   ],
   "source": [
    "Datax.target.value_counts().plot(kind='pie')"
   ]
  },
  {
   "cell_type": "code",
   "execution_count": null,
   "metadata": {},
   "outputs": [],
   "source": []
  },
  {
   "cell_type": "code",
   "execution_count": null,
   "metadata": {},
   "outputs": [],
   "source": []
  },
  {
   "cell_type": "code",
   "execution_count": 128,
   "metadata": {},
   "outputs": [
    {
     "data": {
      "application/vnd.jupyter.widget-view+json": {
       "model_id": "3374d02875cd4f92b319383ec996eaf4",
       "version_major": 2,
       "version_minor": 0
      },
      "text/plain": [
       "Pandas Apply:   0%|          | 0/2000 [00:00<?, ?it/s]"
      ]
     },
     "metadata": {},
     "output_type": "display_data"
    },
    {
     "data": {
      "application/vnd.jupyter.widget-view+json": {
       "model_id": "305742836c0e4e528bc66ce71574cf35",
       "version_major": 2,
       "version_minor": 0
      },
      "text/plain": [
       "Pandas Apply:   0%|          | 0/2000 [00:00<?, ?it/s]"
      ]
     },
     "metadata": {},
     "output_type": "display_data"
    },
    {
     "data": {
      "text/plain": [
       "0       films adapted from comic books have had plenty...\n",
       "1       every now and then a movie comes along from a ...\n",
       "2       you ve got mail works alot better than it dese...\n",
       "3        jaws is a rare film that grabs your attention...\n",
       "4       moviemaking is a lot like being the general ma...\n",
       "                              ...                        \n",
       "1995    if anything stigmata should be taken as a warn...\n",
       "1996    john boorman s zardoz is a goofy cinematic deb...\n",
       "1997    the kids in the hall are an acquired taste it ...\n",
       "1998    there was a time when john carpenter was a gre...\n",
       "1999    two party guys bob their heads to haddaway s d...\n",
       "Name: text, Length: 2000, dtype: object"
      ]
     },
     "execution_count": 128,
     "metadata": {},
     "output_type": "execute_result"
    }
   ],
   "source": [
    "Datax.text = Datax.text.str.lower()\n",
    "Datax.text = Datax.text.str.strip(' ')\n",
    "Datax.text = Datax.text.swifter.apply(lambda x:re.sub('[^a-zA-Z]',' ',x))\n",
    "Datax.text = Datax.text.swifter.apply(lambda x:re.sub(' +',' ',x))\n",
    "\n",
    "Datax.text"
   ]
  },
  {
   "cell_type": "code",
   "execution_count": 67,
   "metadata": {},
   "outputs": [],
   "source": [
    "sw = stopwords.words('english')\n",
    "lem = WordNetLemmatizer()\n",
    "ps = nltk.stem.PorterStemmer()\n",
    "\n",
    "from nltk.corpus import wordnet\n",
    "def get_pos(x):\n",
    "    if x.startswith('J'):\n",
    "        return wordnet.ADJ\n",
    "    elif x.startswith('V'):\n",
    "        return wordnet.VERB\n",
    "    elif x.startswith('N'):\n",
    "        return wordnet.NOUN\n",
    "    elif x.startswith('R'):\n",
    "        return wordnet.ADV\n",
    "    else:\n",
    "        return wordnet.NOUN\n",
    "    \n",
    "def token_process(text,stem=True):\n",
    "    tokens = word_tokenize(text)\n",
    "    tokens = list(filter(lambda x:x not in sw , tokens))\n",
    "    if stem:\n",
    "        tokens = [ps.stem(t) for t in tokens]\n",
    "    else:\n",
    "        tokens = [lem.lemmatize(t,get_pos(pt)) for t,pt in pos_tag(tokens)]\n",
    "    \n",
    "    processed_text = ' '.join(tokens)\n",
    "    return processed_text"
   ]
  },
  {
   "cell_type": "code",
   "execution_count": 129,
   "metadata": {},
   "outputs": [
    {
     "data": {
      "application/vnd.jupyter.widget-view+json": {
       "model_id": "fd439201b2e24d1d9281560eb92739da",
       "version_major": 2,
       "version_minor": 0
      },
      "text/plain": [
       "Pandas Apply:   0%|          | 0/2000 [00:00<?, ?it/s]"
      ]
     },
     "metadata": {},
     "output_type": "display_data"
    }
   ],
   "source": [
    "Datax.text = Datax.text.swifter.apply(lambda x:token_process(x,True))"
   ]
  },
  {
   "cell_type": "markdown",
   "metadata": {},
   "source": [
    "### EDA"
   ]
  },
  {
   "cell_type": "code",
   "execution_count": 72,
   "metadata": {},
   "outputs": [
    {
     "data": {
      "text/html": [
       "<div>\n",
       "<style scoped>\n",
       "    .dataframe tbody tr th:only-of-type {\n",
       "        vertical-align: middle;\n",
       "    }\n",
       "\n",
       "    .dataframe tbody tr th {\n",
       "        vertical-align: top;\n",
       "    }\n",
       "\n",
       "    .dataframe thead th {\n",
       "        text-align: right;\n",
       "    }\n",
       "</style>\n",
       "<table border=\"1\" class=\"dataframe\">\n",
       "  <thead>\n",
       "    <tr style=\"text-align: right;\">\n",
       "      <th></th>\n",
       "      <th>text</th>\n",
       "      <th>target</th>\n",
       "    </tr>\n",
       "  </thead>\n",
       "  <tbody>\n",
       "    <tr>\n",
       "      <th>0</th>\n",
       "      <td>film adapt comic book plenty success whether s...</td>\n",
       "      <td>1</td>\n",
       "    </tr>\n",
       "    <tr>\n",
       "      <th>1</th>\n",
       "      <td>every movie come along suspect studio every in...</td>\n",
       "      <td>1</td>\n",
       "    </tr>\n",
       "    <tr>\n",
       "      <th>2</th>\n",
       "      <td>get mail work alot good deserves order make fi...</td>\n",
       "      <td>1</td>\n",
       "    </tr>\n",
       "    <tr>\n",
       "      <th>3</th>\n",
       "      <td>jaw rare film grab attention show single image...</td>\n",
       "      <td>1</td>\n",
       "    </tr>\n",
       "    <tr>\n",
       "      <th>4</th>\n",
       "      <td>moviemaking lot like general manager nfl team ...</td>\n",
       "      <td>1</td>\n",
       "    </tr>\n",
       "  </tbody>\n",
       "</table>\n",
       "</div>"
      ],
      "text/plain": [
       "                                                text  target\n",
       "0  film adapt comic book plenty success whether s...       1\n",
       "1  every movie come along suspect studio every in...       1\n",
       "2  get mail work alot good deserves order make fi...       1\n",
       "3  jaw rare film grab attention show single image...       1\n",
       "4  moviemaking lot like general manager nfl team ...       1"
      ]
     },
     "execution_count": 72,
     "metadata": {},
     "output_type": "execute_result"
    }
   ],
   "source": [
    "Datax.head() "
   ]
  },
  {
   "cell_type": "code",
   "execution_count": 81,
   "metadata": {},
   "outputs": [],
   "source": [
    "POS_WORDS = ' '.join(Datax[Datax.target==1].text.values.tolist())\n",
    "POS_WORDS = POS_WORDS.split()\n",
    "\n",
    "NEG_WORDS = ' '.join(Datax[Datax.target==0].text.values.tolist())\n",
    "NEG_WORDS = NEG_WORDS.split()"
   ]
  },
  {
   "cell_type": "code",
   "execution_count": 82,
   "metadata": {},
   "outputs": [
    {
     "data": {
      "text/plain": [
       "(371976, 330448)"
      ]
     },
     "execution_count": 82,
     "metadata": {},
     "output_type": "execute_result"
    }
   ],
   "source": [
    "len(POS_WORDS), len(NEG_WORDS)"
   ]
  },
  {
   "cell_type": "code",
   "execution_count": 83,
   "metadata": {},
   "outputs": [
    {
     "data": {
      "text/plain": [
       "[('film', 6168),\n",
       " ('movie', 3163),\n",
       " ('one', 3156),\n",
       " ('make', 2175),\n",
       " ('character', 2064),\n",
       " ('like', 1931),\n",
       " ('see', 1788),\n",
       " ('get', 1734),\n",
       " ('time', 1576),\n",
       " ('go', 1478)]"
      ]
     },
     "execution_count": 83,
     "metadata": {},
     "output_type": "execute_result"
    }
   ],
   "source": [
    "nltk.FreqDist(POS_WORDS).most_common(10)"
   ]
  },
  {
   "cell_type": "code",
   "execution_count": 84,
   "metadata": {},
   "outputs": [
    {
     "data": {
      "text/plain": [
       "[('film', 4980),\n",
       " ('movie', 3818),\n",
       " ('one', 2874),\n",
       " ('make', 2085),\n",
       " ('like', 2009),\n",
       " ('get', 1993),\n",
       " ('character', 1815),\n",
       " ('go', 1564),\n",
       " ('time', 1427),\n",
       " ('even', 1402)]"
      ]
     },
     "execution_count": 84,
     "metadata": {},
     "output_type": "execute_result"
    }
   ],
   "source": [
    "nltk.FreqDist(NEG_WORDS).most_common(10)"
   ]
  },
  {
   "cell_type": "code",
   "execution_count": 87,
   "metadata": {},
   "outputs": [
    {
     "data": {
      "text/html": [
       "<div>\n",
       "<style scoped>\n",
       "    .dataframe tbody tr th:only-of-type {\n",
       "        vertical-align: middle;\n",
       "    }\n",
       "\n",
       "    .dataframe tbody tr th {\n",
       "        vertical-align: top;\n",
       "    }\n",
       "\n",
       "    .dataframe thead th {\n",
       "        text-align: right;\n",
       "    }\n",
       "</style>\n",
       "<table border=\"1\" class=\"dataframe\">\n",
       "  <thead>\n",
       "    <tr style=\"text-align: right;\">\n",
       "      <th></th>\n",
       "      <th>wordcount_pos</th>\n",
       "    </tr>\n",
       "    <tr>\n",
       "      <th>word</th>\n",
       "      <th></th>\n",
       "    </tr>\n",
       "  </thead>\n",
       "  <tbody>\n",
       "    <tr>\n",
       "      <th>film</th>\n",
       "      <td>6168</td>\n",
       "    </tr>\n",
       "    <tr>\n",
       "      <th>adapt</th>\n",
       "      <td>37</td>\n",
       "    </tr>\n",
       "    <tr>\n",
       "      <th>comic</th>\n",
       "      <td>227</td>\n",
       "    </tr>\n",
       "    <tr>\n",
       "      <th>book</th>\n",
       "      <td>228</td>\n",
       "    </tr>\n",
       "    <tr>\n",
       "      <th>plenty</th>\n",
       "      <td>76</td>\n",
       "    </tr>\n",
       "  </tbody>\n",
       "</table>\n",
       "</div>"
      ],
      "text/plain": [
       "        wordcount_pos\n",
       "word                 \n",
       "film             6168\n",
       "adapt              37\n",
       "comic             227\n",
       "book              228\n",
       "plenty             76"
      ]
     },
     "execution_count": 87,
     "metadata": {},
     "output_type": "execute_result"
    }
   ],
   "source": [
    "POS_DIST = pd.DataFrame(nltk.FreqDist(POS_WORDS).items(), columns= ['word','wordcount_pos'])\n",
    "POS_DIST = POS_DIST.set_index('word')\n",
    "\n",
    "NEG_DIST = pd.DataFrame(nltk.FreqDist(NEG_WORDS).items(), columns= ['word','wordcount_neg'])\n",
    "NEG_DIST = NEG_DIST.set_index('word')\n",
    "\n",
    "\n",
    "POS_DIST.head()"
   ]
  },
  {
   "cell_type": "code",
   "execution_count": 88,
   "metadata": {},
   "outputs": [
    {
     "data": {
      "text/html": [
       "<div>\n",
       "<style scoped>\n",
       "    .dataframe tbody tr th:only-of-type {\n",
       "        vertical-align: middle;\n",
       "    }\n",
       "\n",
       "    .dataframe tbody tr th {\n",
       "        vertical-align: top;\n",
       "    }\n",
       "\n",
       "    .dataframe thead th {\n",
       "        text-align: right;\n",
       "    }\n",
       "</style>\n",
       "<table border=\"1\" class=\"dataframe\">\n",
       "  <thead>\n",
       "    <tr style=\"text-align: right;\">\n",
       "      <th></th>\n",
       "      <th>wordcount_neg</th>\n",
       "    </tr>\n",
       "    <tr>\n",
       "      <th>word</th>\n",
       "      <th></th>\n",
       "    </tr>\n",
       "  </thead>\n",
       "  <tbody>\n",
       "    <tr>\n",
       "      <th>plot</th>\n",
       "      <td>978</td>\n",
       "    </tr>\n",
       "    <tr>\n",
       "      <th>two</th>\n",
       "      <td>912</td>\n",
       "    </tr>\n",
       "    <tr>\n",
       "      <th>teen</th>\n",
       "      <td>110</td>\n",
       "    </tr>\n",
       "    <tr>\n",
       "      <th>couple</th>\n",
       "      <td>248</td>\n",
       "    </tr>\n",
       "    <tr>\n",
       "      <th>go</th>\n",
       "      <td>1564</td>\n",
       "    </tr>\n",
       "  </tbody>\n",
       "</table>\n",
       "</div>"
      ],
      "text/plain": [
       "        wordcount_neg\n",
       "word                 \n",
       "plot              978\n",
       "two               912\n",
       "teen              110\n",
       "couple            248\n",
       "go               1564"
      ]
     },
     "execution_count": 88,
     "metadata": {},
     "output_type": "execute_result"
    }
   ],
   "source": [
    "NEG_DIST.head()"
   ]
  },
  {
   "cell_type": "code",
   "execution_count": 93,
   "metadata": {},
   "outputs": [
    {
     "data": {
      "text/html": [
       "<div>\n",
       "<style scoped>\n",
       "    .dataframe tbody tr th:only-of-type {\n",
       "        vertical-align: middle;\n",
       "    }\n",
       "\n",
       "    .dataframe tbody tr th {\n",
       "        vertical-align: top;\n",
       "    }\n",
       "\n",
       "    .dataframe thead th {\n",
       "        text-align: right;\n",
       "    }\n",
       "</style>\n",
       "<table border=\"1\" class=\"dataframe\">\n",
       "  <thead>\n",
       "    <tr style=\"text-align: right;\">\n",
       "      <th></th>\n",
       "      <th>wordcount_pos</th>\n",
       "      <th>wordcount_neg</th>\n",
       "      <th>ratio</th>\n",
       "    </tr>\n",
       "    <tr>\n",
       "      <th>word</th>\n",
       "      <th></th>\n",
       "      <th></th>\n",
       "      <th></th>\n",
       "    </tr>\n",
       "  </thead>\n",
       "  <tbody>\n",
       "    <tr>\n",
       "      <th>film</th>\n",
       "      <td>6168</td>\n",
       "      <td>4980.0</td>\n",
       "      <td>0.213945</td>\n",
       "    </tr>\n",
       "    <tr>\n",
       "      <th>adapt</th>\n",
       "      <td>37</td>\n",
       "      <td>19.0</td>\n",
       "      <td>0.666479</td>\n",
       "    </tr>\n",
       "    <tr>\n",
       "      <th>comic</th>\n",
       "      <td>227</td>\n",
       "      <td>175.0</td>\n",
       "      <td>0.260164</td>\n",
       "    </tr>\n",
       "    <tr>\n",
       "      <th>book</th>\n",
       "      <td>228</td>\n",
       "      <td>198.0</td>\n",
       "      <td>0.141079</td>\n",
       "    </tr>\n",
       "    <tr>\n",
       "      <th>plenty</th>\n",
       "      <td>76</td>\n",
       "      <td>58.0</td>\n",
       "      <td>0.270290</td>\n",
       "    </tr>\n",
       "  </tbody>\n",
       "</table>\n",
       "</div>"
      ],
      "text/plain": [
       "        wordcount_pos  wordcount_neg     ratio\n",
       "word                                          \n",
       "film             6168         4980.0  0.213945\n",
       "adapt              37           19.0  0.666479\n",
       "comic             227          175.0  0.260164\n",
       "book              228          198.0  0.141079\n",
       "plenty             76           58.0  0.270290"
      ]
     },
     "execution_count": 93,
     "metadata": {},
     "output_type": "execute_result"
    }
   ],
   "source": [
    "COM_DIST = POS_DIST.join(NEG_DIST)\n",
    "COM_DIST.fillna(1)\n",
    "COM_DIST = COM_DIST[(COM_DIST.wordcount_pos + COM_DIST.wordcount_neg)>50]\n",
    "COM_DIST['ratio'] = np.log(COM_DIST.wordcount_pos/COM_DIST.wordcount_neg)\n",
    "\n",
    "COM_DIST.head()"
   ]
  },
  {
   "cell_type": "code",
   "execution_count": 95,
   "metadata": {},
   "outputs": [
    {
     "data": {
      "text/html": [
       "<div>\n",
       "<style scoped>\n",
       "    .dataframe tbody tr th:only-of-type {\n",
       "        vertical-align: middle;\n",
       "    }\n",
       "\n",
       "    .dataframe tbody tr th {\n",
       "        vertical-align: top;\n",
       "    }\n",
       "\n",
       "    .dataframe thead th {\n",
       "        text-align: right;\n",
       "    }\n",
       "</style>\n",
       "<table border=\"1\" class=\"dataframe\">\n",
       "  <thead>\n",
       "    <tr style=\"text-align: right;\">\n",
       "      <th></th>\n",
       "      <th>wordcount_pos</th>\n",
       "      <th>wordcount_neg</th>\n",
       "      <th>ratio</th>\n",
       "    </tr>\n",
       "    <tr>\n",
       "      <th>word</th>\n",
       "      <th></th>\n",
       "      <th></th>\n",
       "      <th></th>\n",
       "    </tr>\n",
       "  </thead>\n",
       "  <tbody>\n",
       "    <tr>\n",
       "      <th>mulan</th>\n",
       "      <td>96</td>\n",
       "      <td>1.0</td>\n",
       "      <td>4.564348</td>\n",
       "    </tr>\n",
       "    <tr>\n",
       "      <th>flynt</th>\n",
       "      <td>79</td>\n",
       "      <td>1.0</td>\n",
       "      <td>4.369448</td>\n",
       "    </tr>\n",
       "    <tr>\n",
       "      <th>lebowski</th>\n",
       "      <td>55</td>\n",
       "      <td>1.0</td>\n",
       "      <td>4.007333</td>\n",
       "    </tr>\n",
       "    <tr>\n",
       "      <th>bulworth</th>\n",
       "      <td>58</td>\n",
       "      <td>2.0</td>\n",
       "      <td>3.367296</td>\n",
       "    </tr>\n",
       "    <tr>\n",
       "      <th>damon</th>\n",
       "      <td>69</td>\n",
       "      <td>4.0</td>\n",
       "      <td>2.847812</td>\n",
       "    </tr>\n",
       "    <tr>\n",
       "      <th>truman</th>\n",
       "      <td>152</td>\n",
       "      <td>11.0</td>\n",
       "      <td>2.625985</td>\n",
       "    </tr>\n",
       "    <tr>\n",
       "      <th>outstanding</th>\n",
       "      <td>69</td>\n",
       "      <td>5.0</td>\n",
       "      <td>2.624669</td>\n",
       "    </tr>\n",
       "    <tr>\n",
       "      <th>derek</th>\n",
       "      <td>62</td>\n",
       "      <td>7.0</td>\n",
       "      <td>2.181224</td>\n",
       "    </tr>\n",
       "    <tr>\n",
       "      <th>jedi</th>\n",
       "      <td>71</td>\n",
       "      <td>9.0</td>\n",
       "      <td>2.065455</td>\n",
       "    </tr>\n",
       "    <tr>\n",
       "      <th>religion</th>\n",
       "      <td>47</td>\n",
       "      <td>6.0</td>\n",
       "      <td>2.058388</td>\n",
       "    </tr>\n",
       "    <tr>\n",
       "      <th>scorsese</th>\n",
       "      <td>62</td>\n",
       "      <td>8.0</td>\n",
       "      <td>2.047693</td>\n",
       "    </tr>\n",
       "    <tr>\n",
       "      <th>wonderfully</th>\n",
       "      <td>75</td>\n",
       "      <td>10.0</td>\n",
       "      <td>2.014903</td>\n",
       "    </tr>\n",
       "    <tr>\n",
       "      <th>ripley</th>\n",
       "      <td>56</td>\n",
       "      <td>10.0</td>\n",
       "      <td>1.722767</td>\n",
       "    </tr>\n",
       "    <tr>\n",
       "      <th>balance</th>\n",
       "      <td>50</td>\n",
       "      <td>9.0</td>\n",
       "      <td>1.714798</td>\n",
       "    </tr>\n",
       "    <tr>\n",
       "      <th>spacey</th>\n",
       "      <td>44</td>\n",
       "      <td>8.0</td>\n",
       "      <td>1.704748</td>\n",
       "    </tr>\n",
       "    <tr>\n",
       "      <th>beautifully</th>\n",
       "      <td>43</td>\n",
       "      <td>8.0</td>\n",
       "      <td>1.681759</td>\n",
       "    </tr>\n",
       "    <tr>\n",
       "      <th>ideal</th>\n",
       "      <td>48</td>\n",
       "      <td>9.0</td>\n",
       "      <td>1.673976</td>\n",
       "    </tr>\n",
       "    <tr>\n",
       "      <th>era</th>\n",
       "      <td>72</td>\n",
       "      <td>14.0</td>\n",
       "      <td>1.637609</td>\n",
       "    </tr>\n",
       "    <tr>\n",
       "      <th>titanic</th>\n",
       "      <td>112</td>\n",
       "      <td>23.0</td>\n",
       "      <td>1.583005</td>\n",
       "    </tr>\n",
       "    <tr>\n",
       "      <th>freedom</th>\n",
       "      <td>56</td>\n",
       "      <td>12.0</td>\n",
       "      <td>1.540445</td>\n",
       "    </tr>\n",
       "  </tbody>\n",
       "</table>\n",
       "</div>"
      ],
      "text/plain": [
       "             wordcount_pos  wordcount_neg     ratio\n",
       "word                                               \n",
       "mulan                   96            1.0  4.564348\n",
       "flynt                   79            1.0  4.369448\n",
       "lebowski                55            1.0  4.007333\n",
       "bulworth                58            2.0  3.367296\n",
       "damon                   69            4.0  2.847812\n",
       "truman                 152           11.0  2.625985\n",
       "outstanding             69            5.0  2.624669\n",
       "derek                   62            7.0  2.181224\n",
       "jedi                    71            9.0  2.065455\n",
       "religion                47            6.0  2.058388\n",
       "scorsese                62            8.0  2.047693\n",
       "wonderfully             75           10.0  2.014903\n",
       "ripley                  56           10.0  1.722767\n",
       "balance                 50            9.0  1.714798\n",
       "spacey                  44            8.0  1.704748\n",
       "beautifully             43            8.0  1.681759\n",
       "ideal                   48            9.0  1.673976\n",
       "era                     72           14.0  1.637609\n",
       "titanic                112           23.0  1.583005\n",
       "freedom                 56           12.0  1.540445"
      ]
     },
     "execution_count": 95,
     "metadata": {},
     "output_type": "execute_result"
    }
   ],
   "source": [
    "COM_DIST.sort_values(by ='ratio',ascending= False).head(20)"
   ]
  },
  {
   "cell_type": "code",
   "execution_count": 97,
   "metadata": {},
   "outputs": [
    {
     "data": {
      "text/html": [
       "<div>\n",
       "<style scoped>\n",
       "    .dataframe tbody tr th:only-of-type {\n",
       "        vertical-align: middle;\n",
       "    }\n",
       "\n",
       "    .dataframe tbody tr th {\n",
       "        vertical-align: top;\n",
       "    }\n",
       "\n",
       "    .dataframe thead th {\n",
       "        text-align: right;\n",
       "    }\n",
       "</style>\n",
       "<table border=\"1\" class=\"dataframe\">\n",
       "  <thead>\n",
       "    <tr style=\"text-align: right;\">\n",
       "      <th></th>\n",
       "      <th>wordcount_pos</th>\n",
       "      <th>wordcount_neg</th>\n",
       "      <th>ratio</th>\n",
       "    </tr>\n",
       "    <tr>\n",
       "      <th>word</th>\n",
       "      <th></th>\n",
       "      <th></th>\n",
       "      <th></th>\n",
       "    </tr>\n",
       "  </thead>\n",
       "  <tbody>\n",
       "    <tr>\n",
       "      <th>seagal</th>\n",
       "      <td>2</td>\n",
       "      <td>74.0</td>\n",
       "      <td>-3.610918</td>\n",
       "    </tr>\n",
       "    <tr>\n",
       "      <th>schumacher</th>\n",
       "      <td>3</td>\n",
       "      <td>54.0</td>\n",
       "      <td>-2.890372</td>\n",
       "    </tr>\n",
       "    <tr>\n",
       "      <th>godzilla</th>\n",
       "      <td>14</td>\n",
       "      <td>120.0</td>\n",
       "      <td>-2.148434</td>\n",
       "    </tr>\n",
       "    <tr>\n",
       "      <th>worst</th>\n",
       "      <td>7</td>\n",
       "      <td>60.0</td>\n",
       "      <td>-2.148434</td>\n",
       "    </tr>\n",
       "    <tr>\n",
       "      <th>lame</th>\n",
       "      <td>15</td>\n",
       "      <td>102.0</td>\n",
       "      <td>-1.916923</td>\n",
       "    </tr>\n",
       "    <tr>\n",
       "      <th>poorly</th>\n",
       "      <td>14</td>\n",
       "      <td>80.0</td>\n",
       "      <td>-1.742969</td>\n",
       "    </tr>\n",
       "    <tr>\n",
       "      <th>waste</th>\n",
       "      <td>42</td>\n",
       "      <td>229.0</td>\n",
       "      <td>-1.696052</td>\n",
       "    </tr>\n",
       "    <tr>\n",
       "      <th>ridiculous</th>\n",
       "      <td>22</td>\n",
       "      <td>118.0</td>\n",
       "      <td>-1.679642</td>\n",
       "    </tr>\n",
       "    <tr>\n",
       "      <th>awful</th>\n",
       "      <td>21</td>\n",
       "      <td>111.0</td>\n",
       "      <td>-1.665008</td>\n",
       "    </tr>\n",
       "    <tr>\n",
       "      <th>eve</th>\n",
       "      <td>11</td>\n",
       "      <td>54.0</td>\n",
       "      <td>-1.591089</td>\n",
       "    </tr>\n",
       "    <tr>\n",
       "      <th>unfunny</th>\n",
       "      <td>15</td>\n",
       "      <td>73.0</td>\n",
       "      <td>-1.582409</td>\n",
       "    </tr>\n",
       "    <tr>\n",
       "      <th>uninteresting</th>\n",
       "      <td>10</td>\n",
       "      <td>48.0</td>\n",
       "      <td>-1.568616</td>\n",
       "    </tr>\n",
       "    <tr>\n",
       "      <th>bang</th>\n",
       "      <td>10</td>\n",
       "      <td>47.0</td>\n",
       "      <td>-1.547563</td>\n",
       "    </tr>\n",
       "    <tr>\n",
       "      <th>dull</th>\n",
       "      <td>24</td>\n",
       "      <td>112.0</td>\n",
       "      <td>-1.540445</td>\n",
       "    </tr>\n",
       "    <tr>\n",
       "      <th>stupid</th>\n",
       "      <td>46</td>\n",
       "      <td>213.0</td>\n",
       "      <td>-1.532651</td>\n",
       "    </tr>\n",
       "    <tr>\n",
       "      <th>boring</th>\n",
       "      <td>22</td>\n",
       "      <td>99.0</td>\n",
       "      <td>-1.504077</td>\n",
       "    </tr>\n",
       "    <tr>\n",
       "      <th>painfully</th>\n",
       "      <td>11</td>\n",
       "      <td>49.0</td>\n",
       "      <td>-1.493925</td>\n",
       "    </tr>\n",
       "    <tr>\n",
       "      <th>arnold</th>\n",
       "      <td>18</td>\n",
       "      <td>80.0</td>\n",
       "      <td>-1.491655</td>\n",
       "    </tr>\n",
       "    <tr>\n",
       "      <th>pointless</th>\n",
       "      <td>17</td>\n",
       "      <td>75.0</td>\n",
       "      <td>-1.484275</td>\n",
       "    </tr>\n",
       "    <tr>\n",
       "      <th>insult</th>\n",
       "      <td>15</td>\n",
       "      <td>66.0</td>\n",
       "      <td>-1.481605</td>\n",
       "    </tr>\n",
       "    <tr>\n",
       "      <th>laughable</th>\n",
       "      <td>14</td>\n",
       "      <td>60.0</td>\n",
       "      <td>-1.455287</td>\n",
       "    </tr>\n",
       "    <tr>\n",
       "      <th>snake</th>\n",
       "      <td>18</td>\n",
       "      <td>76.0</td>\n",
       "      <td>-1.440362</td>\n",
       "    </tr>\n",
       "    <tr>\n",
       "      <th>terrible</th>\n",
       "      <td>28</td>\n",
       "      <td>115.0</td>\n",
       "      <td>-1.412728</td>\n",
       "    </tr>\n",
       "    <tr>\n",
       "      <th>spawn</th>\n",
       "      <td>20</td>\n",
       "      <td>80.0</td>\n",
       "      <td>-1.386294</td>\n",
       "    </tr>\n",
       "    <tr>\n",
       "      <th>chuckle</th>\n",
       "      <td>12</td>\n",
       "      <td>47.0</td>\n",
       "      <td>-1.365241</td>\n",
       "    </tr>\n",
       "    <tr>\n",
       "      <th>yell</th>\n",
       "      <td>11</td>\n",
       "      <td>43.0</td>\n",
       "      <td>-1.363305</td>\n",
       "    </tr>\n",
       "    <tr>\n",
       "      <th>carpenter</th>\n",
       "      <td>16</td>\n",
       "      <td>62.0</td>\n",
       "      <td>-1.354546</td>\n",
       "    </tr>\n",
       "    <tr>\n",
       "      <th>schwarzenegger</th>\n",
       "      <td>14</td>\n",
       "      <td>54.0</td>\n",
       "      <td>-1.349927</td>\n",
       "    </tr>\n",
       "    <tr>\n",
       "      <th>bland</th>\n",
       "      <td>18</td>\n",
       "      <td>69.0</td>\n",
       "      <td>-1.343735</td>\n",
       "    </tr>\n",
       "    <tr>\n",
       "      <th>badly</th>\n",
       "      <td>16</td>\n",
       "      <td>60.0</td>\n",
       "      <td>-1.321756</td>\n",
       "    </tr>\n",
       "  </tbody>\n",
       "</table>\n",
       "</div>"
      ],
      "text/plain": [
       "                wordcount_pos  wordcount_neg     ratio\n",
       "word                                                  \n",
       "seagal                      2           74.0 -3.610918\n",
       "schumacher                  3           54.0 -2.890372\n",
       "godzilla                   14          120.0 -2.148434\n",
       "worst                       7           60.0 -2.148434\n",
       "lame                       15          102.0 -1.916923\n",
       "poorly                     14           80.0 -1.742969\n",
       "waste                      42          229.0 -1.696052\n",
       "ridiculous                 22          118.0 -1.679642\n",
       "awful                      21          111.0 -1.665008\n",
       "eve                        11           54.0 -1.591089\n",
       "unfunny                    15           73.0 -1.582409\n",
       "uninteresting              10           48.0 -1.568616\n",
       "bang                       10           47.0 -1.547563\n",
       "dull                       24          112.0 -1.540445\n",
       "stupid                     46          213.0 -1.532651\n",
       "boring                     22           99.0 -1.504077\n",
       "painfully                  11           49.0 -1.493925\n",
       "arnold                     18           80.0 -1.491655\n",
       "pointless                  17           75.0 -1.484275\n",
       "insult                     15           66.0 -1.481605\n",
       "laughable                  14           60.0 -1.455287\n",
       "snake                      18           76.0 -1.440362\n",
       "terrible                   28          115.0 -1.412728\n",
       "spawn                      20           80.0 -1.386294\n",
       "chuckle                    12           47.0 -1.365241\n",
       "yell                       11           43.0 -1.363305\n",
       "carpenter                  16           62.0 -1.354546\n",
       "schwarzenegger             14           54.0 -1.349927\n",
       "bland                      18           69.0 -1.343735\n",
       "badly                      16           60.0 -1.321756"
      ]
     },
     "execution_count": 97,
     "metadata": {},
     "output_type": "execute_result"
    }
   ],
   "source": [
    "COM_DIST.sort_values(by ='ratio',ascending= True).head(30)"
   ]
  },
  {
   "cell_type": "markdown",
   "metadata": {},
   "source": [
    "\n",
    "## Text Preprocessing\n",
    "\n",
    "The text needs to be transformed to vectors so as the algorithms will be able make predictions. In this case it will be used the Term Frequency – Inverse Document Frequency (TFIDF) weight to evaluate __how important a word is to a document in a collection of documents__.\n",
    "\n",
    "After removing __punctuation__ and __lower casing__ the words, importance of a word is determined in terms of its frequency."
   ]
  },
  {
   "cell_type": "markdown",
   "metadata": {},
   "source": [
    "### “Term Frequency – Inverse Document Frequency \n",
    "\n",
    "__TF-IDF__ is the product of the __TF__ and __IDF__ scores of the term.<br><br> $$\\text{TF-IDF}=\\frac{\\text{TF}}{\\text{IDF}}$$<br>\n",
    "\n",
    "__Term Frequency :__ This summarizes how often a given word appears within a document.\n",
    "\n",
    "$$\\text{TF} = \\frac{\\text{Number of times the term appears in the doc}}{\\text{Total number of words in the doc}}$$<br><br>\n",
    "__Inverse Document Frequency:__ This downscales words that appear a lot across documents. A term has a high IDF score if it appears in a few documents. Conversely, if the term is very common among documents (i.e., “the”, “a”, “is”), the term would have a low IDF score.<br>\n",
    "\n",
    "$$\\text{IDF} = \\ln\\left(\\frac{\\text{Number of docs}}{\\text{Number docs the term appears in}} \\right)$$<br>\n",
    "\n",
    "TF-IDF are word frequency scores that try to highlight words that are more interesting, e.g. frequent in a document but not across documents. The higher the TFIDF score, the rarer the term is. For instance, in a Mortgage complaint the word _mortgage_ would be mentioned fairly often. However, if we look at other complaints, _mortgage_ probably would not show up in many of them. We can infer that _mortgage_ is most probably an important word in Mortgage complaints as compared to the other products. Therefore, _mortgage_ would have a high TF-IDF score for Mortgage complaints.\n",
    "\n",
    "TfidfVectorizer class can be initialized with the following parameters:\n",
    "* __min_df__: remove the words from the vocabulary which have occurred in less than ‘min_df’ number of files.\n",
    "* __max_df__: remove the words from the vocabulary which have occurred in more than _‘max_df’ * total number of files in corpus_.\n",
    "* __sublinear_tf__: set to True to scale the term frequency in logarithmic scale.\n",
    "* __stop_words__: remove the predefined stop words in 'english'.\n",
    "* __use_idf__: weight factor must use inverse document frequency.\n",
    "* __ngram_range__: (1, 2) to indicate that unigrams and bigrams will be considered\n",
    "* __max_features__: maximum number of features\n"
   ]
  },
  {
   "cell_type": "code",
   "execution_count": 137,
   "metadata": {},
   "outputs": [],
   "source": [
    "X = Datax.text.values\n",
    "y = Datax.target.values\n",
    "\n",
    "X_train,X_test,y_train,y_test = train_test_split(X,y,test_size=0.2,random_state=0)"
   ]
  },
  {
   "cell_type": "code",
   "execution_count": 138,
   "metadata": {},
   "outputs": [],
   "source": [
    "td = TfidfVectorizer(max_features = 10000 ,ngram_range =(1,3))\n",
    "X_train = td.fit_transform(X_train).toarray()\n",
    "X_test = td.transform(X_test).toarray()"
   ]
  },
  {
   "cell_type": "code",
   "execution_count": 139,
   "metadata": {},
   "outputs": [
    {
     "data": {
      "text/plain": [
       "((1600, 10000), (400, 10000))"
      ]
     },
     "execution_count": 139,
     "metadata": {},
     "output_type": "execute_result"
    }
   ],
   "source": [
    "X_train.shape, X_test.shape"
   ]
  },
  {
   "cell_type": "code",
   "execution_count": 140,
   "metadata": {},
   "outputs": [],
   "source": [
    "feature_names = td.get_feature_names()\n",
    "unigrams = [v for v in feature_names if len(v.split())==1]\n",
    "bigrams = [v for v in feature_names if len(v.split())==2]\n",
    "trigrams = [v for v in feature_names if len(v.split())==3]"
   ]
  },
  {
   "cell_type": "code",
   "execution_count": 141,
   "metadata": {},
   "outputs": [],
   "source": [
    "# trigrams"
   ]
  },
  {
   "cell_type": "code",
   "execution_count": 146,
   "metadata": {},
   "outputs": [],
   "source": [
    "# from sklearn.naive_bayes import MultinomialNB\n",
    "# from sklearn.metrics import accuracy_score,classification_report\n",
    "\n",
    "# clf = MultinomialNB()\n",
    "# clf.fit(X_train,y_train)\n",
    "# y_pred = clf.predict(X_test)\n",
    "\n",
    "\n",
    "# clf_report = classification_report(y_test , y_pred)\n",
    "# print(F'ACC { accuracy_score(y_test,y_pred)}')\n",
    "# print(clf_report)"
   ]
  },
  {
   "cell_type": "code",
   "execution_count": 122,
   "metadata": {},
   "outputs": [
    {
     "name": "stdout",
     "output_type": "stream",
     "text": [
      "ACC 0.8225\n",
      "              precision    recall  f1-score   support\n",
      "\n",
      "           0       0.82      0.83      0.82       200\n",
      "           1       0.83      0.81      0.82       200\n",
      "\n",
      "    accuracy                           0.82       400\n",
      "   macro avg       0.82      0.82      0.82       400\n",
      "weighted avg       0.82      0.82      0.82       400\n",
      "\n"
     ]
    }
   ],
   "source": [
    "from sklearn.naive_bayes import MultinomialNB\n",
    "from sklearn.metrics import accuracy_score,classification_report\n",
    "\n",
    "clf = MultinomialNB()\n",
    "clf.fit(X_train,y_train)\n",
    "y_pred = clf.predict(X_test)\n",
    "\n",
    "\n",
    "clf_report = classification_report(y_test , y_pred)\n",
    "print(F'ACC { accuracy_score(y_test,y_pred)}')\n",
    "print(clf_report)"
   ]
  },
  {
   "cell_type": "code",
   "execution_count": 149,
   "metadata": {},
   "outputs": [
    {
     "name": "stdout",
     "output_type": "stream",
     "text": [
      "ACC 0.8\n",
      "              precision    recall  f1-score   support\n",
      "\n",
      "           0       0.78      0.84      0.81       200\n",
      "           1       0.83      0.76      0.79       200\n",
      "\n",
      "    accuracy                           0.80       400\n",
      "   macro avg       0.80      0.80      0.80       400\n",
      "weighted avg       0.80      0.80      0.80       400\n",
      "\n"
     ]
    }
   ],
   "source": [
    "rf = RandomForestClassifier(n_estimators = 50)\n",
    "rf.fit(X_train,y_train)\n",
    "y_pred_rf = rf.predict(X_test)\n",
    "\n",
    "\n",
    "clf_report = classification_report(y_test , y_pred_rf)\n",
    "print(F'ACC { accuracy_score(y_test,y_pred_rf)}')\n",
    "print(clf_report)"
   ]
  },
  {
   "cell_type": "code",
   "execution_count": 148,
   "metadata": {},
   "outputs": [
    {
     "name": "stdout",
     "output_type": "stream",
     "text": [
      "ACC 0.835\n",
      "              precision    recall  f1-score   support\n",
      "\n",
      "           0       0.81      0.88      0.84       200\n",
      "           1       0.87      0.79      0.83       200\n",
      "\n",
      "    accuracy                           0.83       400\n",
      "   macro avg       0.84      0.83      0.83       400\n",
      "weighted avg       0.84      0.83      0.83       400\n",
      "\n"
     ]
    }
   ],
   "source": [
    "rf = RandomForestClassifier(n_estimators = 300)\n",
    "rf.fit(X_train,y_train)\n",
    "y_pred_rf = rf.predict(X_test)\n",
    "\n",
    "\n",
    "clf_report = classification_report(y_test , y_pred_rf)\n",
    "print(F'ACC { accuracy_score(y_test,y_pred_rf)}')\n",
    "print(clf_report)"
   ]
  },
  {
   "cell_type": "code",
   "execution_count": null,
   "metadata": {},
   "outputs": [],
   "source": []
  },
  {
   "cell_type": "code",
   "execution_count": null,
   "metadata": {},
   "outputs": [],
   "source": []
  }
 ],
 "metadata": {
  "kernelspec": {
   "display_name": "Python 3",
   "language": "python",
   "name": "python3"
  },
  "language_info": {
   "codemirror_mode": {
    "name": "ipython",
    "version": 3
   },
   "file_extension": ".py",
   "mimetype": "text/x-python",
   "name": "python",
   "nbconvert_exporter": "python",
   "pygments_lexer": "ipython3",
   "version": "3.8.5"
  }
 },
 "nbformat": 4,
 "nbformat_minor": 4
}
